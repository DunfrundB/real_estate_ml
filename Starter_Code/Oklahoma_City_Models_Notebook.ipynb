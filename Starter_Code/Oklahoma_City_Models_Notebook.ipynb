{
 "cells": [
  {
   "cell_type": "code",
   "execution_count": 38,
   "id": "695101dd-0887-4a40-bbb5-6a7e20d45c6d",
   "metadata": {},
   "outputs": [],
   "source": [
    "# Initial imports\n",
    "import pandas as pd\n",
    "from pathlib import Path\n",
    "import numpy as np\n",
    "import matplotlib.pyplot as plt\n",
    "from sklearn import tree\n",
    "from sklearn.preprocessing import StandardScaler\n",
    "from sklearn.model_selection import train_test_split\n",
    "from sklearn.metrics import confusion_matrix, accuracy_score, classification_report\n",
    "from matplotlib import style\n",
    "style.use(\"ggplot\")\n",
    "from sklearn.linear_model import LinearRegression\n",
    "%matplotlib inline\n",
    "from sklearn.linear_model import LogisticRegression\n",
    "from sklearn.ensemble import GradientBoostingClassifier\n",
    "import lazypredict\n",
    "\n",
    "\n",
    "\n",
    "# Needed for decision tree visualization\n",
    "import pydotplus\n",
    "from IPython.display import Image"
   ]
  },
  {
   "cell_type": "code",
   "execution_count": null,
   "id": "6df95cb2-0227-4a14-94c2-c6ecfc2e062a",
   "metadata": {},
   "outputs": [],
   "source": []
  },
  {
   "cell_type": "code",
   "execution_count": 39,
   "id": "845c4460-f709-42bd-9b8e-b54e025186d0",
   "metadata": {},
   "outputs": [],
   "source": [
    "#file_path = Path(\"../Resources/metro_2br.csv\")\n",
    "#metro_df = pd.read_csv(file_path)\n",
    "#metro_df.drop(columns='indicator_id', inplace=True)\n",
    "#metro_df.head()\n",
    "\n",
    "\n",
    "#metro_df.set_index(pd.to_datetime(metro_df['date']), inplace=True)\n",
    "#metro_df.drop('date', axis=1, inplace=True)\n",
    "#metro_df.head()"
   ]
  },
  {
   "cell_type": "markdown",
   "id": "eaac8d4e-2ac9-4068-ad4c-2873b88414a4",
   "metadata": {},
   "source": [
    "### Oklahoma City Condo Regression"
   ]
  },
  {
   "cell_type": "code",
   "execution_count": 40,
   "id": "52609849-0150-47c3-b697-4ceda5703c44",
   "metadata": {},
   "outputs": [
    {
     "data": {
      "text/html": [
       "<div>\n",
       "<style scoped>\n",
       "    .dataframe tbody tr th:only-of-type {\n",
       "        vertical-align: middle;\n",
       "    }\n",
       "\n",
       "    .dataframe tbody tr th {\n",
       "        vertical-align: top;\n",
       "    }\n",
       "\n",
       "    .dataframe thead th {\n",
       "        text-align: right;\n",
       "    }\n",
       "</style>\n",
       "<table border=\"1\" class=\"dataframe\">\n",
       "  <thead>\n",
       "    <tr style=\"text-align: right;\">\n",
       "      <th></th>\n",
       "      <th>value</th>\n",
       "      <th>region</th>\n",
       "      <th>change</th>\n",
       "      <th>lagged_change</th>\n",
       "    </tr>\n",
       "    <tr>\n",
       "      <th>date</th>\n",
       "      <th></th>\n",
       "      <th></th>\n",
       "      <th></th>\n",
       "      <th></th>\n",
       "    </tr>\n",
       "  </thead>\n",
       "  <tbody>\n",
       "    <tr>\n",
       "      <th>1996-01-31</th>\n",
       "      <td>44554.0</td>\n",
       "      <td>Oklahoma City, OK</td>\n",
       "      <td>-51.769902</td>\n",
       "      <td>-5.349440</td>\n",
       "    </tr>\n",
       "    <tr>\n",
       "      <th>1996-02-29</th>\n",
       "      <td>44594.0</td>\n",
       "      <td>Oklahoma City, OK</td>\n",
       "      <td>0.089779</td>\n",
       "      <td>-51.769902</td>\n",
       "    </tr>\n",
       "    <tr>\n",
       "      <th>1996-03-31</th>\n",
       "      <td>44806.0</td>\n",
       "      <td>Oklahoma City, OK</td>\n",
       "      <td>0.475400</td>\n",
       "      <td>0.089779</td>\n",
       "    </tr>\n",
       "    <tr>\n",
       "      <th>1996-04-30</th>\n",
       "      <td>45095.0</td>\n",
       "      <td>Oklahoma City, OK</td>\n",
       "      <td>0.645003</td>\n",
       "      <td>0.475400</td>\n",
       "    </tr>\n",
       "    <tr>\n",
       "      <th>1996-05-31</th>\n",
       "      <td>45509.0</td>\n",
       "      <td>Oklahoma City, OK</td>\n",
       "      <td>0.918062</td>\n",
       "      <td>0.645003</td>\n",
       "    </tr>\n",
       "  </tbody>\n",
       "</table>\n",
       "</div>"
      ],
      "text/plain": [
       "              value             region     change  lagged_change\n",
       "date                                                            \n",
       "1996-01-31  44554.0  Oklahoma City, OK -51.769902      -5.349440\n",
       "1996-02-29  44594.0  Oklahoma City, OK   0.089779     -51.769902\n",
       "1996-03-31  44806.0  Oklahoma City, OK   0.475400       0.089779\n",
       "1996-04-30  45095.0  Oklahoma City, OK   0.645003       0.475400\n",
       "1996-05-31  45509.0  Oklahoma City, OK   0.918062       0.645003"
      ]
     },
     "execution_count": 40,
     "metadata": {},
     "output_type": "execute_result"
    }
   ],
   "source": [
    "file_path = Path(\"../Resources/okc_condo.csv\")\n",
    "metro_df = pd.read_csv(file_path)\n",
    "metro_df = metro_df.drop('indicator_id',axis=1)\n",
    "metro_df = metro_df.drop('region_id',axis=1)\n",
    "metro_df = metro_df.sort_values('date')\n",
    "metro_df['date'] = pd.to_datetime(metro_df['date'])\n",
    "metro_df = metro_df.set_index('date')\n",
    "metro_df = metro_df.dropna()\n",
    "metro_df.head()"
   ]
  },
  {
   "cell_type": "code",
   "execution_count": 41,
   "id": "e3dcf498-dbfa-4288-80a3-ae3dbb423203",
   "metadata": {},
   "outputs": [
    {
     "data": {
      "text/plain": [
       "<AxesSubplot:xlabel='date'>"
      ]
     },
     "execution_count": 41,
     "metadata": {},
     "output_type": "execute_result"
    },
    {
     "data": {
      "image/png": "[encoded data removed]",
      "text/plain": [
       "<Figure size 432x288 with 1 Axes>"
      ]
     },
     "metadata": {
      "needs_background": "light"
     },
     "output_type": "display_data"
    }
   ],
   "source": [
    "metro_df.plot()"
   ]
  },
  {
   "cell_type": "code",
   "execution_count": 42,
   "id": "a3c4428e-d24c-4948-a5fa-52581c67d71c",
   "metadata": {},
   "outputs": [
    {
     "data": {
      "text/plain": [
       "LinearRegression()"
      ]
     },
     "execution_count": 42,
     "metadata": {},
     "output_type": "execute_result"
    }
   ],
   "source": [
    "#Build Linear Regression\n",
    "from sklearn.linear_model import LinearRegression\n",
    "model = LinearRegression()\n",
    "model"
   ]
  },
  {
   "cell_type": "code",
   "execution_count": 43,
   "id": "f27285ac-0733-4607-aa8a-73e2f5a3586d",
   "metadata": {},
   "outputs": [],
   "source": [
    "# Separate the data into the X and y components\n",
    "# In this case, y will be the `value` and X will be the remainign columns\n",
    "\n",
    "#X = metro_df.drop(columns='value', axis=1)\n",
    "X = metro_df.lagged_change.to_frame()\n",
    "y = metro_df.change.values"
   ]
  },
  {
   "cell_type": "code",
   "execution_count": 44,
   "id": "a715b377-0b42-4171-a986-cbd722bd1163",
   "metadata": {},
   "outputs": [
    {
     "data": {
      "text/plain": [
       "LinearRegression()"
      ]
     },
     "execution_count": 44,
     "metadata": {},
     "output_type": "execute_result"
    }
   ],
   "source": [
    "# Fit the model to the data\n",
    "\n",
    "model.fit(X, y)"
   ]
  },
  {
   "cell_type": "code",
   "execution_count": 45,
   "id": "a1e3f7b3-79a7-4f02-a0fc-9c23ef8e8526",
   "metadata": {},
   "outputs": [
    {
     "data": {
      "text/plain": [
       "array([-0.50552537, -5.45094454,  0.07394359,  0.11502591,  0.13309458,\n",
       "        0.16218501,  0.09364114,  0.09893048,  0.07252353,  0.1148366 ,\n",
       "        0.12455013,  0.14308267,  0.11486425,  0.08165855,  0.07845264,\n",
       "        0.05327093,  0.06256353,  0.02692888,  0.11722186,  0.10381553,\n",
       "        0.12534793,  0.06617519,  0.0527056 ,  0.04370342,  0.09342609,\n",
       "        0.12186611,  0.15282712,  0.12795373,  0.14695427,  0.11550965,\n",
       "        0.10656689,  0.11896361,  0.14282154,  0.14224818,  0.11980862,\n",
       "        0.08170352,  0.05615264,  0.0880216 ,  0.09786874,  0.11708079,\n",
       "        0.08130262,  0.1175726 ,  0.11502509,  0.08111228,  0.05674737,\n",
       "        0.06004442,  0.10712279,  0.12957532,  0.12754344,  0.10481795,\n",
       "        0.0787524 ,  0.08055256,  0.07063674,  0.07608018,  0.0722384 ,\n",
       "        0.10143195,  0.10752451,  0.10455234,  0.07891449,  0.07452009,\n",
       "        0.10430887,  0.11029512,  0.11620709,  0.09203063,  0.11719187,\n",
       "        0.11050829,  0.11089081,  0.09949713,  0.09111186,  0.09833493,\n",
       "        0.09249008,  0.10157108,  0.08604641,  0.08676115,  0.09485334,\n",
       "        0.11911412,  0.11301325,  0.10606298,  0.11874799,  0.12958693,\n",
       "        0.1337933 ,  0.1064531 ,  0.11521595,  0.10844606,  0.12506024,\n",
       "        0.11879055,  0.12244466,  0.12746075,  0.12514629,  0.12655811,\n",
       "        0.07992088,  0.07989824,  0.09380527,  0.13869707,  0.13904442,\n",
       "        0.12825052,  0.11255036,  0.10250538,  0.09088787,  0.07701103,\n",
       "        0.08557569,  0.09040252,  0.13606243,  0.13075873,  0.12704099,\n",
       "        0.10152623,  0.0984488 ,  0.10797342,  0.11251144,  0.12443582,\n",
       "        0.13246965,  0.11908139,  0.1226211 ,  0.11486591,  0.09903333,\n",
       "        0.10582937,  0.1001947 ,  0.10973904,  0.0954221 ,  0.09208185,\n",
       "        0.08460057,  0.08332969,  0.09144729,  0.11132166,  0.09981338,\n",
       "        0.10624172,  0.1001642 ,  0.10729839,  0.09975078,  0.09918367,\n",
       "        0.10011705,  0.09642081,  0.10583415,  0.13793941,  0.12494049,\n",
       "        0.12503665,  0.09010338,  0.10642477,  0.1101587 ,  0.10593649,\n",
       "        0.10692092,  0.08963142,  0.10707852,  0.10804217,  0.10038114,\n",
       "        0.05832848,  0.03960005,  0.03432093,  0.05801072,  0.05857332,\n",
       "        0.04482732,  0.03627502,  0.02965421,  0.05081488,  0.0722419 ,\n",
       "        0.05137903,  0.05336559,  0.02844101,  0.0520239 ,  0.05114657,\n",
       "        0.07949998,  0.05344978,  0.07632709,  0.07199995,  0.09397892,\n",
       "        0.08128731,  0.04306248,  0.09433927,  0.07938859,  0.09663992,\n",
       "        0.0817416 ,  0.07801914,  0.08240071,  0.08024532,  0.06932984,\n",
       "        0.05476465,  0.03211356,  0.03158971,  0.02237596, -0.01195456,\n",
       "        0.01297872,  0.05049005,  0.06843521,  0.04787064,  0.00622002,\n",
       "        0.00765075,  0.01497087,  0.03727676,  0.05300836,  0.06097894,\n",
       "        0.07798352,  0.0608345 ,  0.0516737 ,  0.01837825,  0.03570811,\n",
       "        0.05410112,  0.09658425,  0.11001426,  0.10241886,  0.09048444,\n",
       "        0.06967559,  0.05629097,  0.06791098,  0.11807697,  0.11488007,\n",
       "        0.12352886,  0.07495558,  0.09202456,  0.06538955,  0.05687263,\n",
       "        0.0662569 ,  0.08532122,  0.11670394,  0.12032111,  0.09962393,\n",
       "        0.0710634 ,  0.08100847,  0.09261925,  0.10825505,  0.0825622 ,\n",
       "        0.07605833,  0.08040293,  0.08290516,  0.08469438,  0.08004101,\n",
       "        0.08392778,  0.11121015,  0.09463051,  0.08347481,  0.06907534,\n",
       "        0.09903382,  0.12713344,  0.13237531,  0.13031272,  0.11518022,\n",
       "        0.09624801,  0.07885827,  0.07375097,  0.04846062,  0.05942217,\n",
       "        0.07000826,  0.09398404,  0.09790965,  0.0850202 ,  0.07607521,\n",
       "        0.06942409,  0.06636953,  0.08945517,  0.09482332,  0.09896023,\n",
       "        0.08687616,  0.09641258,  0.09474585,  0.09818356,  0.07608859,\n",
       "        0.05944036,  0.09129399,  0.09356071,  0.12310036,  0.0841885 ,\n",
       "        0.08145545,  0.09399065,  0.12343815,  0.13099455,  0.10379674,\n",
       "        0.05267277,  0.02329917,  0.05350003,  0.06881099,  0.10311128,\n",
       "        0.04647028,  0.05856781,  0.0277233 ,  0.03812407,  0.05077408,\n",
       "        0.07239959,  0.10750503,  0.0945342 ,  0.12186594,  0.09114602,\n",
       "        0.09082824,  0.06400386,  0.12452605,  0.13475761,  0.16344829,\n",
       "        0.1342635 ,  0.11556925,  0.09475265,  0.08078964,  0.11257139,\n",
       "       -0.19082732,  0.26104667, -0.25196166,  0.27917275, -0.02663953,\n",
       "       -0.48388791,  0.35321833,  0.02206496,  0.41106484, -0.09009644,\n",
       "       -0.1270417 ,  1.01393951,  0.36936753])"
      ]
     },
     "execution_count": 45,
     "metadata": {},
     "output_type": "execute_result"
    }
   ],
   "source": [
    "predicted_y_values = model.predict(X)\n",
    "predicted_y_values"
   ]
  },
  {
   "cell_type": "code",
   "execution_count": 46,
   "id": "646caf4e-6a40-4d42-9fbe-57694df4da8a",
   "metadata": {},
   "outputs": [
    {
     "data": {
      "text/plain": [
       "0.06437898469710654"
      ]
     },
     "execution_count": 46,
     "metadata": {},
     "output_type": "execute_result"
    }
   ],
   "source": [
    "#Extracting coef, intercept\n",
    "\n",
    "model.coef_\n",
    "model.intercept_\n"
   ]
  },
  {
   "cell_type": "code",
   "execution_count": 47,
   "id": "bdf4db68-9fe3-4403-97f0-564199fe18ff",
   "metadata": {},
   "outputs": [
    {
     "data": {
      "text/plain": [
       "[<matplotlib.lines.Line2D at 0x27445f84cc8>]"
      ]
     },
     "execution_count": 47,
     "metadata": {},
     "output_type": "execute_result"
    },
    {
     "data": {
      "image/png": "[encoded data removed]",
      "text/plain": [
       "<Figure size 432x288 with 1 Axes>"
      ]
     },
     "metadata": {
      "needs_background": "light"
     },
     "output_type": "display_data"
    }
   ],
   "source": [
    "#Plotting Results\n",
    "\n",
    "plt.scatter(X, y)\n",
    "plt.plot(X, predicted_y_values, color='red')"
   ]
  },
  {
   "cell_type": "code",
   "execution_count": 48,
   "id": "2f294756-e05f-4df6-83b6-47faf37ac8c2",
   "metadata": {},
   "outputs": [],
   "source": [
    "#Metrics - score, R2, mse, rmse, std\n",
    "\n",
    "from sklearn.metrics import mean_squared_error, r2_score\n",
    "\n",
    "score = model.score(X, y, sample_weight=None)\n",
    "r2 = r2_score(y, predicted_y_values)\n",
    "mse = mean_squared_error(y, predicted_y_values)\n",
    "rmse = np.sqrt(mse)\n",
    "std = np.std(y)"
   ]
  },
  {
   "cell_type": "code",
   "execution_count": 49,
   "id": "7465aeba-8643-4f5b-ac08-dbb7bb6c707e",
   "metadata": {},
   "outputs": [
    {
     "name": "stdout",
     "output_type": "stream",
     "text": [
      "Score: 0.011372961910893209\n",
      "R-squared (R2 ): 0.011372961910893209\n",
      "Mean Squared Error (MSE): 9.468297309185614\n",
      "Root Mean Squared Error (RMSE): 3.0770598481644154\n",
      "Standard Deviation: 3.094708169137854\n"
     ]
    }
   ],
   "source": [
    "# Print the score, r2, mse, rmse, and standard deviation\n",
    "print(f\"Score: {score}\")\n",
    "print(f\"R-squared (R2 ): {r2}\")\n",
    "print(f\"Mean Squared Error (MSE): {mse}\")\n",
    "print(f\"Root Mean Squared Error (RMSE): {rmse}\")\n",
    "print(f\"Standard Deviation: {np.std(y)}\")"
   ]
  },
  {
   "cell_type": "code",
   "execution_count": null,
   "id": "a0cd2ff7-19b0-44cd-9028-3e9a10472826",
   "metadata": {},
   "outputs": [],
   "source": []
  },
  {
   "cell_type": "code",
   "execution_count": null,
   "id": "db325dc7-e262-4da1-9a13-692d86d49679",
   "metadata": {},
   "outputs": [],
   "source": []
  },
  {
   "cell_type": "code",
   "execution_count": 50,
   "id": "20479d61-8892-4b63-bd8d-73ab1885c8be",
   "metadata": {},
   "outputs": [],
   "source": [
    "#Build Logistic Regression\n",
    "\n",
    "#train test split\n",
    "\n",
    "from sklearn.model_selection import train_test_split\n",
    "\n",
    "X_train, X_test, y_train, y_test = train_test_split(X, y, random_state=78)"
   ]
  },
  {
   "cell_type": "code",
   "execution_count": 51,
   "id": "169dd0b7-44c9-473d-9bfc-0be635688e84",
   "metadata": {},
   "outputs": [],
   "source": [
    "#Create Model\n",
    "#classifier = LogisticRegression(solver='lbfgs', warm_start=True, random_state=78)\n",
    "#classifier"
   ]
  },
  {
   "cell_type": "code",
   "execution_count": 52,
   "id": "ec154b37-b0b0-4940-abb4-19e4c9f1e02f",
   "metadata": {},
   "outputs": [],
   "source": [
    "# Train the data\n",
    "#classifier.fit(X_train, y_train)"
   ]
  },
  {
   "cell_type": "code",
   "execution_count": 53,
   "id": "a2a245d3-7241-4bfe-bc87-84bba3fcc5cf",
   "metadata": {},
   "outputs": [],
   "source": [
    "# Score the model\n",
    "#print(f\"Training Data Score: {classifier.score(X_train, y_train)}\")\n",
    "#print(f\"Testing Data Score: {classifier.score(X_test, y_test)}\")"
   ]
  },
  {
   "cell_type": "code",
   "execution_count": 54,
   "id": "2f526217-4875-46dc-b773-102a6553534f",
   "metadata": {},
   "outputs": [],
   "source": [
    "# Predict outcomes for test data set\n",
    "#predictions = classifier.predict(X_test)\n",
    "#pd.DataFrame({\"Prediction\": predictions, \"Actual\": y_test}).reset_index(drop=True)"
   ]
  },
  {
   "cell_type": "code",
   "execution_count": 55,
   "id": "f63fc2a5-bc84-45f5-8209-a12031626481",
   "metadata": {},
   "outputs": [],
   "source": [
    "#Confusion Matrix\n",
    "#from sklearn.metrics import confusion matrix\n",
    "#confusion_matrix(y_test, predictions)"
   ]
  },
  {
   "cell_type": "code",
   "execution_count": 56,
   "id": "0a3b9dd2-9c7d-4062-ab43-07c1a34a4032",
   "metadata": {},
   "outputs": [],
   "source": [
    "#Classification Report\n",
    "#from sklearn.metrics import classsification report\n",
    "#print(classification_report(y_test, predictions))"
   ]
  },
  {
   "cell_type": "code",
   "execution_count": null,
   "id": "ba51b342-217d-479f-8bbb-77404c7be9b1",
   "metadata": {},
   "outputs": [],
   "source": []
  },
  {
   "cell_type": "code",
   "execution_count": null,
   "id": "f498d41c-40c7-4fcf-876f-56df4cb281dc",
   "metadata": {},
   "outputs": [],
   "source": []
  },
  {
   "cell_type": "code",
   "execution_count": 57,
   "id": "8c1f287a-a1a3-4513-a302-f100f5814376",
   "metadata": {},
   "outputs": [],
   "source": [
    "#Build LSTM Model\n",
    "\n",
    "def window_data(df, window, feature_col_number, target_col_number):\n",
    "    X = []\n",
    "    y = []\n",
    "    for i in range(len(df) - window - 1):\n",
    "        features = df.iloc[i:(i + window), feature_col_number]\n",
    "        target = df.iloc[(i + window), target_col_number]\n",
    "        X.append(features)\n",
    "        y.append(target)\n",
    "    return np.array(X), np.array(y).reshape(-1, 1)"
   ]
  },
  {
   "cell_type": "code",
   "execution_count": 58,
   "id": "e869d375-9a1e-43a6-b753-5fe71d7135b2",
   "metadata": {},
   "outputs": [],
   "source": [
    "# Predict Percent Change of Housing Prices using a 10 month window of previous fng values\n",
    "# Then, experiment with window sizes anywhere from 1 to 10 and see how the model performance changes\n",
    "window_size = 3\n",
    "\n",
    "# Column index 0 is the 'fng_value' column\n",
    "# Column index 1 is the `Close` column\n",
    "feature_column = 3\n",
    "target_column = 2\n",
    "X, y = window_data(metro_df, window_size, feature_column, target_column)"
   ]
  },
  {
   "cell_type": "code",
   "execution_count": 59,
   "id": "5ae36ef7-f7be-4fb5-a768-c58395e2cacd",
   "metadata": {},
   "outputs": [],
   "source": [
    "# Use 70% of the data for training and the remaineder for testing\n",
    "split = int(0.8 * len(X))\n",
    "\n",
    "X_train = X[: split]\n",
    "X_test = X[split:]\n",
    "y_train = y [: split]\n",
    "y_test = y[split:]"
   ]
  },
  {
   "cell_type": "code",
   "execution_count": 60,
   "id": "173af09f-abae-4134-aa8b-f60c729d3438",
   "metadata": {},
   "outputs": [],
   "source": [
    "from sklearn.preprocessing import MinMaxScaler\n",
    "# Use the MinMaxScaler to scale data between 0 and 1.\n",
    "#scaler = MinMaxScaler()\n",
    "#scaler.fit(X)\n",
    "#X_train = scaler.transform(X_train)\n",
    "#X_test = scaler.transform(X_test)\n",
    "#scaler.fit(y)\n",
    "#y_train = scaler.transform(y_train)\n",
    "#y_test = scaler.transform(y_test)\n"
   ]
  },
  {
   "cell_type": "code",
   "execution_count": 61,
   "id": "ed3ecea9-3fc2-4991-ae2a-21756334777f",
   "metadata": {},
   "outputs": [],
   "source": [
    "# Reshape the features for the model\n",
    "X_train = X_train.reshape((X_train.shape[0], X_train.shape[1], 1))\n",
    "X_test = X_test.reshape((X_test.shape[0], X_test.shape[1], 1))"
   ]
  },
  {
   "cell_type": "code",
   "execution_count": 62,
   "id": "8a287fed-9b4f-4b5b-951c-8789a4276a89",
   "metadata": {},
   "outputs": [],
   "source": [
    "from tensorflow.keras.models import Sequential\n",
    "from tensorflow.keras.layers import LSTM, Dense, Dropout"
   ]
  },
  {
   "cell_type": "code",
   "execution_count": 63,
   "id": "34fd519a-f2c3-402a-b7fc-c5fa44259fe8",
   "metadata": {},
   "outputs": [],
   "source": [
    "# Build the LSTM model. \n",
    "# The return sequences need to be set to True if you are adding additional LSTM layers, but \n",
    "# You don't have to do this for the final layer. \n",
    "# Note: The dropouts help prevent overfitting\n",
    "# Note: The input shape is the number of time steps and the number of indicators\n",
    "# Note: Batching inputs has a different input shape of Samples/TimeSteps/Features\n",
    "\n",
    "model = Sequential()\n",
    "\n",
    "number_units = 10\n",
    "dropout_fraction = 0.2\n",
    "\n",
    "\n",
    "# Layer 1\n",
    "model.add(LSTM(\n",
    "    units=number_units,\n",
    "    return_sequences=True,\n",
    "    input_shape=(X_train.shape[1], 1))\n",
    "    )\n",
    "model.add(Dropout(dropout_fraction))\n",
    "\n",
    "# Layer 2\n",
    "model.add(LSTM(units=number_units, return_sequences=True))\n",
    "model.add(Dropout(dropout_fraction))\n",
    "\n",
    "# Layer 3\n",
    "model.add(LSTM(units=number_units))\n",
    "model.add(Dropout(dropout_fraction))\n",
    "\n",
    "# Output layer\n",
    "model.add(Dense(1))"
   ]
  },
  {
   "cell_type": "code",
   "execution_count": 64,
   "id": "108d1b2b-0003-4d81-bfde-538877c71196",
   "metadata": {},
   "outputs": [],
   "source": [
    "# Compile the model\n",
    "model.compile(optimizer='adam', loss=\"mean_squared_error\")"
   ]
  },
  {
   "cell_type": "code",
   "execution_count": 65,
   "id": "dce4419a-7802-4085-9aaf-f4fed73207be",
   "metadata": {},
   "outputs": [
    {
     "name": "stdout",
     "output_type": "stream",
     "text": [
      "Model: \"sequential_1\"\n",
      "_________________________________________________________________\n",
      "Layer (type)                 Output Shape              Param #   \n",
      "=================================================================\n",
      "lstm_3 (LSTM)                (None, 3, 10)             480       \n",
      "_________________________________________________________________\n",
      "dropout_3 (Dropout)          (None, 3, 10)             0         \n",
      "_________________________________________________________________\n",
      "lstm_4 (LSTM)                (None, 3, 10)             840       \n",
      "_________________________________________________________________\n",
      "dropout_4 (Dropout)          (None, 3, 10)             0         \n",
      "_________________________________________________________________\n",
      "lstm_5 (LSTM)                (None, 10)                840       \n",
      "_________________________________________________________________\n",
      "dropout_5 (Dropout)          (None, 10)                0         \n",
      "_________________________________________________________________\n",
      "dense_1 (Dense)              (None, 1)                 11        \n",
      "=================================================================\n",
      "Total params: 2,171\n",
      "Trainable params: 2,171\n",
      "Non-trainable params: 0\n",
      "_________________________________________________________________\n"
     ]
    }
   ],
   "source": [
    "# Summarize the model\n",
    "model.summary()"
   ]
  },
  {
   "cell_type": "code",
   "execution_count": 66,
   "id": "4b21713b-0f3c-44f2-83ec-448f4db60f4f",
   "metadata": {},
   "outputs": [
    {
     "name": "stdout",
     "output_type": "stream",
     "text": [
      "Epoch 1/10\n",
      "239/239 [==============================] - 4s 2ms/step - loss: 0.0947\n",
      "Epoch 2/10\n",
      "239/239 [==============================] - 1s 2ms/step - loss: 0.0804\n",
      "Epoch 3/10\n",
      "239/239 [==============================] - 1s 2ms/step - loss: 0.0786\n",
      "Epoch 4/10\n",
      "239/239 [==============================] - 1s 2ms/step - loss: 0.0771\n",
      "Epoch 5/10\n",
      "239/239 [==============================] - 1s 2ms/step - loss: 0.0781\n",
      "Epoch 6/10\n",
      "239/239 [==============================] - 1s 2ms/step - loss: 0.0776\n",
      "Epoch 7/10\n",
      "239/239 [==============================] - 1s 2ms/step - loss: 0.0799\n",
      "Epoch 8/10\n",
      "239/239 [==============================] - 1s 2ms/step - loss: 0.0742\n",
      "Epoch 9/10\n",
      "239/239 [==============================] - 1s 2ms/step - loss: 0.0741\n",
      "Epoch 10/10\n",
      "239/239 [==============================] - 1s 2ms/step - loss: 0.0745\n"
     ]
    },
    {
     "data": {
      "text/plain": [
       "<tensorflow.python.keras.callbacks.History at 0x27446019288>"
      ]
     },
     "execution_count": 66,
     "metadata": {},
     "output_type": "execute_result"
    }
   ],
   "source": [
    "# Train the model\n",
    "# Use at least 10 epochs\n",
    "# Do not shuffle the data\n",
    "# Experiement with the batch size, but a smaller batch size is recommended\n",
    "model.fit(X_train, y_train, epochs=10, shuffle=False, batch_size=1, verbose=1)"
   ]
  },
  {
   "cell_type": "code",
   "execution_count": 67,
   "id": "cf391f41-edce-4fa4-a72f-8e8d5bdd2b5e",
   "metadata": {},
   "outputs": [
    {
     "name": "stdout",
     "output_type": "stream",
     "text": [
      "2/2 [==============================] - 1s 2ms/step - loss: 1.9001\n"
     ]
    },
    {
     "data": {
      "text/plain": [
       "1.9001432657241821"
      ]
     },
     "execution_count": 67,
     "metadata": {},
     "output_type": "execute_result"
    }
   ],
   "source": [
    "# Evaluate the model\n",
    "model.evaluate(X_test, y_test)"
   ]
  },
  {
   "cell_type": "code",
   "execution_count": 68,
   "id": "09974f9a-6d29-4890-8b08-8b264f395073",
   "metadata": {},
   "outputs": [],
   "source": [
    "# Make some predictions\n",
    "predicted = model.predict(X_test)"
   ]
  },
  {
   "cell_type": "code",
   "execution_count": 69,
   "id": "f93b039a-fd71-4542-bab5-0ac63486abb5",
   "metadata": {},
   "outputs": [],
   "source": [
    "# Recover the original prices instead of the scaled version\n",
    "predicted_prices = scaler.inverse_transform(predicted)\n",
    "real_prices = scaler.inverse_transform(y_test.reshape(-1, 1))"
   ]
  },
  {
   "cell_type": "code",
   "execution_count": 70,
   "id": "28c63dfe-e912-4f8d-89dc-cccf82ab8bdd",
   "metadata": {},
   "outputs": [
    {
     "data": {
      "text/html": [
       "<div>\n",
       "<style scoped>\n",
       "    .dataframe tbody tr th:only-of-type {\n",
       "        vertical-align: middle;\n",
       "    }\n",
       "\n",
       "    .dataframe tbody tr th {\n",
       "        vertical-align: top;\n",
       "    }\n",
       "\n",
       "    .dataframe thead th {\n",
       "        text-align: right;\n",
       "    }\n",
       "</style>\n",
       "<table border=\"1\" class=\"dataframe\">\n",
       "  <thead>\n",
       "    <tr style=\"text-align: right;\">\n",
       "      <th></th>\n",
       "      <th>Real</th>\n",
       "      <th>Predicted</th>\n",
       "    </tr>\n",
       "    <tr>\n",
       "      <th>date</th>\n",
       "      <th></th>\n",
       "      <th></th>\n",
       "    </tr>\n",
       "  </thead>\n",
       "  <tbody>\n",
       "    <tr>\n",
       "      <th>2021-01-31</th>\n",
       "      <td>11.996969</td>\n",
       "      <td>-4.849427</td>\n",
       "    </tr>\n",
       "    <tr>\n",
       "      <th>2021-02-28</th>\n",
       "      <td>19.280959</td>\n",
       "      <td>-3.683111</td>\n",
       "    </tr>\n",
       "    <tr>\n",
       "      <th>2021-03-31</th>\n",
       "      <td>-51.374026</td>\n",
       "      <td>-2.392053</td>\n",
       "    </tr>\n",
       "    <tr>\n",
       "      <th>2021-04-30</th>\n",
       "      <td>-17.824634</td>\n",
       "      <td>-3.450474</td>\n",
       "    </tr>\n",
       "    <tr>\n",
       "      <th>2021-05-31</th>\n",
       "      <td>-20.808275</td>\n",
       "      <td>-3.254327</td>\n",
       "    </tr>\n",
       "  </tbody>\n",
       "</table>\n",
       "</div>"
      ],
      "text/plain": [
       "                 Real  Predicted\n",
       "date                            \n",
       "2021-01-31  11.996969  -4.849427\n",
       "2021-02-28  19.280959  -3.683111\n",
       "2021-03-31 -51.374026  -2.392053\n",
       "2021-04-30 -17.824634  -3.450474\n",
       "2021-05-31 -20.808275  -3.254327"
      ]
     },
     "execution_count": 70,
     "metadata": {},
     "output_type": "execute_result"
    }
   ],
   "source": [
    "# Create a DataFrame of Real and Predicted values\n",
    "housing = pd.DataFrame({\n",
    "    \"Real\": real_prices.ravel(),\n",
    "    \"Predicted\": predicted_prices.ravel()\n",
    "}, index = metro_df.index[-len(real_prices): ]) \n",
    "\n",
    "housing.tail()"
   ]
  },
  {
   "cell_type": "code",
   "execution_count": 71,
   "id": "f63434aa-8196-43e4-96ea-ee93c03e1a16",
   "metadata": {},
   "outputs": [
    {
     "data": {
      "text/plain": [
       "<AxesSubplot:xlabel='date'>"
      ]
     },
     "execution_count": 71,
     "metadata": {},
     "output_type": "execute_result"
    },
    {
     "data": {
      "image/png": "[encoded data removed]",
      "text/plain": [
       "<Figure size 432x288 with 1 Axes>"
      ]
     },
     "metadata": {
      "needs_background": "light"
     },
     "output_type": "display_data"
    }
   ],
   "source": [
    "# Plot the real vs predicted values as a line chart\n",
    "housing.plot()"
   ]
  },
  {
   "cell_type": "code",
   "execution_count": null,
   "id": "d74cab46-c31b-4222-860a-41231e1b5f97",
   "metadata": {},
   "outputs": [],
   "source": []
  },
  {
   "cell_type": "code",
   "execution_count": null,
   "id": "3d649de0-ef94-466e-8335-98da24d4052a",
   "metadata": {},
   "outputs": [],
   "source": []
  },
  {
   "cell_type": "code",
   "execution_count": 72,
   "id": "269fdfad-0149-46a4-885c-a149d269f633",
   "metadata": {},
   "outputs": [],
   "source": [
    "#Lazy Predict - Regression\n",
    "\n",
    "#from lazypredict.Supervised import LazyClassifier\n",
    "#from sklearn.datasets import load_breast_cancer\n",
    "#from sklearn.model_selection import train_test_split\n",
    "\n",
    "#data = load_breast_cancer()\n",
    "#X = data.data\n",
    "#y= data.target\n",
    "\n",
    "#X_train, X_test, y_train, y_test = train_test_split(X, y,test_size=.5,random_state =123)\n",
    "\n",
    "#clf = LazyClassifier(verbose=0,ignore_warnings=True, custom_metric=None)\n",
    "#models,predictions = clf.fit(X_train, X_test, y_train, y_test)\n",
    "\n",
    "#print(models)"
   ]
  },
  {
   "cell_type": "code",
   "execution_count": null,
   "id": "f21df48e-e1ad-4ef5-ade1-62717cbaa53d",
   "metadata": {},
   "outputs": [],
   "source": []
  },
  {
   "cell_type": "code",
   "execution_count": null,
   "id": "60bcd885-dbd6-4d52-bd55-658ee97d7801",
   "metadata": {},
   "outputs": [],
   "source": []
  },
  {
   "cell_type": "code",
   "execution_count": null,
   "id": "642d07e8-b864-4c2b-8f29-754941982e8b",
   "metadata": {},
   "outputs": [],
   "source": []
  }
 ],
 "metadata": {
  "kernelspec": {
   "display_name": "Python 3",
   "language": "python",
   "name": "python3"
  },
  "language_info": {
   "codemirror_mode": {
    "name": "ipython",
    "version": 3
   },
   "file_extension": ".py",
   "mimetype": "text/x-python",
   "name": "python",
   "nbconvert_exporter": "python",
   "pygments_lexer": "ipython3",
   "version": "3.7.10"
  }
 },
 "nbformat": 4,
 "nbformat_minor": 5
}
