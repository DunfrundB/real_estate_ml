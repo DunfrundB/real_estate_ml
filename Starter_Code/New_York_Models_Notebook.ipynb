{
 "cells": [
  {
   "cell_type": "code",
   "execution_count": 1,
   "id": "695101dd-0887-4a40-bbb5-6a7e20d45c6d",
   "metadata": {},
   "outputs": [],
   "source": [
    "# Initial imports\n",
    "import pandas as pd\n",
    "from pathlib import Path\n",
    "import numpy as np\n",
    "import matplotlib.pyplot as plt\n",
    "from sklearn import tree\n",
    "from sklearn.preprocessing import StandardScaler\n",
    "from sklearn.model_selection import train_test_split\n",
    "from sklearn.metrics import confusion_matrix, accuracy_score, classification_report\n",
    "from matplotlib import style\n",
    "style.use(\"ggplot\")\n",
    "from sklearn.linear_model import LinearRegression\n",
    "%matplotlib inline\n",
    "from sklearn.linear_model import LogisticRegression\n",
    "from sklearn.ensemble import GradientBoostingClassifier\n",
    "import lazypredict\n",
    "\n",
    "\n",
    "\n",
    "# Needed for decision tree visualization\n",
    "import pydotplus\n",
    "from IPython.display import Image"
   ]
  },
  {
   "cell_type": "code",
   "execution_count": null,
   "id": "6df95cb2-0227-4a14-94c2-c6ecfc2e062a",
   "metadata": {},
   "outputs": [],
   "source": []
  },
  {
   "cell_type": "code",
   "execution_count": 2,
   "id": "845c4460-f709-42bd-9b8e-b54e025186d0",
   "metadata": {},
   "outputs": [],
   "source": [
    "#file_path = Path(\"../Resources/metro_2br.csv\")\n",
    "#metro_df = pd.read_csv(file_path)\n",
    "#metro_df.drop(columns='indicator_id', inplace=True)\n",
    "#metro_df.head()\n",
    "\n",
    "\n",
    "#metro_df.set_index(pd.to_datetime(metro_df['date']), inplace=True)\n",
    "#metro_df.drop('date', axis=1, inplace=True)\n",
    "#metro_df.head()"
   ]
  },
  {
   "cell_type": "markdown",
   "id": "eaac8d4e-2ac9-4068-ad4c-2873b88414a4",
   "metadata": {},
   "source": [
    "### New York City Condo Regression"
   ]
  },
  {
   "cell_type": "code",
   "execution_count": 4,
   "id": "52609849-0150-47c3-b697-4ceda5703c44",
   "metadata": {},
   "outputs": [
    {
     "data": {
      "text/html": [
       "<div>\n",
       "<style scoped>\n",
       "    .dataframe tbody tr th:only-of-type {\n",
       "        vertical-align: middle;\n",
       "    }\n",
       "\n",
       "    .dataframe tbody tr th {\n",
       "        vertical-align: top;\n",
       "    }\n",
       "\n",
       "    .dataframe thead th {\n",
       "        text-align: right;\n",
       "    }\n",
       "</style>\n",
       "<table border=\"1\" class=\"dataframe\">\n",
       "  <thead>\n",
       "    <tr style=\"text-align: right;\">\n",
       "      <th></th>\n",
       "      <th>value</th>\n",
       "      <th>region</th>\n",
       "      <th>change</th>\n",
       "      <th>lagged_change</th>\n",
       "    </tr>\n",
       "    <tr>\n",
       "      <th>date</th>\n",
       "      <th></th>\n",
       "      <th></th>\n",
       "      <th></th>\n",
       "      <th></th>\n",
       "    </tr>\n",
       "  </thead>\n",
       "  <tbody>\n",
       "    <tr>\n",
       "      <th>1996-01-31</th>\n",
       "      <td>165513.0</td>\n",
       "      <td>New York, NY</td>\n",
       "      <td>-66.395142</td>\n",
       "      <td>-0.429796</td>\n",
       "    </tr>\n",
       "    <tr>\n",
       "      <th>1996-02-29</th>\n",
       "      <td>165142.0</td>\n",
       "      <td>New York, NY</td>\n",
       "      <td>-0.224152</td>\n",
       "      <td>-66.395142</td>\n",
       "    </tr>\n",
       "    <tr>\n",
       "      <th>1996-03-31</th>\n",
       "      <td>164931.0</td>\n",
       "      <td>New York, NY</td>\n",
       "      <td>-0.127769</td>\n",
       "      <td>-0.224152</td>\n",
       "    </tr>\n",
       "    <tr>\n",
       "      <th>1996-04-30</th>\n",
       "      <td>164561.0</td>\n",
       "      <td>New York, NY</td>\n",
       "      <td>-0.224336</td>\n",
       "      <td>-0.127769</td>\n",
       "    </tr>\n",
       "    <tr>\n",
       "      <th>1996-05-31</th>\n",
       "      <td>164388.0</td>\n",
       "      <td>New York, NY</td>\n",
       "      <td>-0.105128</td>\n",
       "      <td>-0.224336</td>\n",
       "    </tr>\n",
       "  </tbody>\n",
       "</table>\n",
       "</div>"
      ],
      "text/plain": [
       "               value        region     change  lagged_change\n",
       "date                                                        \n",
       "1996-01-31  165513.0  New York, NY -66.395142      -0.429796\n",
       "1996-02-29  165142.0  New York, NY  -0.224152     -66.395142\n",
       "1996-03-31  164931.0  New York, NY  -0.127769      -0.224152\n",
       "1996-04-30  164561.0  New York, NY  -0.224336      -0.127769\n",
       "1996-05-31  164388.0  New York, NY  -0.105128      -0.224336"
      ]
     },
     "execution_count": 4,
     "metadata": {},
     "output_type": "execute_result"
    }
   ],
   "source": [
    "file_path = Path(\"../Resources/nyc_condo.csv\")\n",
    "metro_df = pd.read_csv(file_path)\n",
    "metro_df = metro_df.drop('indicator_id',axis=1)\n",
    "metro_df = metro_df.drop('region_id',axis=1)\n",
    "metro_df = metro_df.sort_values('date')\n",
    "metro_df['date'] = pd.to_datetime(metro_df['date'])\n",
    "metro_df = metro_df.set_index('date')\n",
    "metro_df = metro_df.dropna()\n",
    "metro_df.head()"
   ]
  },
  {
   "cell_type": "code",
   "execution_count": 5,
   "id": "e3dcf498-dbfa-4288-80a3-ae3dbb423203",
   "metadata": {},
   "outputs": [
    {
     "data": {
      "text/plain": [
       "<AxesSubplot:xlabel='date'>"
      ]
     },
     "execution_count": 5,
     "metadata": {},
     "output_type": "execute_result"
    },
    {
     "data": {
      "image/png": "[encoded data removed]",
      "text/plain": [
       "<Figure size 432x288 with 1 Axes>"
      ]
     },
     "metadata": {
      "needs_background": "light"
     },
     "output_type": "display_data"
    }
   ],
   "source": [
    "metro_df.plot()"
   ]
  },
  {
   "cell_type": "code",
   "execution_count": 6,
   "id": "a3c4428e-d24c-4948-a5fa-52581c67d71c",
   "metadata": {},
   "outputs": [
    {
     "data": {
      "text/plain": [
       "LinearRegression()"
      ]
     },
     "execution_count": 6,
     "metadata": {},
     "output_type": "execute_result"
    }
   ],
   "source": [
    "#Build Linear Regression\n",
    "from sklearn.linear_model import LinearRegression\n",
    "model = LinearRegression()\n",
    "model"
   ]
  },
  {
   "cell_type": "code",
   "execution_count": 7,
   "id": "f27285ac-0733-4607-aa8a-73e2f5a3586d",
   "metadata": {},
   "outputs": [],
   "source": [
    "# Separate the data into the X and y components\n",
    "# In this case, y will be the `value` and X will be the remainign columns\n",
    "\n",
    "#X = metro_df.drop(columns='value', axis=1)\n",
    "X = metro_df.lagged_change.to_frame()\n",
    "y = metro_df.change.values"
   ]
  },
  {
   "cell_type": "code",
   "execution_count": 8,
   "id": "a715b377-0b42-4171-a986-cbd722bd1163",
   "metadata": {},
   "outputs": [
    {
     "data": {
      "text/plain": [
       "LinearRegression()"
      ]
     },
     "execution_count": 8,
     "metadata": {},
     "output_type": "execute_result"
    }
   ],
   "source": [
    "# Fit the model to the data\n",
    "\n",
    "model.fit(X, y)"
   ]
  },
  {
   "cell_type": "code",
   "execution_count": 9,
   "id": "a1e3f7b3-79a7-4f02-a0fc-9c23ef8e8526",
   "metadata": {},
   "outputs": [
    {
     "data": {
      "text/plain": [
       "array([ 0.1249898 , -2.01323692,  0.13165565,  0.13477984,  0.13164966,\n",
       "        0.13551372,  0.13602281,  0.13649387,  0.13740058,  0.1400477 ,\n",
       "        0.1412325 ,  0.14231649,  0.14251012,  0.14561821,  0.15079357,\n",
       "        0.15194488,  0.14998119,  0.14774692,  0.14950653,  0.15096   ,\n",
       "        0.15143526,  0.15023645,  0.15075132,  0.15240303,  0.15401593,\n",
       "        0.15334196,  0.14998958,  0.14826643,  0.14833294,  0.14828707,\n",
       "        0.14929978,  0.14961829,  0.15303249,  0.1542753 ,  0.15705449,\n",
       "        0.15571754,  0.1570415 ,  0.15476478,  0.15746159,  0.15831703,\n",
       "        0.16195159,  0.163967  ,  0.16502984,  0.16838289,  0.16573591,\n",
       "        0.16515905,  0.16154329,  0.16373011,  0.16418958,  0.16617007,\n",
       "        0.16967002,  0.17263594,  0.1736832 ,  0.17329851,  0.17358105,\n",
       "        0.17444078,  0.17275052,  0.17428558,  0.17470069,  0.17691217,\n",
       "        0.17620752,  0.17470829,  0.1776085 ,  0.17635691,  0.17761424,\n",
       "        0.17309277,  0.17173406,  0.16867333,  0.16907613,  0.16942535,\n",
       "        0.17240616,  0.1720507 ,  0.17207818,  0.1732553 ,  0.16472543,\n",
       "        0.16181561,  0.16075519,  0.16589759,  0.16648752,  0.16533946,\n",
       "        0.17351763,  0.17666284,  0.17753124,  0.17280476,  0.1727554 ,\n",
       "        0.17256637,  0.177088  ,  0.18090499,  0.17809878,  0.17634024,\n",
       "        0.17917878,  0.18152595,  0.17455318,  0.16484373,  0.16161744,\n",
       "        0.16432571,  0.16649288,  0.1691711 ,  0.17063374,  0.17055457,\n",
       "        0.17068095,  0.17355294,  0.17335043,  0.17719699,  0.17856647,\n",
       "        0.1860917 ,  0.18465458,  0.18402734,  0.17947826,  0.17880985,\n",
       "        0.17629044,  0.17974108,  0.18180545,  0.18006425,  0.17749695,\n",
       "        0.17668355,  0.18043479,  0.18025294,  0.18345914,  0.17841777,\n",
       "        0.17600739,  0.17060792,  0.16826381,  0.15720484,  0.153272  ,\n",
       "        0.1526408 ,  0.15751143,  0.14927712,  0.13791677,  0.12693512,\n",
       "        0.12143806,  0.12607582,  0.13326249,  0.13286827,  0.1326274 ,\n",
       "        0.13748208,  0.14128913,  0.1395815 ,  0.12713822,  0.1287177 ,\n",
       "        0.13148523,  0.13785129,  0.13825516,  0.13580671,  0.13484443,\n",
       "        0.13396885,  0.13270622,  0.12451696,  0.12729649,  0.11936044,\n",
       "        0.12517537,  0.11980975,  0.12518154,  0.12327139,  0.12152167,\n",
       "        0.11833605,  0.11023281,  0.10640026,  0.10526786,  0.11635308,\n",
       "        0.10510933,  0.11531138,  0.1075458 ,  0.11581257,  0.11047918,\n",
       "        0.11588429,  0.12381431,  0.13152242,  0.13354767,  0.14046424,\n",
       "        0.1421529 ,  0.13178106,  0.13906017,  0.13830556,  0.15325302,\n",
       "        0.15087518,  0.1438781 ,  0.13934241,  0.13271858,  0.12724946,\n",
       "        0.12679262,  0.1292617 ,  0.13511206,  0.14782898,  0.1386522 ,\n",
       "        0.13425798,  0.12413701,  0.12925004,  0.137274  ,  0.13784303,\n",
       "        0.13685165,  0.13687666,  0.13964144,  0.13391721,  0.1307001 ,\n",
       "        0.1230805 ,  0.13357973,  0.13605538,  0.14191427,  0.13912546,\n",
       "        0.14169838,  0.14388556,  0.14934792,  0.15236713,  0.15393704,\n",
       "        0.15688507,  0.15410723,  0.15457315,  0.15238718,  0.15604648,\n",
       "        0.15782557,  0.15967602,  0.16015945,  0.15938461,  0.15834062,\n",
       "        0.15832427,  0.15662141,  0.15786684,  0.16072519,  0.16709875,\n",
       "        0.16534227,  0.16045758,  0.15273164,  0.15128216,  0.15240162,\n",
       "        0.15318774,  0.15243443,  0.14836676,  0.15101363,  0.15457751,\n",
       "        0.15658072,  0.15142342,  0.15115583,  0.15245991,  0.15606145,\n",
       "        0.1526166 ,  0.15092961,  0.1511892 ,  0.15193311,  0.15591904,\n",
       "        0.15220858,  0.14441568,  0.14172936,  0.1419159 ,  0.14878981,\n",
       "        0.14741331,  0.14980279,  0.14849262,  0.1485936 ,  0.14511665,\n",
       "        0.14570461,  0.14504917,  0.15003015,  0.15357144,  0.15041513,\n",
       "        0.15057841,  0.14602504,  0.15234269,  0.15193927,  0.15916747,\n",
       "        0.15687127,  0.15864318,  0.15774744,  0.15522796,  0.15184475,\n",
       "        0.15104849,  0.15754236,  0.1562859 ,  0.15485763,  0.14931152,\n",
       "        0.14805176,  0.14452027,  0.14746847,  0.15223253,  0.15237266,\n",
       "        0.15130949,  0.14430687,  0.14112468,  0.13737435,  0.14268486,\n",
       "        0.14082018,  0.14398616,  0.13876776,  0.14057935,  0.13590147,\n",
       "        0.13326657,  0.1326729 ,  0.13392065,  0.13926902,  0.14085246,\n",
       "        0.17203298,  0.28086338,  0.11625317,  0.13711372,  0.18353329,\n",
       "        0.13975769,  0.03574518,  0.10356119,  0.08331402,  0.12899792,\n",
       "        0.12321439,  0.17722545,  0.10388144])"
      ]
     },
     "execution_count": 9,
     "metadata": {},
     "output_type": "execute_result"
    }
   ],
   "source": [
    "predicted_y_values = model.predict(X)\n",
    "predicted_y_values"
   ]
  },
  {
   "cell_type": "code",
   "execution_count": 10,
   "id": "646caf4e-6a40-4d42-9fbe-57694df4da8a",
   "metadata": {},
   "outputs": [
    {
     "data": {
      "text/plain": [
       "0.13892138604776308"
      ]
     },
     "execution_count": 10,
     "metadata": {},
     "output_type": "execute_result"
    }
   ],
   "source": [
    "#Extracting coef, intercept\n",
    "\n",
    "model.coef_\n",
    "model.intercept_\n"
   ]
  },
  {
   "cell_type": "code",
   "execution_count": 11,
   "id": "bdf4db68-9fe3-4403-97f0-564199fe18ff",
   "metadata": {},
   "outputs": [
    {
     "data": {
      "text/plain": [
       "[<matplotlib.lines.Line2D at 0x210d14f2d88>]"
      ]
     },
     "execution_count": 11,
     "metadata": {},
     "output_type": "execute_result"
    },
    {
     "data": {
      "image/png": "[encoded data removed]",
      "text/plain": [
       "<Figure size 432x288 with 1 Axes>"
      ]
     },
     "metadata": {
      "needs_background": "light"
     },
     "output_type": "display_data"
    }
   ],
   "source": [
    "#Plotting Results\n",
    "\n",
    "plt.scatter(X, y)\n",
    "plt.plot(X, predicted_y_values, color='red')"
   ]
  },
  {
   "cell_type": "code",
   "execution_count": 12,
   "id": "2f294756-e05f-4df6-83b6-47faf37ac8c2",
   "metadata": {},
   "outputs": [],
   "source": [
    "#Metrics - score, R2, mse, rmse, std\n",
    "\n",
    "from sklearn.metrics import mean_squared_error, r2_score\n",
    "\n",
    "score = model.score(X, y, sample_weight=None)\n",
    "r2 = r2_score(y, predicted_y_values)\n",
    "mse = mean_squared_error(y, predicted_y_values)\n",
    "rmse = np.sqrt(mse)\n",
    "std = np.std(y)"
   ]
  },
  {
   "cell_type": "code",
   "execution_count": 13,
   "id": "7465aeba-8643-4f5b-ac08-dbb7bb6c707e",
   "metadata": {},
   "outputs": [
    {
     "name": "stdout",
     "output_type": "stream",
     "text": [
      "Score: 0.0010508673271013569\n",
      "R-squared (R2 ): 0.0010508673271013569\n",
      "Mean Squared Error (MSE): 15.065060920702225\n",
      "Root Mean Squared Error (RMSE): 3.8813735868506942\n",
      "Standard Deviation: 3.8834145999604806\n"
     ]
    }
   ],
   "source": [
    "# Print the score, r2, mse, rmse, and standard deviation\n",
    "print(f\"Score: {score}\")\n",
    "print(f\"R-squared (R2 ): {r2}\")\n",
    "print(f\"Mean Squared Error (MSE): {mse}\")\n",
    "print(f\"Root Mean Squared Error (RMSE): {rmse}\")\n",
    "print(f\"Standard Deviation: {np.std(y)}\")"
   ]
  },
  {
   "cell_type": "code",
   "execution_count": null,
   "id": "a0cd2ff7-19b0-44cd-9028-3e9a10472826",
   "metadata": {},
   "outputs": [],
   "source": []
  },
  {
   "cell_type": "code",
   "execution_count": null,
   "id": "db325dc7-e262-4da1-9a13-692d86d49679",
   "metadata": {},
   "outputs": [],
   "source": []
  },
  {
   "cell_type": "code",
   "execution_count": 14,
   "id": "20479d61-8892-4b63-bd8d-73ab1885c8be",
   "metadata": {},
   "outputs": [],
   "source": [
    "#Build Logistic Regression\n",
    "\n",
    "#train test split\n",
    "\n",
    "from sklearn.model_selection import train_test_split\n",
    "\n",
    "X_train, X_test, y_train, y_test = train_test_split(X, y, random_state=78)"
   ]
  },
  {
   "cell_type": "code",
   "execution_count": 15,
   "id": "169dd0b7-44c9-473d-9bfc-0be635688e84",
   "metadata": {},
   "outputs": [],
   "source": [
    "#Create Model\n",
    "#classifier = LogisticRegression(solver='lbfgs', warm_start=True, random_state=78)\n",
    "#classifier"
   ]
  },
  {
   "cell_type": "code",
   "execution_count": 16,
   "id": "ec154b37-b0b0-4940-abb4-19e4c9f1e02f",
   "metadata": {},
   "outputs": [],
   "source": [
    "# Train the data\n",
    "#classifier.fit(X_train, y_train)"
   ]
  },
  {
   "cell_type": "code",
   "execution_count": 17,
   "id": "a2a245d3-7241-4bfe-bc87-84bba3fcc5cf",
   "metadata": {},
   "outputs": [],
   "source": [
    "# Score the model\n",
    "#print(f\"Training Data Score: {classifier.score(X_train, y_train)}\")\n",
    "#print(f\"Testing Data Score: {classifier.score(X_test, y_test)}\")"
   ]
  },
  {
   "cell_type": "code",
   "execution_count": 18,
   "id": "2f526217-4875-46dc-b773-102a6553534f",
   "metadata": {},
   "outputs": [],
   "source": [
    "# Predict outcomes for test data set\n",
    "#predictions = classifier.predict(X_test)\n",
    "#pd.DataFrame({\"Prediction\": predictions, \"Actual\": y_test}).reset_index(drop=True)"
   ]
  },
  {
   "cell_type": "code",
   "execution_count": 19,
   "id": "f63fc2a5-bc84-45f5-8209-a12031626481",
   "metadata": {},
   "outputs": [],
   "source": [
    "#Confusion Matrix\n",
    "#from sklearn.metrics import confusion matrix\n",
    "#confusion_matrix(y_test, predictions)"
   ]
  },
  {
   "cell_type": "code",
   "execution_count": 20,
   "id": "0a3b9dd2-9c7d-4062-ab43-07c1a34a4032",
   "metadata": {},
   "outputs": [],
   "source": [
    "#Classification Report\n",
    "#from sklearn.metrics import classsification report\n",
    "#print(classification_report(y_test, predictions))"
   ]
  },
  {
   "cell_type": "code",
   "execution_count": null,
   "id": "ba51b342-217d-479f-8bbb-77404c7be9b1",
   "metadata": {},
   "outputs": [],
   "source": []
  },
  {
   "cell_type": "code",
   "execution_count": null,
   "id": "f498d41c-40c7-4fcf-876f-56df4cb281dc",
   "metadata": {},
   "outputs": [],
   "source": []
  },
  {
   "cell_type": "code",
   "execution_count": 21,
   "id": "8c1f287a-a1a3-4513-a302-f100f5814376",
   "metadata": {},
   "outputs": [],
   "source": [
    "#Build LSTM Model\n",
    "\n",
    "def window_data(df, window, feature_col_number, target_col_number):\n",
    "    X = []\n",
    "    y = []\n",
    "    for i in range(len(df) - window - 1):\n",
    "        features = df.iloc[i:(i + window), feature_col_number]\n",
    "        target = df.iloc[(i + window), target_col_number]\n",
    "        X.append(features)\n",
    "        y.append(target)\n",
    "    return np.array(X), np.array(y).reshape(-1, 1)"
   ]
  },
  {
   "cell_type": "code",
   "execution_count": 22,
   "id": "e869d375-9a1e-43a6-b753-5fe71d7135b2",
   "metadata": {},
   "outputs": [],
   "source": [
    "# Predict Percent Change of Housing Prices using a 10 month window of previous fng values\n",
    "# Then, experiment with window sizes anywhere from 1 to 10 and see how the model performance changes\n",
    "window_size = 3\n",
    "\n",
    "# Column index 0 is the 'fng_value' column\n",
    "# Column index 1 is the `Close` column\n",
    "feature_column = 3\n",
    "target_column = 2\n",
    "X, y = window_data(metro_df, window_size, feature_column, target_column)"
   ]
  },
  {
   "cell_type": "code",
   "execution_count": 23,
   "id": "5ae36ef7-f7be-4fb5-a768-c58395e2cacd",
   "metadata": {},
   "outputs": [],
   "source": [
    "# Use 70% of the data for training and the remaineder for testing\n",
    "split = int(0.8 * len(X))\n",
    "\n",
    "X_train = X[: split]\n",
    "X_test = X[split:]\n",
    "y_train = y [: split]\n",
    "y_test = y[split:]"
   ]
  },
  {
   "cell_type": "code",
   "execution_count": 24,
   "id": "173af09f-abae-4134-aa8b-f60c729d3438",
   "metadata": {},
   "outputs": [],
   "source": [
    "from sklearn.preprocessing import MinMaxScaler\n",
    "# Use the MinMaxScaler to scale data between 0 and 1.\n",
    "scaler = MinMaxScaler()\n",
    "scaler.fit(X)\n",
    "X_train = scaler.transform(X_train)\n",
    "X_test = scaler.transform(X_test)\n",
    "scaler.fit(y)\n",
    "y_train = scaler.transform(y_train)\n",
    "y_test = scaler.transform(y_test)\n"
   ]
  },
  {
   "cell_type": "code",
   "execution_count": 25,
   "id": "ed3ecea9-3fc2-4991-ae2a-21756334777f",
   "metadata": {},
   "outputs": [],
   "source": [
    "# Reshape the features for the model\n",
    "X_train = X_train.reshape((X_train.shape[0], X_train.shape[1], 1))\n",
    "X_test = X_test.reshape((X_test.shape[0], X_test.shape[1], 1))"
   ]
  },
  {
   "cell_type": "code",
   "execution_count": 26,
   "id": "8a287fed-9b4f-4b5b-951c-8789a4276a89",
   "metadata": {},
   "outputs": [
    {
     "name": "stderr",
     "output_type": "stream",
     "text": [
      "C:\\ProgramData\\Anaconda3\\envs\\deep\\lib\\site-packages\\tensorboard\\compat\\tensorflow_stub\\dtypes.py:541: FutureWarning: Passing (type, 1) or '1type' as a synonym of type is deprecated; in a future version of numpy, it will be understood as (type, (1,)) / '(1,)type'.\n",
      "  _np_qint8 = np.dtype([(\"qint8\", np.int8, 1)])\n",
      "C:\\ProgramData\\Anaconda3\\envs\\deep\\lib\\site-packages\\tensorboard\\compat\\tensorflow_stub\\dtypes.py:542: FutureWarning: Passing (type, 1) or '1type' as a synonym of type is deprecated; in a future version of numpy, it will be understood as (type, (1,)) / '(1,)type'.\n",
      "  _np_quint8 = np.dtype([(\"quint8\", np.uint8, 1)])\n",
      "C:\\ProgramData\\Anaconda3\\envs\\deep\\lib\\site-packages\\tensorboard\\compat\\tensorflow_stub\\dtypes.py:543: FutureWarning: Passing (type, 1) or '1type' as a synonym of type is deprecated; in a future version of numpy, it will be understood as (type, (1,)) / '(1,)type'.\n",
      "  _np_qint16 = np.dtype([(\"qint16\", np.int16, 1)])\n",
      "C:\\ProgramData\\Anaconda3\\envs\\deep\\lib\\site-packages\\tensorboard\\compat\\tensorflow_stub\\dtypes.py:544: FutureWarning: Passing (type, 1) or '1type' as a synonym of type is deprecated; in a future version of numpy, it will be understood as (type, (1,)) / '(1,)type'.\n",
      "  _np_quint16 = np.dtype([(\"quint16\", np.uint16, 1)])\n",
      "C:\\ProgramData\\Anaconda3\\envs\\deep\\lib\\site-packages\\tensorboard\\compat\\tensorflow_stub\\dtypes.py:545: FutureWarning: Passing (type, 1) or '1type' as a synonym of type is deprecated; in a future version of numpy, it will be understood as (type, (1,)) / '(1,)type'.\n",
      "  _np_qint32 = np.dtype([(\"qint32\", np.int32, 1)])\n",
      "C:\\ProgramData\\Anaconda3\\envs\\deep\\lib\\site-packages\\tensorboard\\compat\\tensorflow_stub\\dtypes.py:550: FutureWarning: Passing (type, 1) or '1type' as a synonym of type is deprecated; in a future version of numpy, it will be understood as (type, (1,)) / '(1,)type'.\n",
      "  np_resource = np.dtype([(\"resource\", np.ubyte, 1)])\n"
     ]
    }
   ],
   "source": [
    "from tensorflow.keras.models import Sequential\n",
    "from tensorflow.keras.layers import LSTM, Dense, Dropout"
   ]
  },
  {
   "cell_type": "code",
   "execution_count": 27,
   "id": "34fd519a-f2c3-402a-b7fc-c5fa44259fe8",
   "metadata": {},
   "outputs": [],
   "source": [
    "# Build the LSTM model. \n",
    "# The return sequences need to be set to True if you are adding additional LSTM layers, but \n",
    "# You don't have to do this for the final layer. \n",
    "# Note: The dropouts help prevent overfitting\n",
    "# Note: The input shape is the number of time steps and the number of indicators\n",
    "# Note: Batching inputs has a different input shape of Samples/TimeSteps/Features\n",
    "\n",
    "model = Sequential()\n",
    "\n",
    "number_units = 10\n",
    "dropout_fraction = 0.2\n",
    "\n",
    "\n",
    "# Layer 1\n",
    "model.add(LSTM(\n",
    "    units=number_units,\n",
    "    return_sequences=True,\n",
    "    input_shape=(X_train.shape[1], 1))\n",
    "    )\n",
    "model.add(Dropout(dropout_fraction))\n",
    "\n",
    "# Layer 2\n",
    "model.add(LSTM(units=number_units, return_sequences=True))\n",
    "model.add(Dropout(dropout_fraction))\n",
    "\n",
    "# Layer 3\n",
    "model.add(LSTM(units=number_units))\n",
    "model.add(Dropout(dropout_fraction))\n",
    "\n",
    "# Output layer\n",
    "model.add(Dense(1))"
   ]
  },
  {
   "cell_type": "code",
   "execution_count": 28,
   "id": "108d1b2b-0003-4d81-bfde-538877c71196",
   "metadata": {},
   "outputs": [],
   "source": [
    "# Compile the model\n",
    "model.compile(optimizer='adam', loss=\"mean_squared_error\")"
   ]
  },
  {
   "cell_type": "code",
   "execution_count": 29,
   "id": "dce4419a-7802-4085-9aaf-f4fed73207be",
   "metadata": {},
   "outputs": [
    {
     "name": "stdout",
     "output_type": "stream",
     "text": [
      "Model: \"sequential\"\n",
      "_________________________________________________________________\n",
      "Layer (type)                 Output Shape              Param #   \n",
      "=================================================================\n",
      "lstm (LSTM)                  (None, 3, 10)             480       \n",
      "_________________________________________________________________\n",
      "dropout (Dropout)            (None, 3, 10)             0         \n",
      "_________________________________________________________________\n",
      "lstm_1 (LSTM)                (None, 3, 10)             840       \n",
      "_________________________________________________________________\n",
      "dropout_1 (Dropout)          (None, 3, 10)             0         \n",
      "_________________________________________________________________\n",
      "lstm_2 (LSTM)                (None, 10)                840       \n",
      "_________________________________________________________________\n",
      "dropout_2 (Dropout)          (None, 10)                0         \n",
      "_________________________________________________________________\n",
      "dense (Dense)                (None, 1)                 11        \n",
      "=================================================================\n",
      "Total params: 2,171\n",
      "Trainable params: 2,171\n",
      "Non-trainable params: 0\n",
      "_________________________________________________________________\n"
     ]
    }
   ],
   "source": [
    "# Summarize the model\n",
    "model.summary()"
   ]
  },
  {
   "cell_type": "code",
   "execution_count": 30,
   "id": "4b21713b-0f3c-44f2-83ec-448f4db60f4f",
   "metadata": {},
   "outputs": [
    {
     "name": "stdout",
     "output_type": "stream",
     "text": [
      "Epoch 1/10\n",
      "239/239 [==============================] - 4s 2ms/step - loss: 0.0391\n",
      "Epoch 2/10\n",
      "239/239 [==============================] - 1s 2ms/step - loss: 0.0072\n",
      "Epoch 3/10\n",
      "239/239 [==============================] - 1s 2ms/step - loss: 0.0064\n",
      "Epoch 4/10\n",
      "239/239 [==============================] - 1s 2ms/step - loss: 0.0063\n",
      "Epoch 5/10\n",
      "239/239 [==============================] - 1s 2ms/step - loss: 0.0064\n",
      "Epoch 6/10\n",
      "239/239 [==============================] - 1s 2ms/step - loss: 0.0053\n",
      "Epoch 7/10\n",
      "239/239 [==============================] - 1s 2ms/step - loss: 0.0052\n",
      "Epoch 8/10\n",
      "239/239 [==============================] - 1s 2ms/step - loss: 0.0053\n",
      "Epoch 9/10\n",
      "239/239 [==============================] - 1s 2ms/step - loss: 0.0054\n",
      "Epoch 10/10\n",
      "239/239 [==============================] - 1s 2ms/step - loss: 0.0051\n"
     ]
    },
    {
     "data": {
      "text/plain": [
       "<tensorflow.python.keras.callbacks.History at 0x210e2729f88>"
      ]
     },
     "execution_count": 30,
     "metadata": {},
     "output_type": "execute_result"
    }
   ],
   "source": [
    "# Train the model\n",
    "# Use at least 10 epochs\n",
    "# Do not shuffle the data\n",
    "# Experiement with the batch size, but a smaller batch size is recommended\n",
    "model.fit(X_train, y_train, epochs=10, shuffle=False, batch_size=1, verbose=1)"
   ]
  },
  {
   "cell_type": "code",
   "execution_count": 31,
   "id": "cf391f41-edce-4fa4-a72f-8e8d5bdd2b5e",
   "metadata": {},
   "outputs": [
    {
     "name": "stdout",
     "output_type": "stream",
     "text": [
      "2/2 [==============================] - 1s 2ms/step - loss: 0.0133\n"
     ]
    },
    {
     "data": {
      "text/plain": [
       "0.0132939163595438"
      ]
     },
     "execution_count": 31,
     "metadata": {},
     "output_type": "execute_result"
    }
   ],
   "source": [
    "# Evaluate the model\n",
    "model.evaluate(X_test, y_test)"
   ]
  },
  {
   "cell_type": "code",
   "execution_count": 32,
   "id": "09974f9a-6d29-4890-8b08-8b264f395073",
   "metadata": {},
   "outputs": [],
   "source": [
    "# Make some predictions\n",
    "predicted = model.predict(X_test)"
   ]
  },
  {
   "cell_type": "code",
   "execution_count": 33,
   "id": "f93b039a-fd71-4542-bab5-0ac63486abb5",
   "metadata": {},
   "outputs": [],
   "source": [
    "# Recover the original prices instead of the scaled version\n",
    "predicted_prices = scaler.inverse_transform(predicted)\n",
    "real_prices = scaler.inverse_transform(y_test.reshape(-1, 1))"
   ]
  },
  {
   "cell_type": "code",
   "execution_count": 34,
   "id": "28c63dfe-e912-4f8d-89dc-cccf82ab8bdd",
   "metadata": {},
   "outputs": [
    {
     "data": {
      "text/html": [
       "<div>\n",
       "<style scoped>\n",
       "    .dataframe tbody tr th:only-of-type {\n",
       "        vertical-align: middle;\n",
       "    }\n",
       "\n",
       "    .dataframe tbody tr th {\n",
       "        vertical-align: top;\n",
       "    }\n",
       "\n",
       "    .dataframe thead th {\n",
       "        text-align: right;\n",
       "    }\n",
       "</style>\n",
       "<table border=\"1\" class=\"dataframe\">\n",
       "  <thead>\n",
       "    <tr style=\"text-align: right;\">\n",
       "      <th></th>\n",
       "      <th>Real</th>\n",
       "      <th>Predicted</th>\n",
       "    </tr>\n",
       "    <tr>\n",
       "      <th>date</th>\n",
       "      <th></th>\n",
       "      <th></th>\n",
       "    </tr>\n",
       "  </thead>\n",
       "  <tbody>\n",
       "    <tr>\n",
       "      <th>2021-01-31</th>\n",
       "      <td>-0.055767</td>\n",
       "      <td>0.409524</td>\n",
       "    </tr>\n",
       "    <tr>\n",
       "      <th>2021-02-28</th>\n",
       "      <td>-1.081000</td>\n",
       "      <td>0.411229</td>\n",
       "    </tr>\n",
       "    <tr>\n",
       "      <th>2021-03-31</th>\n",
       "      <td>-0.429796</td>\n",
       "      <td>0.409218</td>\n",
       "    </tr>\n",
       "    <tr>\n",
       "      <th>2021-04-30</th>\n",
       "      <td>-0.306144</td>\n",
       "      <td>0.412403</td>\n",
       "    </tr>\n",
       "    <tr>\n",
       "      <th>2021-05-31</th>\n",
       "      <td>-0.484568</td>\n",
       "      <td>0.412273</td>\n",
       "    </tr>\n",
       "  </tbody>\n",
       "</table>\n",
       "</div>"
      ],
      "text/plain": [
       "                Real  Predicted\n",
       "date                           \n",
       "2021-01-31 -0.055767   0.409524\n",
       "2021-02-28 -1.081000   0.411229\n",
       "2021-03-31 -0.429796   0.409218\n",
       "2021-04-30 -0.306144   0.412403\n",
       "2021-05-31 -0.484568   0.412273"
      ]
     },
     "execution_count": 34,
     "metadata": {},
     "output_type": "execute_result"
    }
   ],
   "source": [
    "# Create a DataFrame of Real and Predicted values\n",
    "housing = pd.DataFrame({\n",
    "    \"Real\": real_prices.ravel(),\n",
    "    \"Predicted\": predicted_prices.ravel()\n",
    "}, index = metro_df.index[-len(real_prices): ]) \n",
    "\n",
    "housing.tail()"
   ]
  },
  {
   "cell_type": "code",
   "execution_count": 35,
   "id": "f63434aa-8196-43e4-96ea-ee93c03e1a16",
   "metadata": {},
   "outputs": [
    {
     "data": {
      "text/plain": [
       "<AxesSubplot:xlabel='date'>"
      ]
     },
     "execution_count": 35,
     "metadata": {},
     "output_type": "execute_result"
    },
    {
     "data": {
      "image/png": "[encoded data removed]",
      "text/plain": [
       "<Figure size 432x288 with 1 Axes>"
      ]
     },
     "metadata": {
      "needs_background": "light"
     },
     "output_type": "display_data"
    }
   ],
   "source": [
    "# Plot the real vs predicted values as a line chart\n",
    "housing.plot()"
   ]
  },
  {
   "cell_type": "code",
   "execution_count": null,
   "id": "d74cab46-c31b-4222-860a-41231e1b5f97",
   "metadata": {},
   "outputs": [],
   "source": []
  },
  {
   "cell_type": "code",
   "execution_count": null,
   "id": "3d649de0-ef94-466e-8335-98da24d4052a",
   "metadata": {},
   "outputs": [],
   "source": []
  },
  {
   "cell_type": "code",
   "execution_count": 35,
   "id": "269fdfad-0149-46a4-885c-a149d269f633",
   "metadata": {},
   "outputs": [],
   "source": [
    "#Lazy Predict - Regression\n",
    "\n",
    "#from lazypredict.Supervised import LazyClassifier\n",
    "#from sklearn.datasets import load_breast_cancer\n",
    "#from sklearn.model_selection import train_test_split\n",
    "\n",
    "#data = load_breast_cancer()\n",
    "#X = data.data\n",
    "#y= data.target\n",
    "\n",
    "#X_train, X_test, y_train, y_test = train_test_split(X, y,test_size=.5,random_state =123)\n",
    "\n",
    "#clf = LazyClassifier(verbose=0,ignore_warnings=True, custom_metric=None)\n",
    "#models,predictions = clf.fit(X_train, X_test, y_train, y_test)\n",
    "\n",
    "#print(models)"
   ]
  },
  {
   "cell_type": "code",
   "execution_count": null,
   "id": "f21df48e-e1ad-4ef5-ade1-62717cbaa53d",
   "metadata": {},
   "outputs": [],
   "source": []
  },
  {
   "cell_type": "code",
   "execution_count": null,
   "id": "60bcd885-dbd6-4d52-bd55-658ee97d7801",
   "metadata": {},
   "outputs": [],
   "source": []
  },
  {
   "cell_type": "code",
   "execution_count": null,
   "id": "642d07e8-b864-4c2b-8f29-754941982e8b",
   "metadata": {},
   "outputs": [],
   "source": []
  }
 ],
 "metadata": {
  "kernelspec": {
   "display_name": "Python 3",
   "language": "python",
   "name": "python3"
  },
  "language_info": {
   "codemirror_mode": {
    "name": "ipython",
    "version": 3
   },
   "file_extension": ".py",
   "mimetype": "text/x-python",
   "name": "python",
   "nbconvert_exporter": "python",
   "pygments_lexer": "ipython3",
   "version": "3.7.10"
  }
 },
 "nbformat": 4,
 "nbformat_minor": 5
}
