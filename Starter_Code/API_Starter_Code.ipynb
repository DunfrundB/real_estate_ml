{
 "cells": [
  {
   "cell_type": "code",
   "execution_count": 1,
   "id": "ba0f535c-6972-4197-8db5-6ab5f125be13",
   "metadata": {},
   "outputs": [
    {
     "name": "stdout",
     "output_type": "stream",
     "text": [
      "hello_world\n"
     ]
    }
   ],
   "source": [
    "print(\"hello_world\")"
   ]
  },
  {
   "cell_type": "code",
   "execution_count": 2,
   "id": "c513c2f2-87f2-49f3-8abb-ada6bdff8bbe",
   "metadata": {},
   "outputs": [],
   "source": [
    "import requests\n",
    "from dotenv import load_dotenv\n",
    "import os \n",
    "import quandl"
   ]
  },
  {
   "cell_type": "code",
   "execution_count": 3,
   "id": "8a7964a8-bc09-4745-a857-78f51d1388fe",
   "metadata": {},
   "outputs": [
    {
     "data": {
      "text/plain": [
       "True"
      ]
     },
     "execution_count": 3,
     "metadata": {},
     "output_type": "execute_result"
    }
   ],
   "source": [
    "load_dotenv()"
   ]
  },
  {
   "cell_type": "code",
   "execution_count": 4,
   "id": "ed45eb8c-3029-492a-96a6-b938bf98237d",
   "metadata": {},
   "outputs": [],
   "source": [
    "api_key = os.getenv(\"QUANDL_API_KEY\")"
   ]
  },
  {
   "cell_type": "code",
   "execution_count": 5,
   "id": "87747d82-849b-4ced-a86c-0155e2369643",
   "metadata": {},
   "outputs": [
    {
     "data": {
      "text/plain": [
       "str"
      ]
     },
     "execution_count": 5,
     "metadata": {},
     "output_type": "execute_result"
    }
   ],
   "source": [
    "type(api_key)"
   ]
  },
  {
   "cell_type": "code",
   "execution_count": 10,
   "id": "f82a0194-a8cf-43a1-ba09-e1293a89bbbc",
   "metadata": {},
   "outputs": [
    {
     "data": {
      "text/html": [
       "<div>\n",
       "<style scoped>\n",
       "    .dataframe tbody tr th:only-of-type {\n",
       "        vertical-align: middle;\n",
       "    }\n",
       "\n",
       "    .dataframe tbody tr th {\n",
       "        vertical-align: top;\n",
       "    }\n",
       "\n",
       "    .dataframe thead th {\n",
       "        text-align: right;\n",
       "    }\n",
       "</style>\n",
       "<table border=\"1\" class=\"dataframe\">\n",
       "  <thead>\n",
       "    <tr style=\"text-align: right;\">\n",
       "      <th></th>\n",
       "      <th>indicator_id</th>\n",
       "      <th>region_id</th>\n",
       "      <th>date</th>\n",
       "      <th>value</th>\n",
       "    </tr>\n",
       "    <tr>\n",
       "      <th>None</th>\n",
       "      <th></th>\n",
       "      <th></th>\n",
       "      <th></th>\n",
       "      <th></th>\n",
       "    </tr>\n",
       "  </thead>\n",
       "  <tbody>\n",
       "    <tr>\n",
       "      <th>0</th>\n",
       "      <td>ZSFH</td>\n",
       "      <td>85209</td>\n",
       "      <td>2021-05-31</td>\n",
       "      <td>60799.0</td>\n",
       "    </tr>\n",
       "    <tr>\n",
       "      <th>1</th>\n",
       "      <td>ZSFH</td>\n",
       "      <td>85209</td>\n",
       "      <td>2021-04-30</td>\n",
       "      <td>60132.0</td>\n",
       "    </tr>\n",
       "    <tr>\n",
       "      <th>2</th>\n",
       "      <td>ZSFH</td>\n",
       "      <td>85209</td>\n",
       "      <td>2021-03-31</td>\n",
       "      <td>59767.0</td>\n",
       "    </tr>\n",
       "    <tr>\n",
       "      <th>3</th>\n",
       "      <td>ZSFH</td>\n",
       "      <td>85209</td>\n",
       "      <td>2021-02-28</td>\n",
       "      <td>60078.0</td>\n",
       "    </tr>\n",
       "    <tr>\n",
       "      <th>4</th>\n",
       "      <td>ZSFH</td>\n",
       "      <td>85209</td>\n",
       "      <td>2021-01-31</td>\n",
       "      <td>60005.0</td>\n",
       "    </tr>\n",
       "    <tr>\n",
       "      <th>...</th>\n",
       "      <td>...</td>\n",
       "      <td>...</td>\n",
       "      <td>...</td>\n",
       "      <td>...</td>\n",
       "    </tr>\n",
       "    <tr>\n",
       "      <th>271</th>\n",
       "      <td>ZSFH</td>\n",
       "      <td>85209</td>\n",
       "      <td>1998-10-31</td>\n",
       "      <td>31108.0</td>\n",
       "    </tr>\n",
       "    <tr>\n",
       "      <th>272</th>\n",
       "      <td>ZSFH</td>\n",
       "      <td>85209</td>\n",
       "      <td>1998-09-30</td>\n",
       "      <td>30505.0</td>\n",
       "    </tr>\n",
       "    <tr>\n",
       "      <th>273</th>\n",
       "      <td>ZSFH</td>\n",
       "      <td>85209</td>\n",
       "      <td>1998-08-31</td>\n",
       "      <td>29984.0</td>\n",
       "    </tr>\n",
       "    <tr>\n",
       "      <th>274</th>\n",
       "      <td>ZSFH</td>\n",
       "      <td>85209</td>\n",
       "      <td>1998-07-31</td>\n",
       "      <td>29786.0</td>\n",
       "    </tr>\n",
       "    <tr>\n",
       "      <th>275</th>\n",
       "      <td>ZSFH</td>\n",
       "      <td>85209</td>\n",
       "      <td>1998-06-30</td>\n",
       "      <td>29607.0</td>\n",
       "    </tr>\n",
       "  </tbody>\n",
       "</table>\n",
       "<p>276 rows × 4 columns</p>\n",
       "</div>"
      ],
      "text/plain": [
       "     indicator_id region_id       date    value\n",
       "None                                           \n",
       "0            ZSFH     85209 2021-05-31  60799.0\n",
       "1            ZSFH     85209 2021-04-30  60132.0\n",
       "2            ZSFH     85209 2021-03-31  59767.0\n",
       "3            ZSFH     85209 2021-02-28  60078.0\n",
       "4            ZSFH     85209 2021-01-31  60005.0\n",
       "...           ...       ...        ...      ...\n",
       "271          ZSFH     85209 1998-10-31  31108.0\n",
       "272          ZSFH     85209 1998-09-30  30505.0\n",
       "273          ZSFH     85209 1998-08-31  29984.0\n",
       "274          ZSFH     85209 1998-07-31  29786.0\n",
       "275          ZSFH     85209 1998-06-30  29607.0\n",
       "\n",
       "[276 rows x 4 columns]"
      ]
     },
     "execution_count": 10,
     "metadata": {},
     "output_type": "execute_result"
    }
   ],
   "source": [
    "quandl.ApiConfig.api_key = api_key\n",
    "quandl.get_table('ZILLOW/DATA', indicator_id='ZSFH', region_id='85209')"
   ]
  },
  {
   "cell_type": "code",
   "execution_count": null,
   "id": "d855cfaa-9885-4ad1-9f2c-0e0aa2f1aeae",
   "metadata": {},
   "outputs": [],
   "source": []
  }
 ],
 "metadata": {
  "kernelspec": {
   "display_name": "Python 3",
   "language": "python",
   "name": "python3"
  },
  "language_info": {
   "codemirror_mode": {
    "name": "ipython",
    "version": 3
   },
   "file_extension": ".py",
   "mimetype": "text/x-python",
   "name": "python",
   "nbconvert_exporter": "python",
   "pygments_lexer": "ipython3",
   "version": "3.8.5"
  }
 },
 "nbformat": 4,
 "nbformat_minor": 5
}
