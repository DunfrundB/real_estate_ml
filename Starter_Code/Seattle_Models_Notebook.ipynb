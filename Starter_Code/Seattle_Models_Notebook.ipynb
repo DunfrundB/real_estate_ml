{
 "cells": [
  {
   "cell_type": "code",
   "execution_count": 1,
   "id": "695101dd-0887-4a40-bbb5-6a7e20d45c6d",
   "metadata": {},
   "outputs": [],
   "source": [
    "# Initial imports\n",
    "import pandas as pd\n",
    "from pathlib import Path\n",
    "import numpy as np\n",
    "import matplotlib.pyplot as plt\n",
    "from sklearn import tree\n",
    "from sklearn.preprocessing import StandardScaler\n",
    "from sklearn.model_selection import train_test_split\n",
    "from sklearn.metrics import confusion_matrix, accuracy_score, classification_report\n",
    "from matplotlib import style\n",
    "style.use(\"ggplot\")\n",
    "from sklearn.linear_model import LinearRegression\n",
    "%matplotlib inline\n",
    "from sklearn.linear_model import LogisticRegression\n",
    "from sklearn.ensemble import GradientBoostingClassifier\n",
    "import lazypredict\n",
    "\n",
    "\n",
    "\n",
    "# Needed for decision tree visualization\n",
    "import pydotplus\n",
    "from IPython.display import Image"
   ]
  },
  {
   "cell_type": "code",
   "execution_count": null,
   "id": "6df95cb2-0227-4a14-94c2-c6ecfc2e062a",
   "metadata": {},
   "outputs": [],
   "source": []
  },
  {
   "cell_type": "code",
   "execution_count": 2,
   "id": "845c4460-f709-42bd-9b8e-b54e025186d0",
   "metadata": {},
   "outputs": [],
   "source": [
    "#file_path = Path(\"../Resources/metro_2br.csv\")\n",
    "#metro_df = pd.read_csv(file_path)\n",
    "#metro_df.drop(columns='indicator_id', inplace=True)\n",
    "#metro_df.head()\n",
    "\n",
    "\n",
    "#metro_df.set_index(pd.to_datetime(metro_df['date']), inplace=True)\n",
    "#metro_df.drop('date', axis=1, inplace=True)\n",
    "#metro_df.head()"
   ]
  },
  {
   "cell_type": "markdown",
   "id": "eaac8d4e-2ac9-4068-ad4c-2873b88414a4",
   "metadata": {},
   "source": [
    "### Seattle Condo Regression"
   ]
  },
  {
   "cell_type": "code",
   "execution_count": 3,
   "id": "52609849-0150-47c3-b697-4ceda5703c44",
   "metadata": {},
   "outputs": [
    {
     "data": {
      "text/html": [
       "<div>\n",
       "<style scoped>\n",
       "    .dataframe tbody tr th:only-of-type {\n",
       "        vertical-align: middle;\n",
       "    }\n",
       "\n",
       "    .dataframe tbody tr th {\n",
       "        vertical-align: top;\n",
       "    }\n",
       "\n",
       "    .dataframe thead th {\n",
       "        text-align: right;\n",
       "    }\n",
       "</style>\n",
       "<table border=\"1\" class=\"dataframe\">\n",
       "  <thead>\n",
       "    <tr style=\"text-align: right;\">\n",
       "      <th></th>\n",
       "      <th>value</th>\n",
       "      <th>region</th>\n",
       "      <th>change</th>\n",
       "      <th>lagged_change</th>\n",
       "    </tr>\n",
       "    <tr>\n",
       "      <th>date</th>\n",
       "      <th></th>\n",
       "      <th></th>\n",
       "      <th></th>\n",
       "      <th></th>\n",
       "    </tr>\n",
       "  </thead>\n",
       "  <tbody>\n",
       "    <tr>\n",
       "      <th>1996-01-31</th>\n",
       "      <td>130746.0</td>\n",
       "      <td>Seattle, WA</td>\n",
       "      <td>-69.630820</td>\n",
       "      <td>1.313120</td>\n",
       "    </tr>\n",
       "    <tr>\n",
       "      <th>1996-02-29</th>\n",
       "      <td>130672.0</td>\n",
       "      <td>Seattle, WA</td>\n",
       "      <td>-0.056598</td>\n",
       "      <td>-69.630820</td>\n",
       "    </tr>\n",
       "    <tr>\n",
       "      <th>1996-03-31</th>\n",
       "      <td>130597.0</td>\n",
       "      <td>Seattle, WA</td>\n",
       "      <td>-0.057396</td>\n",
       "      <td>-0.056598</td>\n",
       "    </tr>\n",
       "    <tr>\n",
       "      <th>1996-04-30</th>\n",
       "      <td>130476.0</td>\n",
       "      <td>Seattle, WA</td>\n",
       "      <td>-0.092651</td>\n",
       "      <td>-0.057396</td>\n",
       "    </tr>\n",
       "    <tr>\n",
       "      <th>1996-05-31</th>\n",
       "      <td>130386.0</td>\n",
       "      <td>Seattle, WA</td>\n",
       "      <td>-0.068978</td>\n",
       "      <td>-0.092651</td>\n",
       "    </tr>\n",
       "  </tbody>\n",
       "</table>\n",
       "</div>"
      ],
      "text/plain": [
       "               value       region     change  lagged_change\n",
       "date                                                       \n",
       "1996-01-31  130746.0  Seattle, WA -69.630820       1.313120\n",
       "1996-02-29  130672.0  Seattle, WA  -0.056598     -69.630820\n",
       "1996-03-31  130597.0  Seattle, WA  -0.057396      -0.056598\n",
       "1996-04-30  130476.0  Seattle, WA  -0.092651      -0.057396\n",
       "1996-05-31  130386.0  Seattle, WA  -0.068978      -0.092651"
      ]
     },
     "execution_count": 3,
     "metadata": {},
     "output_type": "execute_result"
    }
   ],
   "source": [
    "file_path = Path(\"../Resources/sea_condo.csv\")\n",
    "metro_df = pd.read_csv(file_path)\n",
    "metro_df = metro_df.drop('indicator_id',axis=1)\n",
    "metro_df = metro_df.drop('region_id',axis=1)\n",
    "metro_df = metro_df.sort_values('date')\n",
    "metro_df['date'] = pd.to_datetime(metro_df['date'])\n",
    "metro_df = metro_df.set_index('date')\n",
    "metro_df = metro_df.dropna()\n",
    "metro_df.head()"
   ]
  },
  {
   "cell_type": "code",
   "execution_count": 4,
   "id": "e3dcf498-dbfa-4288-80a3-ae3dbb423203",
   "metadata": {},
   "outputs": [
    {
     "data": {
      "text/plain": [
       "<AxesSubplot:xlabel='date'>"
      ]
     },
     "execution_count": 4,
     "metadata": {},
     "output_type": "execute_result"
    },
    {
     "data": {
      "image/png": "[encoded data removed]",
      "text/plain": [
       "<Figure size 432x288 with 1 Axes>"
      ]
     },
     "metadata": {
      "needs_background": "light"
     },
     "output_type": "display_data"
    }
   ],
   "source": [
    "metro_df.plot()"
   ]
  },
  {
   "cell_type": "code",
   "execution_count": 5,
   "id": "a3c4428e-d24c-4948-a5fa-52581c67d71c",
   "metadata": {},
   "outputs": [
    {
     "data": {
      "text/plain": [
       "LinearRegression()"
      ]
     },
     "execution_count": 5,
     "metadata": {},
     "output_type": "execute_result"
    }
   ],
   "source": [
    "#Build Linear Regression\n",
    "from sklearn.linear_model import LinearRegression\n",
    "model = LinearRegression()\n",
    "model"
   ]
  },
  {
   "cell_type": "code",
   "execution_count": 6,
   "id": "f27285ac-0733-4607-aa8a-73e2f5a3586d",
   "metadata": {},
   "outputs": [],
   "source": [
    "# Separate the data into the X and y components\n",
    "# In this case, y will be the `value` and X will be the remainign columns\n",
    "\n",
    "#X = metro_df.drop(columns='value', axis=1)\n",
    "X = metro_df.lagged_change.to_frame()\n",
    "y = metro_df.change.values"
   ]
  },
  {
   "cell_type": "code",
   "execution_count": 7,
   "id": "a715b377-0b42-4171-a986-cbd722bd1163",
   "metadata": {},
   "outputs": [
    {
     "data": {
      "text/plain": [
       "LinearRegression()"
      ]
     },
     "execution_count": 7,
     "metadata": {},
     "output_type": "execute_result"
    }
   ],
   "source": [
    "# Fit the model to the data\n",
    "\n",
    "model.fit(X, y)"
   ]
  },
  {
   "cell_type": "code",
   "execution_count": 8,
   "id": "a1e3f7b3-79a7-4f02-a0fc-9c23ef8e8526",
   "metadata": {},
   "outputs": [
    {
     "data": {
      "text/plain": [
       "array([ 0.18978794, -1.29114451,  0.16119549,  0.16117885,  0.16044289,\n",
       "        0.16093707,  0.16602722,  0.16637246,  0.16690717,  0.16427107,\n",
       "        0.16676604,  0.1687246 ,  0.16878446,  0.16778696,  0.16912591,\n",
       "        0.17194244,  0.17402171,  0.17622346,  0.16982516,  0.17155039,\n",
       "        0.17004158,  0.17262004,  0.17149308,  0.171831  ,  0.17607312,\n",
       "        0.18248109,  0.18208221,  0.18131172,  0.17626157,  0.17578028,\n",
       "        0.17460526,  0.17667186,  0.18072211,  0.18697487,  0.18287457,\n",
       "        0.18017573,  0.1770294 ,  0.1712613 ,  0.1714391 ,  0.16918776,\n",
       "        0.17643534,  0.17379267,  0.18309072,  0.17628575,  0.17731046,\n",
       "        0.17242093,  0.18076474,  0.18157088,  0.17782914,  0.17617673,\n",
       "        0.17701828,  0.17741   ,  0.17660402,  0.17917321,  0.17457174,\n",
       "        0.17822213,  0.17263447,  0.17438631,  0.16962622,  0.17179775,\n",
       "        0.17326393,  0.17610411,  0.1752401 ,  0.17535659,  0.17220564,\n",
       "        0.16986447,  0.1696226 ,  0.16945087,  0.17154086,  0.16953051,\n",
       "        0.17073331,  0.16944431,  0.17381712,  0.16779601,  0.16901239,\n",
       "        0.16534468,  0.16991149,  0.16749814,  0.16715953,  0.16653045,\n",
       "        0.16724735,  0.16805665,  0.16821354,  0.16912078,  0.16294427,\n",
       "        0.16709614,  0.16543057,  0.17231333,  0.16751261,  0.16954287,\n",
       "        0.16642762,  0.16761998,  0.16905609,  0.17035379,  0.17129327,\n",
       "        0.16899162,  0.17291456,  0.17482879,  0.17722237,  0.17216674,\n",
       "        0.17299123,  0.17487045,  0.17824866,  0.17478186,  0.17164789,\n",
       "        0.17414292,  0.17512283,  0.17849435,  0.18057858,  0.18526682,\n",
       "        0.17942196,  0.1822377 ,  0.1804157 ,  0.18410138,  0.18695826,\n",
       "        0.19197801,  0.19603191,  0.19237727,  0.1905648 ,  0.19268053,\n",
       "        0.19292577,  0.18714911,  0.19133205,  0.18703895,  0.19345922,\n",
       "        0.19207798,  0.19176955,  0.18913537,  0.18476977,  0.18528426,\n",
       "        0.18762854,  0.18226108,  0.17663746,  0.1706833 ,  0.17289704,\n",
       "        0.17952209,  0.18898318,  0.18479103,  0.17643892,  0.16420064,\n",
       "        0.16993828,  0.16785749,  0.15987446,  0.15130927,  0.15644501,\n",
       "        0.15733857,  0.15615295,  0.15017389,  0.13401955,  0.12785978,\n",
       "        0.13266038,  0.14778915,  0.14057091,  0.13449091,  0.13538277,\n",
       "        0.14189824,  0.13210708,  0.15090331,  0.14653688,  0.15223626,\n",
       "        0.1298725 ,  0.13686332,  0.13623916,  0.14327309,  0.14518728,\n",
       "        0.14972062,  0.15565251,  0.15778381,  0.1633247 ,  0.13290905,\n",
       "        0.13243563,  0.12532394,  0.1588413 ,  0.160939  ,  0.15376985,\n",
       "        0.13943667,  0.13302223,  0.1368386 ,  0.12971599,  0.12845366,\n",
       "        0.12784545,  0.14020688,  0.14588541,  0.14009756,  0.13183661,\n",
       "        0.11711584,  0.12557539,  0.12550707,  0.13590917,  0.13294191,\n",
       "        0.13738635,  0.13909806,  0.14149526,  0.14976707,  0.140719  ,\n",
       "        0.15489212,  0.15619491,  0.17518725,  0.17622536,  0.17949541,\n",
       "        0.17732829,  0.18081661,  0.18323733,  0.18767528,  0.18576189,\n",
       "        0.17760512,  0.19042517,  0.19123942,  0.19758093,  0.19087118,\n",
       "        0.18486333,  0.19207972,  0.19181263,  0.19378366,  0.18711634,\n",
       "        0.18095599,  0.18083955,  0.18558925,  0.18149074,  0.17520366,\n",
       "        0.16887487,  0.16929326,  0.17966979,  0.17255542,  0.1715803 ,\n",
       "        0.16794274,  0.17813744,  0.18019829,  0.18367462,  0.18434629,\n",
       "        0.17835328,  0.18024689,  0.17791112,  0.18572035,  0.17939588,\n",
       "        0.18269551,  0.18876094,  0.18985851,  0.18646195,  0.1845983 ,\n",
       "        0.18238734,  0.18076343,  0.18741946,  0.18937289,  0.19206983,\n",
       "        0.18538354,  0.18667403,  0.18694066,  0.183622  ,  0.18357671,\n",
       "        0.18144938,  0.18891936,  0.19154213,  0.19145597,  0.1867436 ,\n",
       "        0.18253989,  0.18802215,  0.19258677,  0.19883789,  0.19994382,\n",
       "        0.1944504 ,  0.18881848,  0.1916782 ,  0.18494492,  0.18649129,\n",
       "        0.18512347,  0.19515862,  0.19621706,  0.19029437,  0.18311577,\n",
       "        0.17196951,  0.16256357,  0.15989805,  0.16802386,  0.165773  ,\n",
       "        0.16035222,  0.15046672,  0.14933373,  0.14644147,  0.1479898 ,\n",
       "        0.1507797 ,  0.16175623,  0.16326713,  0.1682704 ,  0.16678049,\n",
       "        0.16625746,  0.16651758,  0.17157281,  0.17722961,  0.17859406,\n",
       "        0.1412033 ,  0.12094466,  0.29141091,  0.20459738,  0.12397358,\n",
       "        0.1483682 ,  0.0700466 ,  0.28346995,  0.14686694,  0.13489063,\n",
       "        0.12557926,  0.20226561,  0.24510918])"
      ]
     },
     "execution_count": 8,
     "metadata": {},
     "output_type": "execute_result"
    }
   ],
   "source": [
    "predicted_y_values = model.predict(X)\n",
    "predicted_y_values"
   ]
  },
  {
   "cell_type": "code",
   "execution_count": 9,
   "id": "646caf4e-6a40-4d42-9fbe-57694df4da8a",
   "metadata": {},
   "outputs": [
    {
     "data": {
      "text/plain": [
       "0.16237696378159455"
      ]
     },
     "execution_count": 9,
     "metadata": {},
     "output_type": "execute_result"
    }
   ],
   "source": [
    "#Extracting coef, intercept\n",
    "\n",
    "model.coef_\n",
    "model.intercept_\n"
   ]
  },
  {
   "cell_type": "code",
   "execution_count": 10,
   "id": "bdf4db68-9fe3-4403-97f0-564199fe18ff",
   "metadata": {},
   "outputs": [
    {
     "data": {
      "text/plain": [
       "[<matplotlib.lines.Line2D at 0x2ec4076e388>]"
      ]
     },
     "execution_count": 10,
     "metadata": {},
     "output_type": "execute_result"
    },
    {
     "data": {
      "image/png": "[encoded data removed]",
      "text/plain": [
       "<Figure size 432x288 with 1 Axes>"
      ]
     },
     "metadata": {
      "needs_background": "light"
     },
     "output_type": "display_data"
    }
   ],
   "source": [
    "#Plotting Results\n",
    "\n",
    "plt.scatter(X, y)\n",
    "plt.plot(X, predicted_y_values, color='red')"
   ]
  },
  {
   "cell_type": "code",
   "execution_count": 11,
   "id": "2f294756-e05f-4df6-83b6-47faf37ac8c2",
   "metadata": {},
   "outputs": [],
   "source": [
    "#Metrics - score, R2, mse, rmse, std\n",
    "\n",
    "from sklearn.metrics import mean_squared_error, r2_score\n",
    "\n",
    "score = model.score(X, y, sample_weight=None)\n",
    "r2 = r2_score(y, predicted_y_values)\n",
    "mse = mean_squared_error(y, predicted_y_values)\n",
    "rmse = np.sqrt(mse)\n",
    "std = np.std(y)"
   ]
  },
  {
   "cell_type": "code",
   "execution_count": 12,
   "id": "7465aeba-8643-4f5b-ac08-dbb7bb6c707e",
   "metadata": {},
   "outputs": [
    {
     "name": "stdout",
     "output_type": "stream",
     "text": [
      "Score: 0.0004358444101539849\n",
      "R-squared (R2 ): 0.0004358444101539849\n",
      "Mean Squared Error (MSE): 17.182417756331425\n",
      "Root Mean Squared Error (RMSE): 4.145168000977937\n",
      "Standard Deviation: 4.146071620517999\n"
     ]
    }
   ],
   "source": [
    "# Print the score, r2, mse, rmse, and standard deviation\n",
    "print(f\"Score: {score}\")\n",
    "print(f\"R-squared (R2 ): {r2}\")\n",
    "print(f\"Mean Squared Error (MSE): {mse}\")\n",
    "print(f\"Root Mean Squared Error (RMSE): {rmse}\")\n",
    "print(f\"Standard Deviation: {np.std(y)}\")"
   ]
  },
  {
   "cell_type": "code",
   "execution_count": null,
   "id": "a0cd2ff7-19b0-44cd-9028-3e9a10472826",
   "metadata": {},
   "outputs": [],
   "source": []
  },
  {
   "cell_type": "code",
   "execution_count": null,
   "id": "db325dc7-e262-4da1-9a13-692d86d49679",
   "metadata": {},
   "outputs": [],
   "source": []
  },
  {
   "cell_type": "code",
   "execution_count": 13,
   "id": "20479d61-8892-4b63-bd8d-73ab1885c8be",
   "metadata": {},
   "outputs": [],
   "source": [
    "#Build Logistic Regression\n",
    "\n",
    "#train test split\n",
    "\n",
    "from sklearn.model_selection import train_test_split\n",
    "\n",
    "X_train, X_test, y_train, y_test = train_test_split(X, y, random_state=78)"
   ]
  },
  {
   "cell_type": "code",
   "execution_count": 14,
   "id": "169dd0b7-44c9-473d-9bfc-0be635688e84",
   "metadata": {},
   "outputs": [],
   "source": [
    "#Create Model\n",
    "#classifier = LogisticRegression(solver='lbfgs', warm_start=True, random_state=78)\n",
    "#classifier"
   ]
  },
  {
   "cell_type": "code",
   "execution_count": 15,
   "id": "ec154b37-b0b0-4940-abb4-19e4c9f1e02f",
   "metadata": {},
   "outputs": [],
   "source": [
    "# Train the data\n",
    "#classifier.fit(X_train, y_train)"
   ]
  },
  {
   "cell_type": "code",
   "execution_count": 16,
   "id": "a2a245d3-7241-4bfe-bc87-84bba3fcc5cf",
   "metadata": {},
   "outputs": [],
   "source": [
    "# Score the model\n",
    "#print(f\"Training Data Score: {classifier.score(X_train, y_train)}\")\n",
    "#print(f\"Testing Data Score: {classifier.score(X_test, y_test)}\")"
   ]
  },
  {
   "cell_type": "code",
   "execution_count": 17,
   "id": "2f526217-4875-46dc-b773-102a6553534f",
   "metadata": {},
   "outputs": [],
   "source": [
    "# Predict outcomes for test data set\n",
    "#predictions = classifier.predict(X_test)\n",
    "#pd.DataFrame({\"Prediction\": predictions, \"Actual\": y_test}).reset_index(drop=True)"
   ]
  },
  {
   "cell_type": "code",
   "execution_count": 18,
   "id": "f63fc2a5-bc84-45f5-8209-a12031626481",
   "metadata": {},
   "outputs": [],
   "source": [
    "#Confusion Matrix\n",
    "#from sklearn.metrics import confusion matrix\n",
    "#confusion_matrix(y_test, predictions)"
   ]
  },
  {
   "cell_type": "code",
   "execution_count": 19,
   "id": "0a3b9dd2-9c7d-4062-ab43-07c1a34a4032",
   "metadata": {},
   "outputs": [],
   "source": [
    "#Classification Report\n",
    "#from sklearn.metrics import classsification report\n",
    "#print(classification_report(y_test, predictions))"
   ]
  },
  {
   "cell_type": "code",
   "execution_count": null,
   "id": "ba51b342-217d-479f-8bbb-77404c7be9b1",
   "metadata": {},
   "outputs": [],
   "source": []
  },
  {
   "cell_type": "code",
   "execution_count": null,
   "id": "f498d41c-40c7-4fcf-876f-56df4cb281dc",
   "metadata": {},
   "outputs": [],
   "source": []
  },
  {
   "cell_type": "code",
   "execution_count": 20,
   "id": "8c1f287a-a1a3-4513-a302-f100f5814376",
   "metadata": {},
   "outputs": [],
   "source": [
    "#Build LSTM Model\n",
    "\n",
    "def window_data(df, window, feature_col_number, target_col_number):\n",
    "    X = []\n",
    "    y = []\n",
    "    for i in range(len(df) - window - 1):\n",
    "        features = df.iloc[i:(i + window), feature_col_number]\n",
    "        target = df.iloc[(i + window), target_col_number]\n",
    "        X.append(features)\n",
    "        y.append(target)\n",
    "    return np.array(X), np.array(y).reshape(-1, 1)"
   ]
  },
  {
   "cell_type": "code",
   "execution_count": 21,
   "id": "e869d375-9a1e-43a6-b753-5fe71d7135b2",
   "metadata": {},
   "outputs": [],
   "source": [
    "# Predict Percent Change of Housing Prices using a 10 month window of previous fng values\n",
    "# Then, experiment with window sizes anywhere from 1 to 10 and see how the model performance changes\n",
    "window_size = 3\n",
    "\n",
    "# Column index 0 is the 'fng_value' column\n",
    "# Column index 1 is the `Close` column\n",
    "feature_column = 3\n",
    "target_column = 2\n",
    "X, y = window_data(metro_df, window_size, feature_column, target_column)"
   ]
  },
  {
   "cell_type": "code",
   "execution_count": 22,
   "id": "5ae36ef7-f7be-4fb5-a768-c58395e2cacd",
   "metadata": {},
   "outputs": [],
   "source": [
    "# Use 70% of the data for training and the remaineder for testing\n",
    "split = int(0.8 * len(X))\n",
    "\n",
    "X_train = X[: split]\n",
    "X_test = X[split:]\n",
    "y_train = y [: split]\n",
    "y_test = y[split:]"
   ]
  },
  {
   "cell_type": "code",
   "execution_count": 23,
   "id": "173af09f-abae-4134-aa8b-f60c729d3438",
   "metadata": {},
   "outputs": [],
   "source": [
    "from sklearn.preprocessing import MinMaxScaler\n",
    "# Use the MinMaxScaler to scale data between 0 and 1.\n",
    "scaler = MinMaxScaler()\n",
    "scaler.fit(X)\n",
    "X_train = scaler.transform(X_train)\n",
    "X_test = scaler.transform(X_test)\n",
    "scaler.fit(y)\n",
    "y_train = scaler.transform(y_train)\n",
    "y_test = scaler.transform(y_test)\n"
   ]
  },
  {
   "cell_type": "code",
   "execution_count": 24,
   "id": "ed3ecea9-3fc2-4991-ae2a-21756334777f",
   "metadata": {},
   "outputs": [],
   "source": [
    "# Reshape the features for the model\n",
    "X_train = X_train.reshape((X_train.shape[0], X_train.shape[1], 1))\n",
    "X_test = X_test.reshape((X_test.shape[0], X_test.shape[1], 1))"
   ]
  },
  {
   "cell_type": "code",
   "execution_count": 25,
   "id": "8a287fed-9b4f-4b5b-951c-8789a4276a89",
   "metadata": {},
   "outputs": [
    {
     "name": "stderr",
     "output_type": "stream",
     "text": [
      "C:\\ProgramData\\Anaconda3\\envs\\deep\\lib\\site-packages\\tensorboard\\compat\\tensorflow_stub\\dtypes.py:541: FutureWarning: Passing (type, 1) or '1type' as a synonym of type is deprecated; in a future version of numpy, it will be understood as (type, (1,)) / '(1,)type'.\n",
      "  _np_qint8 = np.dtype([(\"qint8\", np.int8, 1)])\n",
      "C:\\ProgramData\\Anaconda3\\envs\\deep\\lib\\site-packages\\tensorboard\\compat\\tensorflow_stub\\dtypes.py:542: FutureWarning: Passing (type, 1) or '1type' as a synonym of type is deprecated; in a future version of numpy, it will be understood as (type, (1,)) / '(1,)type'.\n",
      "  _np_quint8 = np.dtype([(\"quint8\", np.uint8, 1)])\n",
      "C:\\ProgramData\\Anaconda3\\envs\\deep\\lib\\site-packages\\tensorboard\\compat\\tensorflow_stub\\dtypes.py:543: FutureWarning: Passing (type, 1) or '1type' as a synonym of type is deprecated; in a future version of numpy, it will be understood as (type, (1,)) / '(1,)type'.\n",
      "  _np_qint16 = np.dtype([(\"qint16\", np.int16, 1)])\n",
      "C:\\ProgramData\\Anaconda3\\envs\\deep\\lib\\site-packages\\tensorboard\\compat\\tensorflow_stub\\dtypes.py:544: FutureWarning: Passing (type, 1) or '1type' as a synonym of type is deprecated; in a future version of numpy, it will be understood as (type, (1,)) / '(1,)type'.\n",
      "  _np_quint16 = np.dtype([(\"quint16\", np.uint16, 1)])\n",
      "C:\\ProgramData\\Anaconda3\\envs\\deep\\lib\\site-packages\\tensorboard\\compat\\tensorflow_stub\\dtypes.py:545: FutureWarning: Passing (type, 1) or '1type' as a synonym of type is deprecated; in a future version of numpy, it will be understood as (type, (1,)) / '(1,)type'.\n",
      "  _np_qint32 = np.dtype([(\"qint32\", np.int32, 1)])\n",
      "C:\\ProgramData\\Anaconda3\\envs\\deep\\lib\\site-packages\\tensorboard\\compat\\tensorflow_stub\\dtypes.py:550: FutureWarning: Passing (type, 1) or '1type' as a synonym of type is deprecated; in a future version of numpy, it will be understood as (type, (1,)) / '(1,)type'.\n",
      "  np_resource = np.dtype([(\"resource\", np.ubyte, 1)])\n"
     ]
    }
   ],
   "source": [
    "from tensorflow.keras.models import Sequential\n",
    "from tensorflow.keras.layers import LSTM, Dense, Dropout"
   ]
  },
  {
   "cell_type": "code",
   "execution_count": 26,
   "id": "34fd519a-f2c3-402a-b7fc-c5fa44259fe8",
   "metadata": {},
   "outputs": [],
   "source": [
    "# Build the LSTM model. \n",
    "# The return sequences need to be set to True if you are adding additional LSTM layers, but \n",
    "# You don't have to do this for the final layer. \n",
    "# Note: The dropouts help prevent overfitting\n",
    "# Note: The input shape is the number of time steps and the number of indicators\n",
    "# Note: Batching inputs has a different input shape of Samples/TimeSteps/Features\n",
    "\n",
    "model = Sequential()\n",
    "\n",
    "number_units = 10\n",
    "dropout_fraction = 0.2\n",
    "\n",
    "\n",
    "# Layer 1\n",
    "model.add(LSTM(\n",
    "    units=number_units,\n",
    "    return_sequences=True,\n",
    "    input_shape=(X_train.shape[1], 1))\n",
    "    )\n",
    "model.add(Dropout(dropout_fraction))\n",
    "\n",
    "# Layer 2\n",
    "model.add(LSTM(units=number_units, return_sequences=True))\n",
    "model.add(Dropout(dropout_fraction))\n",
    "\n",
    "# Layer 3\n",
    "model.add(LSTM(units=number_units))\n",
    "model.add(Dropout(dropout_fraction))\n",
    "\n",
    "# Output layer\n",
    "model.add(Dense(1))"
   ]
  },
  {
   "cell_type": "code",
   "execution_count": 27,
   "id": "108d1b2b-0003-4d81-bfde-538877c71196",
   "metadata": {},
   "outputs": [],
   "source": [
    "# Compile the model\n",
    "model.compile(optimizer='adam', loss=\"mean_squared_error\")"
   ]
  },
  {
   "cell_type": "code",
   "execution_count": 28,
   "id": "dce4419a-7802-4085-9aaf-f4fed73207be",
   "metadata": {},
   "outputs": [
    {
     "name": "stdout",
     "output_type": "stream",
     "text": [
      "Model: \"sequential\"\n",
      "_________________________________________________________________\n",
      "Layer (type)                 Output Shape              Param #   \n",
      "=================================================================\n",
      "lstm (LSTM)                  (None, 3, 10)             480       \n",
      "_________________________________________________________________\n",
      "dropout (Dropout)            (None, 3, 10)             0         \n",
      "_________________________________________________________________\n",
      "lstm_1 (LSTM)                (None, 3, 10)             840       \n",
      "_________________________________________________________________\n",
      "dropout_1 (Dropout)          (None, 3, 10)             0         \n",
      "_________________________________________________________________\n",
      "lstm_2 (LSTM)                (None, 10)                840       \n",
      "_________________________________________________________________\n",
      "dropout_2 (Dropout)          (None, 10)                0         \n",
      "_________________________________________________________________\n",
      "dense (Dense)                (None, 1)                 11        \n",
      "=================================================================\n",
      "Total params: 2,171\n",
      "Trainable params: 2,171\n",
      "Non-trainable params: 0\n",
      "_________________________________________________________________\n"
     ]
    }
   ],
   "source": [
    "# Summarize the model\n",
    "model.summary()"
   ]
  },
  {
   "cell_type": "code",
   "execution_count": 29,
   "id": "4b21713b-0f3c-44f2-83ec-448f4db60f4f",
   "metadata": {},
   "outputs": [
    {
     "name": "stdout",
     "output_type": "stream",
     "text": [
      "Epoch 1/10\n",
      "239/239 [==============================] - 4s 2ms/step - loss: 0.0331\n",
      "Epoch 2/10\n",
      "239/239 [==============================] - 1s 2ms/step - loss: 0.0092\n",
      "Epoch 3/10\n",
      "239/239 [==============================] - 1s 2ms/step - loss: 0.0102\n",
      "Epoch 4/10\n",
      "239/239 [==============================] - 1s 2ms/step - loss: 0.0083\n",
      "Epoch 5/10\n",
      "239/239 [==============================] - 1s 2ms/step - loss: 0.0081\n",
      "Epoch 6/10\n",
      "239/239 [==============================] - 1s 2ms/step - loss: 0.0078\n",
      "Epoch 7/10\n",
      "239/239 [==============================] - 1s 2ms/step - loss: 0.0080\n",
      "Epoch 8/10\n",
      "239/239 [==============================] - 1s 2ms/step - loss: 0.0082A: 0s - loss\n",
      "Epoch 9/10\n",
      "239/239 [==============================] - 1s 2ms/step - loss: 0.0080\n",
      "Epoch 10/10\n",
      "239/239 [==============================] - 1s 2ms/step - loss: 0.0073\n"
     ]
    },
    {
     "data": {
      "text/plain": [
       "<tensorflow.python.keras.callbacks.History at 0x2ec53db0688>"
      ]
     },
     "execution_count": 29,
     "metadata": {},
     "output_type": "execute_result"
    }
   ],
   "source": [
    "# Train the model\n",
    "# Use at least 10 epochs\n",
    "# Do not shuffle the data\n",
    "# Experiement with the batch size, but a smaller batch size is recommended\n",
    "model.fit(X_train, y_train, epochs=10, shuffle=False, batch_size=1, verbose=1)"
   ]
  },
  {
   "cell_type": "code",
   "execution_count": 30,
   "id": "cf391f41-edce-4fa4-a72f-8e8d5bdd2b5e",
   "metadata": {},
   "outputs": [
    {
     "name": "stdout",
     "output_type": "stream",
     "text": [
      "2/2 [==============================] - 1s 2ms/step - loss: 0.0218\n"
     ]
    },
    {
     "data": {
      "text/plain": [
       "0.021814217790961266"
      ]
     },
     "execution_count": 30,
     "metadata": {},
     "output_type": "execute_result"
    }
   ],
   "source": [
    "# Evaluate the model\n",
    "model.evaluate(X_test, y_test)"
   ]
  },
  {
   "cell_type": "code",
   "execution_count": 31,
   "id": "09974f9a-6d29-4890-8b08-8b264f395073",
   "metadata": {},
   "outputs": [],
   "source": [
    "# Make some predictions\n",
    "predicted = model.predict(X_test)"
   ]
  },
  {
   "cell_type": "code",
   "execution_count": 32,
   "id": "f93b039a-fd71-4542-bab5-0ac63486abb5",
   "metadata": {},
   "outputs": [],
   "source": [
    "# Recover the original prices instead of the scaled version\n",
    "predicted_prices = scaler.inverse_transform(predicted)\n",
    "real_prices = scaler.inverse_transform(y_test.reshape(-1, 1))"
   ]
  },
  {
   "cell_type": "code",
   "execution_count": 33,
   "id": "28c63dfe-e912-4f8d-89dc-cccf82ab8bdd",
   "metadata": {},
   "outputs": [
    {
     "data": {
      "text/html": [
       "<div>\n",
       "<style scoped>\n",
       "    .dataframe tbody tr th:only-of-type {\n",
       "        vertical-align: middle;\n",
       "    }\n",
       "\n",
       "    .dataframe tbody tr th {\n",
       "        vertical-align: top;\n",
       "    }\n",
       "\n",
       "    .dataframe thead th {\n",
       "        text-align: right;\n",
       "    }\n",
       "</style>\n",
       "<table border=\"1\" class=\"dataframe\">\n",
       "  <thead>\n",
       "    <tr style=\"text-align: right;\">\n",
       "      <th></th>\n",
       "      <th>Real</th>\n",
       "      <th>Predicted</th>\n",
       "    </tr>\n",
       "    <tr>\n",
       "      <th>date</th>\n",
       "      <th></th>\n",
       "      <th></th>\n",
       "    </tr>\n",
       "  </thead>\n",
       "  <tbody>\n",
       "    <tr>\n",
       "      <th>2021-01-31</th>\n",
       "      <td>2.022565</td>\n",
       "      <td>0.579152</td>\n",
       "    </tr>\n",
       "    <tr>\n",
       "      <th>2021-02-28</th>\n",
       "      <td>3.963280</td>\n",
       "      <td>0.602710</td>\n",
       "    </tr>\n",
       "    <tr>\n",
       "      <th>2021-03-31</th>\n",
       "      <td>1.313120</td>\n",
       "      <td>0.590264</td>\n",
       "    </tr>\n",
       "    <tr>\n",
       "      <th>2021-04-30</th>\n",
       "      <td>-1.316731</td>\n",
       "      <td>0.595793</td>\n",
       "    </tr>\n",
       "    <tr>\n",
       "      <th>2021-05-31</th>\n",
       "      <td>-1.762791</td>\n",
       "      <td>0.586545</td>\n",
       "    </tr>\n",
       "  </tbody>\n",
       "</table>\n",
       "</div>"
      ],
      "text/plain": [
       "                Real  Predicted\n",
       "date                           \n",
       "2021-01-31  2.022565   0.579152\n",
       "2021-02-28  3.963280   0.602710\n",
       "2021-03-31  1.313120   0.590264\n",
       "2021-04-30 -1.316731   0.595793\n",
       "2021-05-31 -1.762791   0.586545"
      ]
     },
     "execution_count": 33,
     "metadata": {},
     "output_type": "execute_result"
    }
   ],
   "source": [
    "# Create a DataFrame of Real and Predicted values\n",
    "housing = pd.DataFrame({\n",
    "    \"Real\": real_prices.ravel(),\n",
    "    \"Predicted\": predicted_prices.ravel()\n",
    "}, index = metro_df.index[-len(real_prices): ]) \n",
    "\n",
    "housing.tail()"
   ]
  },
  {
   "cell_type": "code",
   "execution_count": 34,
   "id": "f63434aa-8196-43e4-96ea-ee93c03e1a16",
   "metadata": {},
   "outputs": [
    {
     "data": {
      "text/plain": [
       "<AxesSubplot:xlabel='date'>"
      ]
     },
     "execution_count": 34,
     "metadata": {},
     "output_type": "execute_result"
    },
    {
     "data": {
      "image/png": "[encoded data removed]",
      "text/plain": [
       "<Figure size 432x288 with 1 Axes>"
      ]
     },
     "metadata": {
      "needs_background": "light"
     },
     "output_type": "display_data"
    }
   ],
   "source": [
    "# Plot the real vs predicted values as a line chart\n",
    "housing.plot()"
   ]
  },
  {
   "cell_type": "code",
   "execution_count": null,
   "id": "d74cab46-c31b-4222-860a-41231e1b5f97",
   "metadata": {},
   "outputs": [],
   "source": []
  },
  {
   "cell_type": "code",
   "execution_count": null,
   "id": "3d649de0-ef94-466e-8335-98da24d4052a",
   "metadata": {},
   "outputs": [],
   "source": []
  },
  {
   "cell_type": "code",
   "execution_count": 35,
   "id": "269fdfad-0149-46a4-885c-a149d269f633",
   "metadata": {},
   "outputs": [],
   "source": [
    "#Lazy Predict - Regression\n",
    "\n",
    "#from lazypredict.Supervised import LazyClassifier\n",
    "#from sklearn.datasets import load_breast_cancer\n",
    "#from sklearn.model_selection import train_test_split\n",
    "\n",
    "#data = load_breast_cancer()\n",
    "#X = data.data\n",
    "#y= data.target\n",
    "\n",
    "#X_train, X_test, y_train, y_test = train_test_split(X, y,test_size=.5,random_state =123)\n",
    "\n",
    "#clf = LazyClassifier(verbose=0,ignore_warnings=True, custom_metric=None)\n",
    "#models,predictions = clf.fit(X_train, X_test, y_train, y_test)\n",
    "\n",
    "#print(models)"
   ]
  },
  {
   "cell_type": "code",
   "execution_count": null,
   "id": "f21df48e-e1ad-4ef5-ade1-62717cbaa53d",
   "metadata": {},
   "outputs": [],
   "source": []
  },
  {
   "cell_type": "code",
   "execution_count": null,
   "id": "60bcd885-dbd6-4d52-bd55-658ee97d7801",
   "metadata": {},
   "outputs": [],
   "source": []
  },
  {
   "cell_type": "code",
   "execution_count": null,
   "id": "642d07e8-b864-4c2b-8f29-754941982e8b",
   "metadata": {},
   "outputs": [],
   "source": []
  }
 ],
 "metadata": {
  "kernelspec": {
   "display_name": "Python 3",
   "language": "python",
   "name": "python3"
  },
  "language_info": {
   "codemirror_mode": {
    "name": "ipython",
    "version": 3
   },
   "file_extension": ".py",
   "mimetype": "text/x-python",
   "name": "python",
   "nbconvert_exporter": "python",
   "pygments_lexer": "ipython3",
   "version": "3.7.10"
  }
 },
 "nbformat": 4,
 "nbformat_minor": 5
}
