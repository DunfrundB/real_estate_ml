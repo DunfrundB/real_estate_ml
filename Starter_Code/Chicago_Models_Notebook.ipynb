{
 "cells": [
  {
   "cell_type": "code",
   "execution_count": 138,
   "id": "695101dd-0887-4a40-bbb5-6a7e20d45c6d",
   "metadata": {},
   "outputs": [],
   "source": [
    "# Initial imports\n",
    "import pandas as pd\n",
    "from pathlib import Path\n",
    "import numpy as np\n",
    "import matplotlib.pyplot as plt\n",
    "from sklearn import tree\n",
    "from sklearn.preprocessing import StandardScaler\n",
    "from sklearn.model_selection import train_test_split\n",
    "from sklearn.metrics import confusion_matrix, accuracy_score, classification_report\n",
    "from matplotlib import style\n",
    "style.use(\"ggplot\")\n",
    "from sklearn.linear_model import LinearRegression\n",
    "%matplotlib inline\n",
    "from sklearn.linear_model import LogisticRegression\n",
    "from sklearn.ensemble import GradientBoostingClassifier\n",
    "import lazypredict\n",
    "\n",
    "\n",
    "\n",
    "# Needed for decision tree visualization\n",
    "import pydotplus\n",
    "from IPython.display import Image"
   ]
  },
  {
   "cell_type": "code",
   "execution_count": null,
   "id": "6df95cb2-0227-4a14-94c2-c6ecfc2e062a",
   "metadata": {},
   "outputs": [],
   "source": []
  },
  {
   "cell_type": "code",
   "execution_count": 139,
   "id": "845c4460-f709-42bd-9b8e-b54e025186d0",
   "metadata": {},
   "outputs": [],
   "source": [
    "#file_path = Path(\"../Resources/metro_2br.csv\")\n",
    "#metro_df = pd.read_csv(file_path)\n",
    "#metro_df.drop(columns='indicator_id', inplace=True)\n",
    "#metro_df.head()\n",
    "\n",
    "\n",
    "#metro_df.set_index(pd.to_datetime(metro_df['date']), inplace=True)\n",
    "#metro_df.drop('date', axis=1, inplace=True)\n",
    "#metro_df.head()"
   ]
  },
  {
   "cell_type": "markdown",
   "id": "eaac8d4e-2ac9-4068-ad4c-2873b88414a4",
   "metadata": {},
   "source": [
    "### Chicago Condo Regression"
   ]
  },
  {
   "cell_type": "code",
   "execution_count": 140,
   "id": "52609849-0150-47c3-b697-4ceda5703c44",
   "metadata": {},
   "outputs": [
    {
     "data": {
      "text/html": [
       "<div>\n",
       "<style scoped>\n",
       "    .dataframe tbody tr th:only-of-type {\n",
       "        vertical-align: middle;\n",
       "    }\n",
       "\n",
       "    .dataframe tbody tr th {\n",
       "        vertical-align: top;\n",
       "    }\n",
       "\n",
       "    .dataframe thead th {\n",
       "        text-align: right;\n",
       "    }\n",
       "</style>\n",
       "<table border=\"1\" class=\"dataframe\">\n",
       "  <thead>\n",
       "    <tr style=\"text-align: right;\">\n",
       "      <th></th>\n",
       "      <th>value</th>\n",
       "      <th>region</th>\n",
       "      <th>change</th>\n",
       "      <th>lagged_change</th>\n",
       "    </tr>\n",
       "    <tr>\n",
       "      <th>date</th>\n",
       "      <th></th>\n",
       "      <th></th>\n",
       "      <th></th>\n",
       "      <th></th>\n",
       "    </tr>\n",
       "  </thead>\n",
       "  <tbody>\n",
       "    <tr>\n",
       "      <th>1996-01-31</th>\n",
       "      <td>135785.0</td>\n",
       "      <td>Chicago, IL</td>\n",
       "      <td>-38.164588</td>\n",
       "      <td>-0.412697</td>\n",
       "    </tr>\n",
       "    <tr>\n",
       "      <th>1996-02-29</th>\n",
       "      <td>135573.0</td>\n",
       "      <td>Chicago, IL</td>\n",
       "      <td>-0.156129</td>\n",
       "      <td>-38.164588</td>\n",
       "    </tr>\n",
       "    <tr>\n",
       "      <th>1996-03-31</th>\n",
       "      <td>135330.0</td>\n",
       "      <td>Chicago, IL</td>\n",
       "      <td>-0.179239</td>\n",
       "      <td>-0.156129</td>\n",
       "    </tr>\n",
       "    <tr>\n",
       "      <th>1996-04-30</th>\n",
       "      <td>135097.0</td>\n",
       "      <td>Chicago, IL</td>\n",
       "      <td>-0.172172</td>\n",
       "      <td>-0.179239</td>\n",
       "    </tr>\n",
       "    <tr>\n",
       "      <th>1996-05-31</th>\n",
       "      <td>134739.0</td>\n",
       "      <td>Chicago, IL</td>\n",
       "      <td>-0.264995</td>\n",
       "      <td>-0.172172</td>\n",
       "    </tr>\n",
       "  </tbody>\n",
       "</table>\n",
       "</div>"
      ],
      "text/plain": [
       "               value       region     change  lagged_change\n",
       "date                                                       \n",
       "1996-01-31  135785.0  Chicago, IL -38.164588      -0.412697\n",
       "1996-02-29  135573.0  Chicago, IL  -0.156129     -38.164588\n",
       "1996-03-31  135330.0  Chicago, IL  -0.179239      -0.156129\n",
       "1996-04-30  135097.0  Chicago, IL  -0.172172      -0.179239\n",
       "1996-05-31  134739.0  Chicago, IL  -0.264995      -0.172172"
      ]
     },
     "execution_count": 140,
     "metadata": {},
     "output_type": "execute_result"
    }
   ],
   "source": [
    "file_path = Path(\"../Resources/chi_condo.csv\")\n",
    "metro_df = pd.read_csv(file_path)\n",
    "metro_df = metro_df.drop('indicator_id',axis=1)\n",
    "metro_df = metro_df.drop('region_id',axis=1)\n",
    "metro_df = metro_df.sort_values('date')\n",
    "metro_df['date'] = pd.to_datetime(metro_df['date'])\n",
    "metro_df = metro_df.set_index('date')\n",
    "metro_df = metro_df.dropna()\n",
    "metro_df.head()"
   ]
  },
  {
   "cell_type": "code",
   "execution_count": 141,
   "id": "e3dcf498-dbfa-4288-80a3-ae3dbb423203",
   "metadata": {},
   "outputs": [
    {
     "data": {
      "text/plain": [
       "<AxesSubplot:xlabel='date'>"
      ]
     },
     "execution_count": 141,
     "metadata": {},
     "output_type": "execute_result"
    },
    {
     "data": {
      "image/png": "[encoded data removed]",
      "text/plain": [
       "<Figure size 432x288 with 1 Axes>"
      ]
     },
     "metadata": {
      "needs_background": "light"
     },
     "output_type": "display_data"
    }
   ],
   "source": [
    "metro_df.plot()"
   ]
  },
  {
   "cell_type": "code",
   "execution_count": 142,
   "id": "a3c4428e-d24c-4948-a5fa-52581c67d71c",
   "metadata": {},
   "outputs": [
    {
     "data": {
      "text/plain": [
       "LinearRegression()"
      ]
     },
     "execution_count": 142,
     "metadata": {},
     "output_type": "execute_result"
    }
   ],
   "source": [
    "#Build Linear Regression\n",
    "from sklearn.linear_model import LinearRegression\n",
    "model = LinearRegression()\n",
    "model"
   ]
  },
  {
   "cell_type": "code",
   "execution_count": 143,
   "id": "f27285ac-0733-4607-aa8a-73e2f5a3586d",
   "metadata": {},
   "outputs": [],
   "source": [
    "# Separate the data into the X and y components\n",
    "# In this case, y will be the `value` and X will be the remainign columns\n",
    "\n",
    "#X = metro_df.drop(columns='value', axis=1)\n",
    "X = metro_df.lagged_change.to_frame()\n",
    "y = metro_df.change.values"
   ]
  },
  {
   "cell_type": "code",
   "execution_count": 144,
   "id": "a715b377-0b42-4171-a986-cbd722bd1163",
   "metadata": {},
   "outputs": [
    {
     "data": {
      "text/plain": [
       "LinearRegression()"
      ]
     },
     "execution_count": 144,
     "metadata": {},
     "output_type": "execute_result"
    }
   ],
   "source": [
    "# Fit the model to the data\n",
    "\n",
    "model.fit(X, y)"
   ]
  },
  {
   "cell_type": "code",
   "execution_count": 145,
   "id": "a1e3f7b3-79a7-4f02-a0fc-9c23ef8e8526",
   "metadata": {},
   "outputs": [
    {
     "data": {
      "text/plain": [
       "array([ 8.12225793e-03, -2.28471868e+00,  2.37047398e-02,  2.23011630e-02,\n",
       "        2.27304039e-02,  1.70928454e-02,  2.65159672e-02,  1.75287154e-02,\n",
       "        5.82511452e-02,  6.32845097e-02,  9.45197093e-02,  7.75726695e-02,\n",
       "        6.91870300e-02,  4.62845107e-02,  3.64216709e-02,  4.15312484e-02,\n",
       "        3.13984802e-02,  4.26132360e-02,  2.76099959e-02,  2.92621127e-02,\n",
       "       -4.01714424e-02, -5.05656269e-02, -9.71100913e-02, -6.54538201e-02,\n",
       "       -4.17241539e-02,  9.53802650e-03,  3.71125627e-02,  3.87642477e-02,\n",
       "        3.87591311e-02,  3.62536536e-02,  3.66293301e-02,  5.51008823e-02,\n",
       "        8.33370827e-02,  9.82486594e-02,  1.11106210e-01,  1.04523328e-01,\n",
       "        8.99353168e-02,  6.27687451e-02,  5.24283952e-02,  5.40912202e-02,\n",
       "        6.04938440e-02,  5.80916337e-02,  7.15703170e-02,  7.45403184e-02,\n",
       "        7.51657376e-02,  6.41339513e-02,  6.90022482e-02,  7.31529600e-02,\n",
       "        7.42376039e-02,  7.93513047e-02,  7.89615967e-02,  8.07179459e-02,\n",
       "        7.73680760e-02,  7.68463169e-02,  7.36368254e-02,  6.86912995e-02,\n",
       "        7.43281717e-02,  8.01316381e-02,  8.30234627e-02,  8.18017812e-02,\n",
       "        8.07603535e-02,  7.98550763e-02,  7.36912306e-02,  7.53083576e-02,\n",
       "        7.59919332e-02,  8.06010998e-02,  8.06028113e-02,  8.05650244e-02,\n",
       "        8.02346290e-02,  7.99811336e-02,  8.08754891e-02,  8.02909817e-02,\n",
       "        7.77446261e-02,  7.29793352e-02,  7.41098870e-02,  7.70106080e-02,\n",
       "        7.12836688e-02,  7.50295622e-02,  7.05504610e-02,  7.62030954e-02,\n",
       "        7.36314225e-02,  7.30655360e-02,  7.08294297e-02,  6.19895727e-02,\n",
       "        6.71634373e-02,  6.66504804e-02,  7.22339224e-02,  6.55182693e-02,\n",
       "        6.77670242e-02,  5.95926252e-02,  5.73031517e-02,  5.51668055e-02,\n",
       "        5.88731869e-02,  6.22854715e-02,  6.13715753e-02,  6.66423654e-02,\n",
       "        6.06886810e-02,  6.68896584e-02,  6.19329613e-02,  6.37331339e-02,\n",
       "        6.72214289e-02,  6.80192796e-02,  7.61814852e-02,  6.97930551e-02,\n",
       "        7.03960415e-02,  6.37771057e-02,  6.59762570e-02,  6.99309776e-02,\n",
       "        7.31555700e-02,  6.68754429e-02,  6.70016576e-02,  6.63066401e-02,\n",
       "        6.93536603e-02,  6.81354676e-02,  6.96271756e-02,  7.05400793e-02,\n",
       "        6.84486763e-02,  7.35841892e-02,  7.26407651e-02,  6.59873920e-02,\n",
       "        6.24418345e-02,  5.99596668e-02,  6.28892117e-02,  5.63374604e-02,\n",
       "        5.85347785e-02,  5.46103921e-02,  4.94261843e-02,  4.14280011e-02,\n",
       "        4.39350625e-02,  3.87071104e-02,  3.85726395e-02,  3.25663110e-02,\n",
       "        3.95774040e-02,  4.38608302e-02,  5.33876955e-02,  2.80187744e-02,\n",
       "        2.97386356e-02,  4.47603326e-03,  2.92028434e-02,  9.70567452e-03,\n",
       "        2.79372497e-02,  1.16751148e-02,  2.60606030e-02,  2.51636315e-02,\n",
       "        2.25360327e-02,  2.08395079e-02, -3.11987271e-02,  2.48236906e-02,\n",
       "       -3.80668405e-02,  3.25414912e-02, -4.41939231e-02,  1.97241654e-02,\n",
       "       -3.73911162e-02,  9.25550084e-03, -3.26216876e-02, -1.25870893e-02,\n",
       "       -5.32913286e-02, -5.74073791e-02, -3.39832025e-02, -4.38867343e-02,\n",
       "       -3.65430260e-03, -3.42579250e-02, -1.23249248e-03,  1.68218139e-03,\n",
       "        1.37809264e-02, -1.45766464e-02, -7.32934825e-03, -1.42175096e-02,\n",
       "        3.05765366e-02,  1.70132052e-02,  3.81090965e-02, -1.74424945e-02,\n",
       "        1.90722567e-02, -3.02866846e-02,  1.49936455e-02, -7.11988888e-02,\n",
       "       -2.67211410e-02, -5.11814746e-02, -1.44380779e-02, -5.14178613e-02,\n",
       "       -4.38404061e-02, -4.49692494e-02, -3.35629308e-02, -2.23124909e-02,\n",
       "       -4.59853498e-02, -2.00240168e-02, -5.13483100e-02,  7.77524450e-04,\n",
       "       -2.82260018e-02, -6.70685265e-03, -5.80076782e-02, -1.82403568e-02,\n",
       "       -4.20136978e-02, -1.80633809e-02, -5.76537083e-02, -2.42864096e-03,\n",
       "       -5.36948685e-03,  1.58775848e-02, -2.60045523e-03, -4.55050144e-03,\n",
       "       -3.53732034e-03,  3.23506921e-03,  4.01755384e-02,  5.34133414e-02,\n",
       "        5.21307962e-02,  6.72381706e-02,  7.93879168e-02,  6.58030785e-02,\n",
       "        7.25191304e-02,  6.61943591e-02,  9.60887324e-02,  9.34382547e-02,\n",
       "        1.11355871e-01,  1.00009780e-01,  1.10298471e-01,  7.40937875e-02,\n",
       "        8.64513280e-02,  6.39249451e-02,  7.79171482e-02,  5.57984034e-02,\n",
       "        4.26508852e-02,  5.59388712e-02,  6.89593552e-02,  7.09152193e-02,\n",
       "        5.66398606e-02,  6.41433617e-02,  5.50936472e-02,  6.32273384e-02,\n",
       "        5.44773787e-02,  5.32600662e-02,  4.37601406e-02,  5.92716060e-02,\n",
       "        8.11697852e-02,  7.03314766e-02,  4.54700742e-02,  3.80277269e-02,\n",
       "        4.28257857e-02,  4.66668022e-02,  4.45224225e-02,  4.77536902e-02,\n",
       "        5.56232407e-02,  5.79135743e-02,  7.61031153e-02,  6.46126232e-02,\n",
       "        5.50446805e-02,  4.88978097e-02,  5.72303607e-02,  7.04662694e-02,\n",
       "        6.49457468e-02,  5.67662885e-02,  5.57844063e-02,  6.19123896e-02,\n",
       "        6.47539318e-02,  6.94070075e-02,  6.24959151e-02,  7.51040842e-02,\n",
       "        6.77825815e-02,  6.31356875e-02,  5.28966943e-02,  5.06570832e-02,\n",
       "        5.75560356e-02,  6.07783627e-02,  6.19006415e-02,  6.06174318e-02,\n",
       "        6.42935971e-02,  6.89294075e-02,  5.41770693e-02,  3.93376107e-02,\n",
       "        3.83276288e-02,  4.94160849e-02,  5.64654334e-02,  4.90694794e-02,\n",
       "        4.74319192e-02,  4.99824830e-02,  4.89474053e-02,  4.77411035e-02,\n",
       "        4.06405238e-02,  2.86015183e-02,  3.35149552e-02,  3.48558384e-02,\n",
       "        4.75457549e-02,  4.75118889e-02,  4.29121717e-02,  4.19197579e-02,\n",
       "        3.52267686e-02,  3.58761750e-02,  3.50184259e-02,  3.39253522e-02,\n",
       "        3.52538437e-02,  3.96802382e-02,  3.33633808e-02,  2.95313101e-02,\n",
       "       -1.74442827e-01,  1.70141888e-01,  2.91649812e-01,  2.67553549e-02,\n",
       "        9.89846213e-02,  5.54081168e-02, -1.83014570e-01, -1.49874696e-02,\n",
       "       -2.12714316e-02,  2.40100916e-01,  2.93199894e-01])"
      ]
     },
     "execution_count": 145,
     "metadata": {},
     "output_type": "execute_result"
    }
   ],
   "source": [
    "predicted_y_values = model.predict(X)\n",
    "predicted_y_values"
   ]
  },
  {
   "cell_type": "code",
   "execution_count": 146,
   "id": "646caf4e-6a40-4d42-9fbe-57694df4da8a",
   "metadata": {},
   "outputs": [
    {
     "data": {
      "text/plain": [
       "0.033187161791053535"
      ]
     },
     "execution_count": 146,
     "metadata": {},
     "output_type": "execute_result"
    }
   ],
   "source": [
    "#Extracting coef, intercept\n",
    "\n",
    "model.coef_\n",
    "model.intercept_\n"
   ]
  },
  {
   "cell_type": "code",
   "execution_count": 147,
   "id": "bdf4db68-9fe3-4403-97f0-564199fe18ff",
   "metadata": {},
   "outputs": [
    {
     "data": {
      "text/plain": [
       "[<matplotlib.lines.Line2D at 0x1528b71b448>]"
      ]
     },
     "execution_count": 147,
     "metadata": {},
     "output_type": "execute_result"
    },
    {
     "data": {
      "image/png": "[encoded data removed]",
      "text/plain": [
       "<Figure size 432x288 with 1 Axes>"
      ]
     },
     "metadata": {
      "needs_background": "light"
     },
     "output_type": "display_data"
    }
   ],
   "source": [
    "#Plotting Results\n",
    "\n",
    "plt.scatter(X, y)\n",
    "plt.plot(X, predicted_y_values, color='red')"
   ]
  },
  {
   "cell_type": "code",
   "execution_count": 148,
   "id": "2f294756-e05f-4df6-83b6-47faf37ac8c2",
   "metadata": {},
   "outputs": [],
   "source": [
    "#Metrics - score, R2, mse, rmse, std\n",
    "\n",
    "from sklearn.metrics import mean_squared_error, r2_score\n",
    "\n",
    "score = model.score(X, y, sample_weight=None)\n",
    "r2 = r2_score(y, predicted_y_values)\n",
    "mse = mean_squared_error(y, predicted_y_values)\n",
    "rmse = np.sqrt(mse)\n",
    "std = np.std(y)"
   ]
  },
  {
   "cell_type": "code",
   "execution_count": 149,
   "id": "7465aeba-8643-4f5b-ac08-dbb7bb6c707e",
   "metadata": {},
   "outputs": [
    {
     "name": "stdout",
     "output_type": "stream",
     "text": [
      "Score: 0.003688650966245266\n",
      "R-squared (R2 ): 0.003688650966245266\n",
      "Mean Squared Error (MSE): 5.469161444317086\n",
      "Root Mean Squared Error (RMSE): 2.3386238355744786\n",
      "Standard Deviation: 2.3429489882787333\n"
     ]
    }
   ],
   "source": [
    "# Print the score, r2, mse, rmse, and standard deviation\n",
    "print(f\"Score: {score}\")\n",
    "print(f\"R-squared (R2 ): {r2}\")\n",
    "print(f\"Mean Squared Error (MSE): {mse}\")\n",
    "print(f\"Root Mean Squared Error (RMSE): {rmse}\")\n",
    "print(f\"Standard Deviation: {np.std(y)}\")"
   ]
  },
  {
   "cell_type": "code",
   "execution_count": null,
   "id": "a0cd2ff7-19b0-44cd-9028-3e9a10472826",
   "metadata": {},
   "outputs": [],
   "source": []
  },
  {
   "cell_type": "code",
   "execution_count": null,
   "id": "db325dc7-e262-4da1-9a13-692d86d49679",
   "metadata": {},
   "outputs": [],
   "source": []
  },
  {
   "cell_type": "code",
   "execution_count": 150,
   "id": "20479d61-8892-4b63-bd8d-73ab1885c8be",
   "metadata": {},
   "outputs": [],
   "source": [
    "#Build Logistic Regression\n",
    "\n",
    "#train test split\n",
    "\n",
    "from sklearn.model_selection import train_test_split\n",
    "\n",
    "X_train, X_test, y_train, y_test = train_test_split(X, y, random_state=78)"
   ]
  },
  {
   "cell_type": "code",
   "execution_count": 151,
   "id": "169dd0b7-44c9-473d-9bfc-0be635688e84",
   "metadata": {},
   "outputs": [],
   "source": [
    "#Create Model\n",
    "#classifier = LogisticRegression(solver='lbfgs', warm_start=True, random_state=78)\n",
    "#classifier"
   ]
  },
  {
   "cell_type": "code",
   "execution_count": 152,
   "id": "ec154b37-b0b0-4940-abb4-19e4c9f1e02f",
   "metadata": {},
   "outputs": [],
   "source": [
    "# Train the data\n",
    "#classifier.fit(X_train, y_train)"
   ]
  },
  {
   "cell_type": "code",
   "execution_count": 153,
   "id": "a2a245d3-7241-4bfe-bc87-84bba3fcc5cf",
   "metadata": {},
   "outputs": [],
   "source": [
    "# Score the model\n",
    "#print(f\"Training Data Score: {classifier.score(X_train, y_train)}\")\n",
    "#print(f\"Testing Data Score: {classifier.score(X_test, y_test)}\")"
   ]
  },
  {
   "cell_type": "code",
   "execution_count": 154,
   "id": "2f526217-4875-46dc-b773-102a6553534f",
   "metadata": {},
   "outputs": [],
   "source": [
    "# Predict outcomes for test data set\n",
    "#predictions = classifier.predict(X_test)\n",
    "#pd.DataFrame({\"Prediction\": predictions, \"Actual\": y_test}).reset_index(drop=True)"
   ]
  },
  {
   "cell_type": "code",
   "execution_count": 155,
   "id": "f63fc2a5-bc84-45f5-8209-a12031626481",
   "metadata": {},
   "outputs": [],
   "source": [
    "#Confusion Matrix\n",
    "#from sklearn.metrics import confusion matrix\n",
    "#confusion_matrix(y_test, predictions)"
   ]
  },
  {
   "cell_type": "code",
   "execution_count": 156,
   "id": "0a3b9dd2-9c7d-4062-ab43-07c1a34a4032",
   "metadata": {},
   "outputs": [],
   "source": [
    "#Classification Report\n",
    "#from sklearn.metrics import classsification report\n",
    "#print(classification_report(y_test, predictions))"
   ]
  },
  {
   "cell_type": "code",
   "execution_count": null,
   "id": "ba51b342-217d-479f-8bbb-77404c7be9b1",
   "metadata": {},
   "outputs": [],
   "source": []
  },
  {
   "cell_type": "code",
   "execution_count": null,
   "id": "f498d41c-40c7-4fcf-876f-56df4cb281dc",
   "metadata": {},
   "outputs": [],
   "source": []
  },
  {
   "cell_type": "code",
   "execution_count": 157,
   "id": "8c1f287a-a1a3-4513-a302-f100f5814376",
   "metadata": {},
   "outputs": [],
   "source": [
    "#Build LSTM Model\n",
    "\n",
    "def window_data(df, window, feature_col_number, target_col_number):\n",
    "    X = []\n",
    "    y = []\n",
    "    for i in range(len(df) - window - 1):\n",
    "        features = df.iloc[i:(i + window), feature_col_number]\n",
    "        target = df.iloc[(i + window), target_col_number]\n",
    "        X.append(features)\n",
    "        y.append(target)\n",
    "    return np.array(X), np.array(y).reshape(-1, 1)"
   ]
  },
  {
   "cell_type": "code",
   "execution_count": 158,
   "id": "e869d375-9a1e-43a6-b753-5fe71d7135b2",
   "metadata": {},
   "outputs": [],
   "source": [
    "# Predict Closing Prices using a 10 day window of previous fng values\n",
    "# Then, experiment with window sizes anywhere from 1 to 10 and see how the model performance changes\n",
    "window_size = 3\n",
    "\n",
    "# Column index 0 is the 'fng_value' column\n",
    "# Column index 1 is the `Close` column\n",
    "feature_column = 3\n",
    "target_column = 2\n",
    "X, y = window_data(metro_df, window_size, feature_column, target_column)"
   ]
  },
  {
   "cell_type": "code",
   "execution_count": 159,
   "id": "5ae36ef7-f7be-4fb5-a768-c58395e2cacd",
   "metadata": {},
   "outputs": [],
   "source": [
    "# Use 70% of the data for training and the remaineder for testing\n",
    "split = int(0.8 * len(X))\n",
    "\n",
    "X_train = X[: split]\n",
    "X_test = X[split:]\n",
    "y_train = y [: split]\n",
    "y_test = y[split:]"
   ]
  },
  {
   "cell_type": "code",
   "execution_count": 160,
   "id": "173af09f-abae-4134-aa8b-f60c729d3438",
   "metadata": {},
   "outputs": [],
   "source": [
    "from sklearn.preprocessing import MinMaxScaler\n",
    "# Use the MinMaxScaler to scale data between 0 and 1.\n",
    "#scaler = MinMaxScaler()\n",
    "#scaler.fit(X)\n",
    "#X_train = scaler.transform(X_train)\n",
    "#X_test = scaler.transform(X_test)\n",
    "#scaler.fit(y)\n",
    "#y_train = scaler.transform(y_train)\n",
    "#y_test = scaler.transform(y_test)\n"
   ]
  },
  {
   "cell_type": "code",
   "execution_count": 161,
   "id": "ed3ecea9-3fc2-4991-ae2a-21756334777f",
   "metadata": {},
   "outputs": [],
   "source": [
    "# Reshape the features for the model\n",
    "X_train = X_train.reshape((X_train.shape[0], X_train.shape[1], 1))\n",
    "X_test = X_test.reshape((X_test.shape[0], X_test.shape[1], 1))"
   ]
  },
  {
   "cell_type": "code",
   "execution_count": 162,
   "id": "8a287fed-9b4f-4b5b-951c-8789a4276a89",
   "metadata": {},
   "outputs": [],
   "source": [
    "from tensorflow.keras.models import Sequential\n",
    "from tensorflow.keras.layers import LSTM, Dense, Dropout"
   ]
  },
  {
   "cell_type": "code",
   "execution_count": 163,
   "id": "34fd519a-f2c3-402a-b7fc-c5fa44259fe8",
   "metadata": {},
   "outputs": [],
   "source": [
    "# Build the LSTM model. \n",
    "# The return sequences need to be set to True if you are adding additional LSTM layers, but \n",
    "# You don't have to do this for the final layer. \n",
    "# Note: The dropouts help prevent overfitting\n",
    "# Note: The input shape is the number of time steps and the number of indicators\n",
    "# Note: Batching inputs has a different input shape of Samples/TimeSteps/Features\n",
    "\n",
    "model = Sequential()\n",
    "\n",
    "number_units = 25\n",
    "dropout_fraction = 0.2\n",
    "\n",
    "\n",
    "# Layer 1\n",
    "model.add(LSTM(\n",
    "    units=number_units,\n",
    "    return_sequences=True,\n",
    "    input_shape=(X_train.shape[1], 1))\n",
    "    )\n",
    "model.add(Dropout(dropout_fraction))\n",
    "\n",
    "# Layer 2\n",
    "model.add(LSTM(units=number_units, return_sequences=True))\n",
    "model.add(Dropout(dropout_fraction))\n",
    "\n",
    "# Layer 3\n",
    "model.add(LSTM(units=number_units))\n",
    "model.add(Dropout(dropout_fraction))\n",
    "\n",
    "# Output layer\n",
    "model.add(Dense(1))"
   ]
  },
  {
   "cell_type": "code",
   "execution_count": 164,
   "id": "108d1b2b-0003-4d81-bfde-538877c71196",
   "metadata": {},
   "outputs": [],
   "source": [
    "# Compile the model\n",
    "model.compile(optimizer='adam', loss=\"mean_squared_error\")"
   ]
  },
  {
   "cell_type": "code",
   "execution_count": 165,
   "id": "dce4419a-7802-4085-9aaf-f4fed73207be",
   "metadata": {},
   "outputs": [
    {
     "name": "stdout",
     "output_type": "stream",
     "text": [
      "Model: \"sequential_4\"\n",
      "_________________________________________________________________\n",
      "Layer (type)                 Output Shape              Param #   \n",
      "=================================================================\n",
      "lstm_12 (LSTM)               (None, 3, 25)             2700      \n",
      "_________________________________________________________________\n",
      "dropout_12 (Dropout)         (None, 3, 25)             0         \n",
      "_________________________________________________________________\n",
      "lstm_13 (LSTM)               (None, 3, 25)             5100      \n",
      "_________________________________________________________________\n",
      "dropout_13 (Dropout)         (None, 3, 25)             0         \n",
      "_________________________________________________________________\n",
      "lstm_14 (LSTM)               (None, 25)                5100      \n",
      "_________________________________________________________________\n",
      "dropout_14 (Dropout)         (None, 25)                0         \n",
      "_________________________________________________________________\n",
      "dense_4 (Dense)              (None, 1)                 26        \n",
      "=================================================================\n",
      "Total params: 12,926\n",
      "Trainable params: 12,926\n",
      "Non-trainable params: 0\n",
      "_________________________________________________________________\n"
     ]
    }
   ],
   "source": [
    "# Summarize the model\n",
    "model.summary()"
   ]
  },
  {
   "cell_type": "code",
   "execution_count": 166,
   "id": "4b21713b-0f3c-44f2-83ec-448f4db60f4f",
   "metadata": {},
   "outputs": [
    {
     "name": "stdout",
     "output_type": "stream",
     "text": [
      "Epoch 1/10\n",
      "239/239 [==============================] - 4s 2ms/step - loss: 0.2957\n",
      "Epoch 2/10\n",
      "239/239 [==============================] - 1s 2ms/step - loss: 0.2039\n",
      "Epoch 3/10\n",
      "239/239 [==============================] - 1s 2ms/step - loss: 0.1972\n",
      "Epoch 4/10\n",
      "239/239 [==============================] - 1s 2ms/step - loss: 0.1945\n",
      "Epoch 5/10\n",
      "239/239 [==============================] - 1s 2ms/step - loss: 0.1938\n",
      "Epoch 6/10\n",
      "239/239 [==============================] - 1s 2ms/step - loss: 0.1936\n",
      "Epoch 7/10\n",
      "239/239 [==============================] - 1s 2ms/step - loss: 0.1815\n",
      "Epoch 8/10\n",
      "239/239 [==============================] - 1s 2ms/step - loss: 0.1912\n",
      "Epoch 9/10\n",
      "239/239 [==============================] - 1s 2ms/step - loss: 0.1754\n",
      "Epoch 10/10\n",
      "239/239 [==============================] - 1s 2ms/step - loss: 0.1756\n"
     ]
    },
    {
     "data": {
      "text/plain": [
       "<tensorflow.python.keras.callbacks.History at 0x153087a0588>"
      ]
     },
     "execution_count": 166,
     "metadata": {},
     "output_type": "execute_result"
    }
   ],
   "source": [
    "# Train the model\n",
    "# Use at least 10 epochs\n",
    "# Do not shuffle the data\n",
    "# Experiement with the batch size, but a smaller batch size is recommended\n",
    "model.fit(X_train, y_train, epochs=10, shuffle=False, batch_size=1, verbose=1)"
   ]
  },
  {
   "cell_type": "code",
   "execution_count": 167,
   "id": "cf391f41-edce-4fa4-a72f-8e8d5bdd2b5e",
   "metadata": {},
   "outputs": [
    {
     "name": "stdout",
     "output_type": "stream",
     "text": [
      "WARNING:tensorflow:5 out of the last 9 calls to <function Model.make_test_function.<locals>.test_function at 0x000001530DCE7CA8> triggered tf.function retracing. Tracing is expensive and the excessive number of tracings could be due to (1) creating @tf.function repeatedly in a loop, (2) passing tensors with different shapes, (3) passing Python objects instead of tensors. For (1), please define your @tf.function outside of the loop. For (2), @tf.function has experimental_relax_shapes=True option that relaxes argument shapes that can avoid unnecessary retracing. For (3), please refer to https://www.tensorflow.org/guide/function#controlling_retracing and https://www.tensorflow.org/api_docs/python/tf/function for  more details.\n",
      "2/2 [==============================] - 1s 2ms/step - loss: 1.0017\n"
     ]
    },
    {
     "data": {
      "text/plain": [
       "1.0016759634017944"
      ]
     },
     "execution_count": 167,
     "metadata": {},
     "output_type": "execute_result"
    }
   ],
   "source": [
    "# Evaluate the model\n",
    "model.evaluate(X_test, y_test)"
   ]
  },
  {
   "cell_type": "code",
   "execution_count": 168,
   "id": "09974f9a-6d29-4890-8b08-8b264f395073",
   "metadata": {},
   "outputs": [
    {
     "name": "stdout",
     "output_type": "stream",
     "text": [
      "WARNING:tensorflow:5 out of the last 9 calls to <function Model.make_predict_function.<locals>.predict_function at 0x0000015310726CA8> triggered tf.function retracing. Tracing is expensive and the excessive number of tracings could be due to (1) creating @tf.function repeatedly in a loop, (2) passing tensors with different shapes, (3) passing Python objects instead of tensors. For (1), please define your @tf.function outside of the loop. For (2), @tf.function has experimental_relax_shapes=True option that relaxes argument shapes that can avoid unnecessary retracing. For (3), please refer to https://www.tensorflow.org/guide/function#controlling_retracing and https://www.tensorflow.org/api_docs/python/tf/function for  more details.\n"
     ]
    }
   ],
   "source": [
    "# Make some predictions\n",
    "predicted = model.predict(X_test)"
   ]
  },
  {
   "cell_type": "code",
   "execution_count": 169,
   "id": "f93b039a-fd71-4542-bab5-0ac63486abb5",
   "metadata": {},
   "outputs": [],
   "source": [
    "# Recover the original prices instead of the scaled version\n",
    "predicted_prices = scaler.inverse_transform(predicted)\n",
    "real_prices = scaler.inverse_transform(y_test.reshape(-1, 1))"
   ]
  },
  {
   "cell_type": "code",
   "execution_count": 170,
   "id": "28c63dfe-e912-4f8d-89dc-cccf82ab8bdd",
   "metadata": {},
   "outputs": [
    {
     "data": {
      "text/html": [
       "<div>\n",
       "<style scoped>\n",
       "    .dataframe tbody tr th:only-of-type {\n",
       "        vertical-align: middle;\n",
       "    }\n",
       "\n",
       "    .dataframe tbody tr th {\n",
       "        vertical-align: top;\n",
       "    }\n",
       "\n",
       "    .dataframe thead th {\n",
       "        text-align: right;\n",
       "    }\n",
       "</style>\n",
       "<table border=\"1\" class=\"dataframe\">\n",
       "  <thead>\n",
       "    <tr style=\"text-align: right;\">\n",
       "      <th></th>\n",
       "      <th>Real</th>\n",
       "      <th>Predicted</th>\n",
       "    </tr>\n",
       "    <tr>\n",
       "      <th>date</th>\n",
       "      <th></th>\n",
       "      <th></th>\n",
       "    </tr>\n",
       "  </thead>\n",
       "  <tbody>\n",
       "    <tr>\n",
       "      <th>2016-04-30</th>\n",
       "      <td>0.497296</td>\n",
       "      <td>-1.083199</td>\n",
       "    </tr>\n",
       "    <tr>\n",
       "      <th>2016-05-31</th>\n",
       "      <td>-0.737942</td>\n",
       "      <td>-0.297621</td>\n",
       "    </tr>\n",
       "    <tr>\n",
       "      <th>2016-06-30</th>\n",
       "      <td>-1.531514</td>\n",
       "      <td>0.175837</td>\n",
       "    </tr>\n",
       "    <tr>\n",
       "      <th>2016-07-31</th>\n",
       "      <td>-0.455767</td>\n",
       "      <td>0.345428</td>\n",
       "    </tr>\n",
       "    <tr>\n",
       "      <th>2016-08-31</th>\n",
       "      <td>1.253012</td>\n",
       "      <td>-0.544004</td>\n",
       "    </tr>\n",
       "  </tbody>\n",
       "</table>\n",
       "</div>"
      ],
      "text/plain": [
       "                Real  Predicted\n",
       "date                           \n",
       "2016-04-30  0.497296  -1.083199\n",
       "2016-05-31 -0.737942  -0.297621\n",
       "2016-06-30 -1.531514   0.175837\n",
       "2016-07-31 -0.455767   0.345428\n",
       "2016-08-31  1.253012  -0.544004"
      ]
     },
     "execution_count": 170,
     "metadata": {},
     "output_type": "execute_result"
    }
   ],
   "source": [
    "# Create a DataFrame of Real and Predicted values\n",
    "housing = pd.DataFrame({\n",
    "    \"Real\": real_prices.ravel(),\n",
    "    \"Predicted\": predicted_prices.ravel()\n",
    "}, index = metro_df.index[-len(real_prices): ]) \n",
    "\n",
    "housing.head()"
   ]
  },
  {
   "cell_type": "code",
   "execution_count": 171,
   "id": "f63434aa-8196-43e4-96ea-ee93c03e1a16",
   "metadata": {},
   "outputs": [
    {
     "data": {
      "text/plain": [
       "<AxesSubplot:xlabel='date'>"
      ]
     },
     "execution_count": 171,
     "metadata": {},
     "output_type": "execute_result"
    },
    {
     "data": {
      "image/png": "[encoded data removed]",
      "text/plain": [
       "<Figure size 432x288 with 1 Axes>"
      ]
     },
     "metadata": {
      "needs_background": "light"
     },
     "output_type": "display_data"
    }
   ],
   "source": [
    "# Plot the real vs predicted values as a line chart\n",
    "housing.plot()"
   ]
  },
  {
   "cell_type": "code",
   "execution_count": null,
   "id": "d74cab46-c31b-4222-860a-41231e1b5f97",
   "metadata": {},
   "outputs": [],
   "source": []
  },
  {
   "cell_type": "code",
   "execution_count": null,
   "id": "3d649de0-ef94-466e-8335-98da24d4052a",
   "metadata": {},
   "outputs": [],
   "source": []
  },
  {
   "cell_type": "code",
   "execution_count": 172,
   "id": "269fdfad-0149-46a4-885c-a149d269f633",
   "metadata": {},
   "outputs": [],
   "source": [
    "#Lazy Predict - Regression\n",
    "\n",
    "#from lazypredict.Supervised import LazyClassifier\n",
    "#from sklearn.datasets import load_breast_cancer\n",
    "#from sklearn.model_selection import train_test_split\n",
    "\n",
    "#data = load_breast_cancer()\n",
    "#X = data.data\n",
    "#y= data.target\n",
    "\n",
    "#X_train, X_test, y_train, y_test = train_test_split(X, y,test_size=.5,random_state =123)\n",
    "\n",
    "#clf = LazyClassifier(verbose=0,ignore_warnings=True, custom_metric=None)\n",
    "#models,predictions = clf.fit(X_train, X_test, y_train, y_test)\n",
    "\n",
    "#print(models)"
   ]
  },
  {
   "cell_type": "code",
   "execution_count": null,
   "id": "f21df48e-e1ad-4ef5-ade1-62717cbaa53d",
   "metadata": {},
   "outputs": [],
   "source": []
  },
  {
   "cell_type": "code",
   "execution_count": null,
   "id": "60bcd885-dbd6-4d52-bd55-658ee97d7801",
   "metadata": {},
   "outputs": [],
   "source": []
  }
 ],
 "metadata": {
  "kernelspec": {
   "display_name": "Python 3",
   "language": "python",
   "name": "python3"
  },
  "language_info": {
   "codemirror_mode": {
    "name": "ipython",
    "version": 3
   },
   "file_extension": ".py",
   "mimetype": "text/x-python",
   "name": "python",
   "nbconvert_exporter": "python",
   "pygments_lexer": "ipython3",
   "version": "3.7.10"
  }
 },
 "nbformat": 4,
 "nbformat_minor": 5
}
