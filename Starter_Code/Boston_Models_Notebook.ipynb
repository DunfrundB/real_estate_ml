{
 "cells": [
  {
   "cell_type": "code",
   "execution_count": 112,
   "id": "695101dd-0887-4a40-bbb5-6a7e20d45c6d",
   "metadata": {},
   "outputs": [],
   "source": [
    "# Initial imports\n",
    "import pandas as pd\n",
    "from pathlib import Path\n",
    "import numpy as np\n",
    "import matplotlib.pyplot as plt\n",
    "from sklearn import tree\n",
    "from sklearn.preprocessing import StandardScaler\n",
    "from sklearn.model_selection import train_test_split\n",
    "from sklearn.metrics import confusion_matrix, accuracy_score, classification_report\n",
    "from matplotlib import style\n",
    "style.use(\"ggplot\")\n",
    "from sklearn.linear_model import LinearRegression\n",
    "%matplotlib inline\n",
    "from sklearn.linear_model import LogisticRegression\n",
    "from sklearn.ensemble import GradientBoostingClassifier\n",
    "import lazypredict\n",
    "\n",
    "\n",
    "\n",
    "# Needed for decision tree visualization\n",
    "import pydotplus\n",
    "from IPython.display import Image"
   ]
  },
  {
   "cell_type": "code",
   "execution_count": null,
   "id": "6df95cb2-0227-4a14-94c2-c6ecfc2e062a",
   "metadata": {},
   "outputs": [],
   "source": []
  },
  {
   "cell_type": "code",
   "execution_count": 113,
   "id": "845c4460-f709-42bd-9b8e-b54e025186d0",
   "metadata": {},
   "outputs": [],
   "source": [
    "#file_path = Path(\"../Resources/metro_2br.csv\")\n",
    "#metro_df = pd.read_csv(file_path)\n",
    "#metro_df.drop(columns='indicator_id', inplace=True)\n",
    "#metro_df.head()\n",
    "\n",
    "\n",
    "#metro_df.set_index(pd.to_datetime(metro_df['date']), inplace=True)\n",
    "#metro_df.drop('date', axis=1, inplace=True)\n",
    "#metro_df.head()"
   ]
  },
  {
   "cell_type": "markdown",
   "id": "eaac8d4e-2ac9-4068-ad4c-2873b88414a4",
   "metadata": {},
   "source": [
    "### Boston Condo Regression"
   ]
  },
  {
   "cell_type": "code",
   "execution_count": 114,
   "id": "52609849-0150-47c3-b697-4ceda5703c44",
   "metadata": {},
   "outputs": [
    {
     "data": {
      "text/html": [
       "<div>\n",
       "<style scoped>\n",
       "    .dataframe tbody tr th:only-of-type {\n",
       "        vertical-align: middle;\n",
       "    }\n",
       "\n",
       "    .dataframe tbody tr th {\n",
       "        vertical-align: top;\n",
       "    }\n",
       "\n",
       "    .dataframe thead th {\n",
       "        text-align: right;\n",
       "    }\n",
       "</style>\n",
       "<table border=\"1\" class=\"dataframe\">\n",
       "  <thead>\n",
       "    <tr style=\"text-align: right;\">\n",
       "      <th></th>\n",
       "      <th>value</th>\n",
       "      <th>region</th>\n",
       "      <th>change</th>\n",
       "      <th>lagged_change</th>\n",
       "    </tr>\n",
       "    <tr>\n",
       "      <th>date</th>\n",
       "      <th></th>\n",
       "      <th></th>\n",
       "      <th></th>\n",
       "      <th></th>\n",
       "    </tr>\n",
       "  </thead>\n",
       "  <tbody>\n",
       "    <tr>\n",
       "      <th>1996-01-31</th>\n",
       "      <td>129319.0</td>\n",
       "      <td>Boston, MA</td>\n",
       "      <td>-71.916356</td>\n",
       "      <td>-0.759052</td>\n",
       "    </tr>\n",
       "    <tr>\n",
       "      <th>1996-02-29</th>\n",
       "      <td>129318.0</td>\n",
       "      <td>Boston, MA</td>\n",
       "      <td>-0.000773</td>\n",
       "      <td>-71.916356</td>\n",
       "    </tr>\n",
       "    <tr>\n",
       "      <th>1996-03-31</th>\n",
       "      <td>129411.0</td>\n",
       "      <td>Boston, MA</td>\n",
       "      <td>0.071916</td>\n",
       "      <td>-0.000773</td>\n",
       "    </tr>\n",
       "    <tr>\n",
       "      <th>1996-04-30</th>\n",
       "      <td>129634.0</td>\n",
       "      <td>Boston, MA</td>\n",
       "      <td>0.172319</td>\n",
       "      <td>0.071916</td>\n",
       "    </tr>\n",
       "    <tr>\n",
       "      <th>1996-05-31</th>\n",
       "      <td>129939.0</td>\n",
       "      <td>Boston, MA</td>\n",
       "      <td>0.235278</td>\n",
       "      <td>0.172319</td>\n",
       "    </tr>\n",
       "  </tbody>\n",
       "</table>\n",
       "</div>"
      ],
      "text/plain": [
       "               value      region     change  lagged_change\n",
       "date                                                      \n",
       "1996-01-31  129319.0  Boston, MA -71.916356      -0.759052\n",
       "1996-02-29  129318.0  Boston, MA  -0.000773     -71.916356\n",
       "1996-03-31  129411.0  Boston, MA   0.071916      -0.000773\n",
       "1996-04-30  129634.0  Boston, MA   0.172319       0.071916\n",
       "1996-05-31  129939.0  Boston, MA   0.235278       0.172319"
      ]
     },
     "execution_count": 114,
     "metadata": {},
     "output_type": "execute_result"
    }
   ],
   "source": [
    "file_path = Path(\"../Resources/bos_condo.csv\")\n",
    "metro_df = pd.read_csv(file_path)\n",
    "metro_df = metro_df.drop('indicator_id',axis=1)\n",
    "metro_df = metro_df.drop('region_id',axis=1)\n",
    "metro_df = metro_df.sort_values('date')\n",
    "metro_df['date'] = pd.to_datetime(metro_df['date'])\n",
    "metro_df = metro_df.set_index('date')\n",
    "metro_df = metro_df.dropna()\n",
    "metro_df.head()"
   ]
  },
  {
   "cell_type": "code",
   "execution_count": 115,
   "id": "e3dcf498-dbfa-4288-80a3-ae3dbb423203",
   "metadata": {},
   "outputs": [
    {
     "data": {
      "text/plain": [
       "<AxesSubplot:xlabel='date'>"
      ]
     },
     "execution_count": 115,
     "metadata": {},
     "output_type": "execute_result"
    },
    {
     "data": {
      "image/png": "[encoded data removed]",
      "text/plain": [
       "<Figure size 432x288 with 1 Axes>"
      ]
     },
     "metadata": {
      "needs_background": "light"
     },
     "output_type": "display_data"
    }
   ],
   "source": [
    "metro_df.plot()"
   ]
  },
  {
   "cell_type": "code",
   "execution_count": 116,
   "id": "a3c4428e-d24c-4948-a5fa-52581c67d71c",
   "metadata": {},
   "outputs": [
    {
     "data": {
      "text/plain": [
       "LinearRegression()"
      ]
     },
     "execution_count": 116,
     "metadata": {},
     "output_type": "execute_result"
    }
   ],
   "source": [
    "#Build Linear Regression\n",
    "from sklearn.linear_model import LinearRegression\n",
    "model = LinearRegression()\n",
    "model"
   ]
  },
  {
   "cell_type": "code",
   "execution_count": 117,
   "id": "f27285ac-0733-4607-aa8a-73e2f5a3586d",
   "metadata": {},
   "outputs": [],
   "source": [
    "# Separate the data into the X and y components\n",
    "# In this case, y will be the `value` and X will be the remainign columns\n",
    "\n",
    "#X = metro_df.drop(columns='value', axis=1)\n",
    "X = metro_df.lagged_change.to_frame()\n",
    "y = metro_df.change.values"
   ]
  },
  {
   "cell_type": "code",
   "execution_count": 118,
   "id": "a715b377-0b42-4171-a986-cbd722bd1163",
   "metadata": {},
   "outputs": [
    {
     "data": {
      "text/plain": [
       "LinearRegression()"
      ]
     },
     "execution_count": 118,
     "metadata": {},
     "output_type": "execute_result"
    }
   ],
   "source": [
    "# Fit the model to the data\n",
    "\n",
    "model.fit(X, y)"
   ]
  },
  {
   "cell_type": "code",
   "execution_count": 119,
   "id": "a1e3f7b3-79a7-4f02-a0fc-9c23ef8e8526",
   "metadata": {},
   "outputs": [
    {
     "data": {
      "text/plain": [
       "array([ 0.15547103, -1.94926137,  0.17789984,  0.18004988,  0.18301967,\n",
       "        0.18488189,  0.18796139,  0.19019608,  0.19204315,  0.18918787,\n",
       "        0.19196754,  0.1932834 ,  0.19460132,  0.18513458,  0.18615108,\n",
       "        0.18770794,  0.19524187,  0.19668461,  0.19494611,  0.19396803,\n",
       "        0.19610329,  0.19868885,  0.19999896,  0.19711463,  0.20181515,\n",
       "        0.20940026,  0.21329373,  0.21130257,  0.20369039,  0.20156976,\n",
       "        0.20175489,  0.20121416,  0.20103219,  0.20732793,  0.20538827,\n",
       "        0.21077361,  0.20137949,  0.21319985,  0.21267474,  0.21789085,\n",
       "        0.21501212,  0.21283276,  0.21088167,  0.21319474,  0.2050822 ,\n",
       "        0.20612863,  0.20211808,  0.20462867,  0.21129272,  0.21116307,\n",
       "        0.21747983,  0.21140165,  0.21133911,  0.21166031,  0.21498788,\n",
       "        0.21941203,  0.22723521,  0.22515477,  0.22504551,  0.22148811,\n",
       "        0.2238287 ,  0.21969109,  0.2149759 ,  0.21532058,  0.2173254 ,\n",
       "        0.21911622,  0.21731537,  0.21592161,  0.21428643,  0.21302755,\n",
       "        0.21219973,  0.21037959,  0.2063418 ,  0.20325056,  0.20389337,\n",
       "        0.20501863,  0.2049689 ,  0.20377442,  0.20538746,  0.2081571 ,\n",
       "        0.2074508 ,  0.20745626,  0.21108933,  0.21170272,  0.21016998,\n",
       "        0.20724916,  0.20538454,  0.20461464,  0.20437592,  0.20384673,\n",
       "        0.2025335 ,  0.19463744,  0.19521908,  0.19320239,  0.19403771,\n",
       "        0.19471268,  0.19762071,  0.20009685,  0.19819757,  0.1982689 ,\n",
       "        0.19694847,  0.19678931,  0.19743492,  0.19948558,  0.20055356,\n",
       "        0.20035432,  0.20003139,  0.19863472,  0.19779378,  0.19519387,\n",
       "        0.20052017,  0.1974591 ,  0.19821824,  0.19394999,  0.18858722,\n",
       "        0.19023574,  0.18511106,  0.19070789,  0.18464775,  0.18422687,\n",
       "        0.17519897,  0.17506985,  0.16878137,  0.16985474,  0.16711334,\n",
       "        0.16808866,  0.1690742 ,  0.16399213,  0.16390896,  0.15684101,\n",
       "        0.16100959,  0.16005215,  0.16811187,  0.1695234 ,  0.17257378,\n",
       "        0.1700094 ,  0.16934556,  0.1665547 ,  0.16783174,  0.16959148,\n",
       "        0.17056256,  0.17168633,  0.16781259,  0.1655539 ,  0.16149291,\n",
       "        0.15840977,  0.15528748,  0.16066832,  0.15966548,  0.16342655,\n",
       "        0.15828406,  0.15869771,  0.15792723,  0.15855649,  0.15865315,\n",
       "        0.16033289,  0.15749243,  0.16067134,  0.16027009,  0.15934913,\n",
       "        0.16206679,  0.16592087,  0.1696538 ,  0.1730233 ,  0.17644429,\n",
       "        0.18127137,  0.18063144,  0.18002415,  0.18182555,  0.18316056,\n",
       "        0.18701146,  0.18506963,  0.18352897,  0.17862217,  0.178622  ,\n",
       "        0.17417378,  0.17049649,  0.16386687,  0.16833709,  0.16822391,\n",
       "        0.17362309,  0.17232919,  0.16562049,  0.16141324,  0.16216475,\n",
       "        0.16637623,  0.17183232,  0.16807787,  0.17010726,  0.16928067,\n",
       "        0.16812805,  0.17029356,  0.16980313,  0.17354602,  0.17750373,\n",
       "        0.18399341,  0.18310172,  0.18308197,  0.17906603,  0.18699095,\n",
       "        0.18693129,  0.18963227,  0.19365718,  0.19889618,  0.20149534,\n",
       "        0.1936517 ,  0.20026795,  0.19955824,  0.2043366 ,  0.20054973,\n",
       "        0.19810046,  0.19988848,  0.20189316,  0.20951566,  0.20559579,\n",
       "        0.19885622,  0.18900055,  0.18982129,  0.18905653,  0.1933576 ,\n",
       "        0.1982804 ,  0.19519715,  0.19915956,  0.19050981,  0.1913237 ,\n",
       "        0.18377511,  0.18421703,  0.18691877,  0.19825136,  0.20238715,\n",
       "        0.20086218,  0.19201615,  0.18483946,  0.1892807 ,  0.19038005,\n",
       "        0.20040477,  0.19838155,  0.19612613,  0.19632114,  0.19237625,\n",
       "        0.1927941 ,  0.19725008,  0.19456214,  0.19590859,  0.19017524,\n",
       "        0.19624206,  0.194705  ,  0.18833021,  0.19026147,  0.19571951,\n",
       "        0.19665885,  0.19943637,  0.19365005,  0.18857672,  0.18857751,\n",
       "        0.19283256,  0.20349908,  0.1980396 ,  0.19623482,  0.1987199 ,\n",
       "        0.19516027,  0.1957483 ,  0.19114492,  0.19646538,  0.19248942,\n",
       "        0.19339854,  0.19604765,  0.19932313,  0.19396906,  0.19099629,\n",
       "        0.19095299,  0.19227671,  0.19064996,  0.18499585,  0.18862612,\n",
       "        0.18544877,  0.18774645,  0.18297781,  0.17780503,  0.17056384,\n",
       "        0.17368931,  0.18079999,  0.18882353,  0.18458446,  0.1839483 ,\n",
       "        0.18465241,  0.18315955,  0.18162044,  0.18162952,  0.18449903,\n",
       "        0.16246863,  0.23907638,  0.25157225,  0.2144394 ,  0.26281315,\n",
       "        0.16794011,  0.03243427,  0.24771179,  0.07180829,  0.15102608,\n",
       "        0.14748308,  0.28562257,  0.25066292])"
      ]
     },
     "execution_count": 119,
     "metadata": {},
     "output_type": "execute_result"
    }
   ],
   "source": [
    "predicted_y_values = model.predict(X)\n",
    "predicted_y_values"
   ]
  },
  {
   "cell_type": "code",
   "execution_count": 120,
   "id": "646caf4e-6a40-4d42-9fbe-57694df4da8a",
   "metadata": {},
   "outputs": [
    {
     "data": {
      "text/plain": [
       "0.1779227103601125"
      ]
     },
     "execution_count": 120,
     "metadata": {},
     "output_type": "execute_result"
    }
   ],
   "source": [
    "#Extracting coef, intercept\n",
    "\n",
    "model.coef_\n",
    "model.intercept_\n"
   ]
  },
  {
   "cell_type": "code",
   "execution_count": 121,
   "id": "bdf4db68-9fe3-4403-97f0-564199fe18ff",
   "metadata": {},
   "outputs": [
    {
     "data": {
      "text/plain": [
       "[<matplotlib.lines.Line2D at 0x29e06a54808>]"
      ]
     },
     "execution_count": 121,
     "metadata": {},
     "output_type": "execute_result"
    },
    {
     "data": {
      "image/png": "[encoded data removed]",
      "text/plain": [
       "<Figure size 432x288 with 1 Axes>"
      ]
     },
     "metadata": {
      "needs_background": "light"
     },
     "output_type": "display_data"
    }
   ],
   "source": [
    "#Plotting Results\n",
    "\n",
    "plt.scatter(X, y)\n",
    "plt.plot(X, predicted_y_values, color='red')"
   ]
  },
  {
   "cell_type": "code",
   "execution_count": 122,
   "id": "2f294756-e05f-4df6-83b6-47faf37ac8c2",
   "metadata": {},
   "outputs": [],
   "source": [
    "#Metrics - score, R2, mse, rmse, std\n",
    "\n",
    "from sklearn.metrics import mean_squared_error, r2_score\n",
    "\n",
    "score = model.score(X, y, sample_weight=None)\n",
    "r2 = r2_score(y, predicted_y_values)\n",
    "mse = mean_squared_error(y, predicted_y_values)\n",
    "rmse = np.sqrt(mse)\n",
    "std = np.std(y)"
   ]
  },
  {
   "cell_type": "code",
   "execution_count": 123,
   "id": "7465aeba-8643-4f5b-ac08-dbb7bb6c707e",
   "metadata": {},
   "outputs": [
    {
     "name": "stdout",
     "output_type": "stream",
     "text": [
      "Score: 0.0008749717687543956\n",
      "R-squared (R2 ): 0.0008749717687543956\n",
      "Mean Squared Error (MSE): 17.76183881017283\n",
      "Root Mean Squared Error (RMSE): 4.214479660666644\n",
      "Standard Deviation: 4.216324646849617\n"
     ]
    }
   ],
   "source": [
    "# Print the score, r2, mse, rmse, and standard deviation\n",
    "print(f\"Score: {score}\")\n",
    "print(f\"R-squared (R2 ): {r2}\")\n",
    "print(f\"Mean Squared Error (MSE): {mse}\")\n",
    "print(f\"Root Mean Squared Error (RMSE): {rmse}\")\n",
    "print(f\"Standard Deviation: {np.std(y)}\")"
   ]
  },
  {
   "cell_type": "code",
   "execution_count": null,
   "id": "a0cd2ff7-19b0-44cd-9028-3e9a10472826",
   "metadata": {},
   "outputs": [],
   "source": []
  },
  {
   "cell_type": "code",
   "execution_count": null,
   "id": "db325dc7-e262-4da1-9a13-692d86d49679",
   "metadata": {},
   "outputs": [],
   "source": []
  },
  {
   "cell_type": "code",
   "execution_count": 124,
   "id": "20479d61-8892-4b63-bd8d-73ab1885c8be",
   "metadata": {},
   "outputs": [],
   "source": [
    "#Build Logistic Regression\n",
    "\n",
    "#train test split\n",
    "\n",
    "from sklearn.model_selection import train_test_split\n",
    "\n",
    "X_train, X_test, y_train, y_test = train_test_split(X, y, random_state=78)"
   ]
  },
  {
   "cell_type": "code",
   "execution_count": 125,
   "id": "169dd0b7-44c9-473d-9bfc-0be635688e84",
   "metadata": {},
   "outputs": [],
   "source": [
    "#Create Model\n",
    "#classifier = LogisticRegression(solver='lbfgs', warm_start=True, random_state=78)\n",
    "#classifier"
   ]
  },
  {
   "cell_type": "code",
   "execution_count": 126,
   "id": "ec154b37-b0b0-4940-abb4-19e4c9f1e02f",
   "metadata": {},
   "outputs": [],
   "source": [
    "# Train the data\n",
    "#classifier.fit(X_train, y_train)"
   ]
  },
  {
   "cell_type": "code",
   "execution_count": 127,
   "id": "a2a245d3-7241-4bfe-bc87-84bba3fcc5cf",
   "metadata": {},
   "outputs": [],
   "source": [
    "# Score the model\n",
    "#print(f\"Training Data Score: {classifier.score(X_train, y_train)}\")\n",
    "#print(f\"Testing Data Score: {classifier.score(X_test, y_test)}\")"
   ]
  },
  {
   "cell_type": "code",
   "execution_count": 128,
   "id": "2f526217-4875-46dc-b773-102a6553534f",
   "metadata": {},
   "outputs": [],
   "source": [
    "# Predict outcomes for test data set\n",
    "#predictions = classifier.predict(X_test)\n",
    "#pd.DataFrame({\"Prediction\": predictions, \"Actual\": y_test}).reset_index(drop=True)"
   ]
  },
  {
   "cell_type": "code",
   "execution_count": 129,
   "id": "f63fc2a5-bc84-45f5-8209-a12031626481",
   "metadata": {},
   "outputs": [],
   "source": [
    "#Confusion Matrix\n",
    "#from sklearn.metrics import confusion matrix\n",
    "#confusion_matrix(y_test, predictions)"
   ]
  },
  {
   "cell_type": "code",
   "execution_count": 130,
   "id": "0a3b9dd2-9c7d-4062-ab43-07c1a34a4032",
   "metadata": {},
   "outputs": [],
   "source": [
    "#Classification Report\n",
    "#from sklearn.metrics import classsification report\n",
    "#print(classification_report(y_test, predictions))"
   ]
  },
  {
   "cell_type": "code",
   "execution_count": null,
   "id": "ba51b342-217d-479f-8bbb-77404c7be9b1",
   "metadata": {},
   "outputs": [],
   "source": []
  },
  {
   "cell_type": "code",
   "execution_count": null,
   "id": "f498d41c-40c7-4fcf-876f-56df4cb281dc",
   "metadata": {},
   "outputs": [],
   "source": []
  },
  {
   "cell_type": "code",
   "execution_count": 131,
   "id": "8c1f287a-a1a3-4513-a302-f100f5814376",
   "metadata": {},
   "outputs": [],
   "source": [
    "#Build LSTM Model\n",
    "\n",
    "def window_data(df, window, feature_col_number, target_col_number):\n",
    "    X = []\n",
    "    y = []\n",
    "    for i in range(len(df) - window - 1):\n",
    "        features = df.iloc[i:(i + window), feature_col_number]\n",
    "        target = df.iloc[(i + window), target_col_number]\n",
    "        X.append(features)\n",
    "        y.append(target)\n",
    "    return np.array(X), np.array(y).reshape(-1, 1)"
   ]
  },
  {
   "cell_type": "code",
   "execution_count": 132,
   "id": "e869d375-9a1e-43a6-b753-5fe71d7135b2",
   "metadata": {},
   "outputs": [],
   "source": [
    "# Predict Closing Prices using a 10 day window of previous fng values\n",
    "# Then, experiment with window sizes anywhere from 1 to 10 and see how the model performance changes\n",
    "window_size = 3\n",
    "\n",
    "# Column index 0 is the 'fng_value' column\n",
    "# Column index 1 is the `Close` column\n",
    "feature_column = 3\n",
    "target_column = 2\n",
    "X, y = window_data(metro_df, window_size, feature_column, target_column)"
   ]
  },
  {
   "cell_type": "code",
   "execution_count": 133,
   "id": "5ae36ef7-f7be-4fb5-a768-c58395e2cacd",
   "metadata": {},
   "outputs": [],
   "source": [
    "# Use 70% of the data for training and the remaineder for testing\n",
    "split = int(0.8 * len(X))\n",
    "\n",
    "X_train = X[: split]\n",
    "X_test = X[split:]\n",
    "y_train = y [: split]\n",
    "y_test = y[split:]"
   ]
  },
  {
   "cell_type": "code",
   "execution_count": 134,
   "id": "173af09f-abae-4134-aa8b-f60c729d3438",
   "metadata": {},
   "outputs": [],
   "source": [
    "from sklearn.preprocessing import MinMaxScaler\n",
    "# Use the MinMaxScaler to scale data between 0 and 1.\n",
    "#scaler = MinMaxScaler()\n",
    "#scaler.fit(X)\n",
    "#X_train = scaler.transform(X_train)\n",
    "#X_test = scaler.transform(X_test)\n",
    "#scaler.fit(y)\n",
    "#y_train = scaler.transform(y_train)\n",
    "#y_test = scaler.transform(y_test)\n"
   ]
  },
  {
   "cell_type": "code",
   "execution_count": 135,
   "id": "ed3ecea9-3fc2-4991-ae2a-21756334777f",
   "metadata": {},
   "outputs": [],
   "source": [
    "# Reshape the features for the model\n",
    "X_train = X_train.reshape((X_train.shape[0], X_train.shape[1], 1))\n",
    "X_test = X_test.reshape((X_test.shape[0], X_test.shape[1], 1))"
   ]
  },
  {
   "cell_type": "code",
   "execution_count": 136,
   "id": "8a287fed-9b4f-4b5b-951c-8789a4276a89",
   "metadata": {},
   "outputs": [],
   "source": [
    "from tensorflow.keras.models import Sequential\n",
    "from tensorflow.keras.layers import LSTM, Dense, Dropout"
   ]
  },
  {
   "cell_type": "code",
   "execution_count": 137,
   "id": "34fd519a-f2c3-402a-b7fc-c5fa44259fe8",
   "metadata": {},
   "outputs": [],
   "source": [
    "# Build the LSTM model. \n",
    "# The return sequences need to be set to True if you are adding additional LSTM layers, but \n",
    "# You don't have to do this for the final layer. \n",
    "# Note: The dropouts help prevent overfitting\n",
    "# Note: The input shape is the number of time steps and the number of indicators\n",
    "# Note: Batching inputs has a different input shape of Samples/TimeSteps/Features\n",
    "\n",
    "model = Sequential()\n",
    "\n",
    "number_units = 25\n",
    "dropout_fraction = 0.2\n",
    "\n",
    "\n",
    "# Layer 1\n",
    "model.add(LSTM(\n",
    "    units=number_units,\n",
    "    return_sequences=True,\n",
    "    input_shape=(X_train.shape[1], 1))\n",
    "    )\n",
    "model.add(Dropout(dropout_fraction))\n",
    "\n",
    "# Layer 2\n",
    "model.add(LSTM(units=number_units, return_sequences=True))\n",
    "model.add(Dropout(dropout_fraction))\n",
    "\n",
    "# Layer 3\n",
    "model.add(LSTM(units=number_units))\n",
    "model.add(Dropout(dropout_fraction))\n",
    "\n",
    "# Output layer\n",
    "model.add(Dense(1))"
   ]
  },
  {
   "cell_type": "code",
   "execution_count": 138,
   "id": "108d1b2b-0003-4d81-bfde-538877c71196",
   "metadata": {},
   "outputs": [],
   "source": [
    "# Compile the model\n",
    "model.compile(optimizer='adam', loss=\"mean_squared_error\")"
   ]
  },
  {
   "cell_type": "code",
   "execution_count": 139,
   "id": "dce4419a-7802-4085-9aaf-f4fed73207be",
   "metadata": {},
   "outputs": [
    {
     "name": "stdout",
     "output_type": "stream",
     "text": [
      "Model: \"sequential_4\"\n",
      "_________________________________________________________________\n",
      "Layer (type)                 Output Shape              Param #   \n",
      "=================================================================\n",
      "lstm_12 (LSTM)               (None, 3, 25)             2700      \n",
      "_________________________________________________________________\n",
      "dropout_12 (Dropout)         (None, 3, 25)             0         \n",
      "_________________________________________________________________\n",
      "lstm_13 (LSTM)               (None, 3, 25)             5100      \n",
      "_________________________________________________________________\n",
      "dropout_13 (Dropout)         (None, 3, 25)             0         \n",
      "_________________________________________________________________\n",
      "lstm_14 (LSTM)               (None, 25)                5100      \n",
      "_________________________________________________________________\n",
      "dropout_14 (Dropout)         (None, 25)                0         \n",
      "_________________________________________________________________\n",
      "dense_4 (Dense)              (None, 1)                 26        \n",
      "=================================================================\n",
      "Total params: 12,926\n",
      "Trainable params: 12,926\n",
      "Non-trainable params: 0\n",
      "_________________________________________________________________\n"
     ]
    }
   ],
   "source": [
    "# Summarize the model\n",
    "model.summary()"
   ]
  },
  {
   "cell_type": "code",
   "execution_count": 140,
   "id": "4b21713b-0f3c-44f2-83ec-448f4db60f4f",
   "metadata": {},
   "outputs": [
    {
     "name": "stdout",
     "output_type": "stream",
     "text": [
      "Epoch 1/10\n",
      "239/239 [==============================] - 3s 2ms/step - loss: 0.2078\n",
      "Epoch 2/10\n",
      "239/239 [==============================] - 1s 2ms/step - loss: 0.1045\n",
      "Epoch 3/10\n",
      "239/239 [==============================] - 1s 2ms/step - loss: 0.0953\n",
      "Epoch 4/10\n",
      "239/239 [==============================] - 1s 2ms/step - loss: 0.0790\n",
      "Epoch 5/10\n",
      "239/239 [==============================] - 1s 2ms/step - loss: 0.0805\n",
      "Epoch 6/10\n",
      "239/239 [==============================] - 1s 3ms/step - loss: 0.0806\n",
      "Epoch 7/10\n",
      "239/239 [==============================] - 1s 2ms/step - loss: 0.0730\n",
      "Epoch 8/10\n",
      "239/239 [==============================] - 1s 2ms/step - loss: 0.0796\n",
      "Epoch 9/10\n",
      "239/239 [==============================] - 1s 2ms/step - loss: 0.0847\n",
      "Epoch 10/10\n",
      "239/239 [==============================] - 1s 2ms/step - loss: 0.0825\n"
     ]
    },
    {
     "data": {
      "text/plain": [
       "<tensorflow.python.keras.callbacks.History at 0x29e08641648>"
      ]
     },
     "execution_count": 140,
     "metadata": {},
     "output_type": "execute_result"
    }
   ],
   "source": [
    "# Train the model\n",
    "# Use at least 10 epochs\n",
    "# Do not shuffle the data\n",
    "# Experiement with the batch size, but a smaller batch size is recommended\n",
    "model.fit(X_train, y_train, epochs=10, shuffle=False, batch_size=1, verbose=1)"
   ]
  },
  {
   "cell_type": "code",
   "execution_count": 141,
   "id": "cf391f41-edce-4fa4-a72f-8e8d5bdd2b5e",
   "metadata": {},
   "outputs": [
    {
     "name": "stdout",
     "output_type": "stream",
     "text": [
      "WARNING:tensorflow:5 out of the last 9 calls to <function Model.make_test_function.<locals>.test_function at 0x0000029E0DBA6948> triggered tf.function retracing. Tracing is expensive and the excessive number of tracings could be due to (1) creating @tf.function repeatedly in a loop, (2) passing tensors with different shapes, (3) passing Python objects instead of tensors. For (1), please define your @tf.function outside of the loop. For (2), @tf.function has experimental_relax_shapes=True option that relaxes argument shapes that can avoid unnecessary retracing. For (3), please refer to https://www.tensorflow.org/guide/function#controlling_retracing and https://www.tensorflow.org/api_docs/python/tf/function for  more details.\n",
      "2/2 [==============================] - 2s 2ms/step - loss: 1.1945\n"
     ]
    },
    {
     "data": {
      "text/plain": [
       "1.1944518089294434"
      ]
     },
     "execution_count": 141,
     "metadata": {},
     "output_type": "execute_result"
    }
   ],
   "source": [
    "# Evaluate the model\n",
    "model.evaluate(X_test, y_test)"
   ]
  },
  {
   "cell_type": "code",
   "execution_count": 142,
   "id": "09974f9a-6d29-4890-8b08-8b264f395073",
   "metadata": {},
   "outputs": [
    {
     "name": "stdout",
     "output_type": "stream",
     "text": [
      "WARNING:tensorflow:5 out of the last 9 calls to <function Model.make_predict_function.<locals>.predict_function at 0x0000029DB30B79D8> triggered tf.function retracing. Tracing is expensive and the excessive number of tracings could be due to (1) creating @tf.function repeatedly in a loop, (2) passing tensors with different shapes, (3) passing Python objects instead of tensors. For (1), please define your @tf.function outside of the loop. For (2), @tf.function has experimental_relax_shapes=True option that relaxes argument shapes that can avoid unnecessary retracing. For (3), please refer to https://www.tensorflow.org/guide/function#controlling_retracing and https://www.tensorflow.org/api_docs/python/tf/function for  more details.\n"
     ]
    }
   ],
   "source": [
    "# Make some predictions\n",
    "predicted = model.predict(X_test)"
   ]
  },
  {
   "cell_type": "code",
   "execution_count": 143,
   "id": "f93b039a-fd71-4542-bab5-0ac63486abb5",
   "metadata": {},
   "outputs": [],
   "source": [
    "# Recover the original prices instead of the scaled version\n",
    "predicted_prices = scaler.inverse_transform(predicted)\n",
    "real_prices = scaler.inverse_transform(y_test.reshape(-1, 1))"
   ]
  },
  {
   "cell_type": "code",
   "execution_count": 144,
   "id": "28c63dfe-e912-4f8d-89dc-cccf82ab8bdd",
   "metadata": {},
   "outputs": [
    {
     "data": {
      "text/html": [
       "<div>\n",
       "<style scoped>\n",
       "    .dataframe tbody tr th:only-of-type {\n",
       "        vertical-align: middle;\n",
       "    }\n",
       "\n",
       "    .dataframe tbody tr th {\n",
       "        vertical-align: top;\n",
       "    }\n",
       "\n",
       "    .dataframe thead th {\n",
       "        text-align: right;\n",
       "    }\n",
       "</style>\n",
       "<table border=\"1\" class=\"dataframe\">\n",
       "  <thead>\n",
       "    <tr style=\"text-align: right;\">\n",
       "      <th></th>\n",
       "      <th>Real</th>\n",
       "      <th>Predicted</th>\n",
       "    </tr>\n",
       "    <tr>\n",
       "      <th>date</th>\n",
       "      <th></th>\n",
       "      <th></th>\n",
       "    </tr>\n",
       "  </thead>\n",
       "  <tbody>\n",
       "    <tr>\n",
       "      <th>2016-04-30</th>\n",
       "      <td>-0.182622</td>\n",
       "      <td>-0.800972</td>\n",
       "    </tr>\n",
       "    <tr>\n",
       "      <th>2016-05-31</th>\n",
       "      <td>-1.692343</td>\n",
       "      <td>-0.640300</td>\n",
       "    </tr>\n",
       "    <tr>\n",
       "      <th>2016-06-30</th>\n",
       "      <td>-0.094813</td>\n",
       "      <td>-0.427193</td>\n",
       "    </tr>\n",
       "    <tr>\n",
       "      <th>2016-07-31</th>\n",
       "      <td>-0.499555</td>\n",
       "      <td>-0.614600</td>\n",
       "    </tr>\n",
       "    <tr>\n",
       "      <th>2016-08-31</th>\n",
       "      <td>-2.178180</td>\n",
       "      <td>-0.654396</td>\n",
       "    </tr>\n",
       "  </tbody>\n",
       "</table>\n",
       "</div>"
      ],
      "text/plain": [
       "                Real  Predicted\n",
       "date                           \n",
       "2016-04-30 -0.182622  -0.800972\n",
       "2016-05-31 -1.692343  -0.640300\n",
       "2016-06-30 -0.094813  -0.427193\n",
       "2016-07-31 -0.499555  -0.614600\n",
       "2016-08-31 -2.178180  -0.654396"
      ]
     },
     "execution_count": 144,
     "metadata": {},
     "output_type": "execute_result"
    }
   ],
   "source": [
    "# Create a DataFrame of Real and Predicted values\n",
    "housing = pd.DataFrame({\n",
    "    \"Real\": real_prices.ravel(),\n",
    "    \"Predicted\": predicted_prices.ravel()\n",
    "}, index = metro_df.index[-len(real_prices): ]) \n",
    "\n",
    "housing.head()"
   ]
  },
  {
   "cell_type": "code",
   "execution_count": 145,
   "id": "f63434aa-8196-43e4-96ea-ee93c03e1a16",
   "metadata": {},
   "outputs": [
    {
     "data": {
      "text/plain": [
       "<AxesSubplot:xlabel='date'>"
      ]
     },
     "execution_count": 145,
     "metadata": {},
     "output_type": "execute_result"
    },
    {
     "data": {
      "image/png": "[encoded data removed]",
      "text/plain": [
       "<Figure size 432x288 with 1 Axes>"
      ]
     },
     "metadata": {
      "needs_background": "light"
     },
     "output_type": "display_data"
    }
   ],
   "source": [
    "# Plot the real vs predicted values as a line chart\n",
    "housing.plot()"
   ]
  },
  {
   "cell_type": "code",
   "execution_count": null,
   "id": "d74cab46-c31b-4222-860a-41231e1b5f97",
   "metadata": {},
   "outputs": [],
   "source": []
  },
  {
   "cell_type": "code",
   "execution_count": null,
   "id": "3d649de0-ef94-466e-8335-98da24d4052a",
   "metadata": {},
   "outputs": [],
   "source": []
  },
  {
   "cell_type": "code",
   "execution_count": 146,
   "id": "269fdfad-0149-46a4-885c-a149d269f633",
   "metadata": {},
   "outputs": [],
   "source": [
    "#Lazy Predict - Regression\n",
    "\n",
    "#from lazypredict.Supervised import LazyClassifier\n",
    "#from sklearn.datasets import load_breast_cancer\n",
    "#from sklearn.model_selection import train_test_split\n",
    "\n",
    "#data = load_breast_cancer()\n",
    "#X = data.data\n",
    "#y= data.target\n",
    "\n",
    "#X_train, X_test, y_train, y_test = train_test_split(X, y,test_size=.5,random_state =123)\n",
    "\n",
    "#clf = LazyClassifier(verbose=0,ignore_warnings=True, custom_metric=None)\n",
    "#models,predictions = clf.fit(X_train, X_test, y_train, y_test)\n",
    "\n",
    "#print(models)"
   ]
  },
  {
   "cell_type": "code",
   "execution_count": null,
   "id": "441aa000-6721-4762-ae29-587906187440",
   "metadata": {},
   "outputs": [],
   "source": []
  },
  {
   "cell_type": "code",
   "execution_count": null,
   "id": "37cd0b48-a9ec-4f95-a3eb-3e10fcb3757d",
   "metadata": {},
   "outputs": [],
   "source": []
  }
 ],
 "metadata": {
  "kernelspec": {
   "display_name": "Python 3",
   "language": "python",
   "name": "python3"
  },
  "language_info": {
   "codemirror_mode": {
    "name": "ipython",
    "version": 3
   },
   "file_extension": ".py",
   "mimetype": "text/x-python",
   "name": "python",
   "nbconvert_exporter": "python",
   "pygments_lexer": "ipython3",
   "version": "3.7.10"
  }
 },
 "nbformat": 4,
 "nbformat_minor": 5
}
