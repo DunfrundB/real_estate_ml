{
 "cells": [
  {
   "cell_type": "code",
   "execution_count": 104,
   "id": "695101dd-0887-4a40-bbb5-6a7e20d45c6d",
   "metadata": {},
   "outputs": [],
   "source": [
    "# Initial imports\n",
    "import pandas as pd\n",
    "from pathlib import Path\n",
    "import numpy as np\n",
    "import matplotlib.pyplot as plt\n",
    "from sklearn import tree\n",
    "from sklearn.preprocessing import StandardScaler\n",
    "from sklearn.model_selection import train_test_split\n",
    "from sklearn.metrics import confusion_matrix, accuracy_score, classification_report\n",
    "from matplotlib import style\n",
    "style.use(\"ggplot\")\n",
    "from sklearn.linear_model import LinearRegression\n",
    "%matplotlib inline\n",
    "from sklearn.linear_model import LogisticRegression\n",
    "from sklearn.ensemble import GradientBoostingClassifier\n",
    "import lazypredict\n",
    "\n",
    "\n",
    "\n",
    "# Needed for decision tree visualization\n",
    "import pydotplus\n",
    "from IPython.display import Image"
   ]
  },
  {
   "cell_type": "code",
   "execution_count": null,
   "id": "6df95cb2-0227-4a14-94c2-c6ecfc2e062a",
   "metadata": {},
   "outputs": [],
   "source": []
  },
  {
   "cell_type": "code",
   "execution_count": 105,
   "id": "845c4460-f709-42bd-9b8e-b54e025186d0",
   "metadata": {},
   "outputs": [],
   "source": [
    "#file_path = Path(\"../Resources/metro_2br.csv\")\n",
    "#metro_df = pd.read_csv(file_path)\n",
    "#metro_df.drop(columns='indicator_id', inplace=True)\n",
    "#metro_df.head()\n",
    "\n",
    "\n",
    "#metro_df.set_index(pd.to_datetime(metro_df['date']), inplace=True)\n",
    "#metro_df.drop('date', axis=1, inplace=True)\n",
    "#metro_df.head()"
   ]
  },
  {
   "cell_type": "markdown",
   "id": "eaac8d4e-2ac9-4068-ad4c-2873b88414a4",
   "metadata": {},
   "source": [
    "### El Paso Condo Regression"
   ]
  },
  {
   "cell_type": "code",
   "execution_count": 106,
   "id": "52609849-0150-47c3-b697-4ceda5703c44",
   "metadata": {},
   "outputs": [
    {
     "data": {
      "text/html": [
       "<div>\n",
       "<style scoped>\n",
       "    .dataframe tbody tr th:only-of-type {\n",
       "        vertical-align: middle;\n",
       "    }\n",
       "\n",
       "    .dataframe tbody tr th {\n",
       "        vertical-align: top;\n",
       "    }\n",
       "\n",
       "    .dataframe thead th {\n",
       "        text-align: right;\n",
       "    }\n",
       "</style>\n",
       "<table border=\"1\" class=\"dataframe\">\n",
       "  <thead>\n",
       "    <tr style=\"text-align: right;\">\n",
       "      <th></th>\n",
       "      <th>value</th>\n",
       "      <th>region</th>\n",
       "      <th>change</th>\n",
       "      <th>lagged_change</th>\n",
       "    </tr>\n",
       "    <tr>\n",
       "      <th>date</th>\n",
       "      <th></th>\n",
       "      <th></th>\n",
       "      <th></th>\n",
       "      <th></th>\n",
       "    </tr>\n",
       "  </thead>\n",
       "  <tbody>\n",
       "    <tr>\n",
       "      <th>1996-01-31</th>\n",
       "      <td>78992.0</td>\n",
       "      <td>El Paso, TX</td>\n",
       "      <td>-30.821642</td>\n",
       "      <td>-1.586700</td>\n",
       "    </tr>\n",
       "    <tr>\n",
       "      <th>1996-02-29</th>\n",
       "      <td>78761.0</td>\n",
       "      <td>El Paso, TX</td>\n",
       "      <td>-0.292435</td>\n",
       "      <td>-30.821642</td>\n",
       "    </tr>\n",
       "    <tr>\n",
       "      <th>1996-03-31</th>\n",
       "      <td>78616.0</td>\n",
       "      <td>El Paso, TX</td>\n",
       "      <td>-0.184101</td>\n",
       "      <td>-0.292435</td>\n",
       "    </tr>\n",
       "    <tr>\n",
       "      <th>1996-04-30</th>\n",
       "      <td>78424.0</td>\n",
       "      <td>El Paso, TX</td>\n",
       "      <td>-0.244225</td>\n",
       "      <td>-0.184101</td>\n",
       "    </tr>\n",
       "    <tr>\n",
       "      <th>1996-05-31</th>\n",
       "      <td>78454.0</td>\n",
       "      <td>El Paso, TX</td>\n",
       "      <td>0.038254</td>\n",
       "      <td>-0.244225</td>\n",
       "    </tr>\n",
       "  </tbody>\n",
       "</table>\n",
       "</div>"
      ],
      "text/plain": [
       "              value       region     change  lagged_change\n",
       "date                                                      \n",
       "1996-01-31  78992.0  El Paso, TX -30.821642      -1.586700\n",
       "1996-02-29  78761.0  El Paso, TX  -0.292435     -30.821642\n",
       "1996-03-31  78616.0  El Paso, TX  -0.184101      -0.292435\n",
       "1996-04-30  78424.0  El Paso, TX  -0.244225      -0.184101\n",
       "1996-05-31  78454.0  El Paso, TX   0.038254      -0.244225"
      ]
     },
     "execution_count": 106,
     "metadata": {},
     "output_type": "execute_result"
    }
   ],
   "source": [
    "file_path = Path(\"../Resources/elp_condo.csv\")\n",
    "metro_df = pd.read_csv(file_path)\n",
    "metro_df = metro_df.drop('indicator_id',axis=1)\n",
    "metro_df = metro_df.drop('region_id',axis=1)\n",
    "metro_df = metro_df.sort_values('date')\n",
    "metro_df['date'] = pd.to_datetime(metro_df['date'])\n",
    "metro_df = metro_df.set_index('date')\n",
    "metro_df = metro_df.dropna()\n",
    "metro_df.head()"
   ]
  },
  {
   "cell_type": "code",
   "execution_count": 107,
   "id": "e3dcf498-dbfa-4288-80a3-ae3dbb423203",
   "metadata": {},
   "outputs": [
    {
     "data": {
      "text/plain": [
       "<AxesSubplot:xlabel='date'>"
      ]
     },
     "execution_count": 107,
     "metadata": {},
     "output_type": "execute_result"
    },
    {
     "data": {
      "image/png": "[encoded data removed]",
      "text/plain": [
       "<Figure size 432x288 with 1 Axes>"
      ]
     },
     "metadata": {
      "needs_background": "light"
     },
     "output_type": "display_data"
    }
   ],
   "source": [
    "metro_df.plot()"
   ]
  },
  {
   "cell_type": "code",
   "execution_count": 108,
   "id": "a3c4428e-d24c-4948-a5fa-52581c67d71c",
   "metadata": {},
   "outputs": [
    {
     "data": {
      "text/plain": [
       "LinearRegression()"
      ]
     },
     "execution_count": 108,
     "metadata": {},
     "output_type": "execute_result"
    }
   ],
   "source": [
    "#Build Linear Regression\n",
    "from sklearn.linear_model import LinearRegression\n",
    "model = LinearRegression()\n",
    "model"
   ]
  },
  {
   "cell_type": "code",
   "execution_count": 109,
   "id": "f27285ac-0733-4607-aa8a-73e2f5a3586d",
   "metadata": {},
   "outputs": [],
   "source": [
    "# Separate the data into the X and y components\n",
    "# In this case, y will be the `value` and X will be the remainign columns\n",
    "\n",
    "#X = metro_df.drop(columns='value', axis=1)\n",
    "X = metro_df.lagged_change.to_frame()\n",
    "y = metro_df.change.values"
   ]
  },
  {
   "cell_type": "code",
   "execution_count": 110,
   "id": "a715b377-0b42-4171-a986-cbd722bd1163",
   "metadata": {},
   "outputs": [
    {
     "data": {
      "text/plain": [
       "LinearRegression()"
      ]
     },
     "execution_count": 110,
     "metadata": {},
     "output_type": "execute_result"
    }
   ],
   "source": [
    "# Fit the model to the data\n",
    "\n",
    "model.fit(X, y)"
   ]
  },
  {
   "cell_type": "code",
   "execution_count": 111,
   "id": "a1e3f7b3-79a7-4f02-a0fc-9c23ef8e8526",
   "metadata": {},
   "outputs": [
    {
     "data": {
      "text/plain": [
       "array([ 1.47547907e-01,  2.15548445e+00,  5.86542154e-02,  5.12135778e-02,\n",
       "        5.53430482e-02,  3.59416319e-02,  2.71005650e-02,  2.14387265e-02,\n",
       "        3.29021719e-02,  4.91093060e-02,  5.50580917e-02,  3.34966708e-02,\n",
       "        2.14406881e-02,  3.42103981e-02,  2.44560984e-02,  2.90058142e-02,\n",
       "        1.78197025e-02,  4.78304473e-02,  3.97824096e-02,  5.13121042e-02,\n",
       "        3.25764164e-02,  1.53137642e-02, -1.07248530e-02,  1.96788740e-02,\n",
       "        1.23666197e-02,  5.04481915e-03,  6.48098994e-03,  4.01088657e-03,\n",
       "        3.62150025e-02,  2.24328655e-02,  6.03687867e-02,  5.48867857e-02,\n",
       "        6.39470984e-02,  5.08396667e-02,  6.41715838e-02,  5.63536378e-02,\n",
       "        8.59187644e-02,  6.62310945e-02,  5.37497926e-02,  4.19403730e-02,\n",
       "        2.74120351e-02,  2.98478675e-02, -4.10712331e-04, -1.64835462e-02,\n",
       "       -3.56118240e-02, -3.43983910e-02, -4.65127914e-03, -5.12580366e-03,\n",
       "        1.66130097e-02,  2.30766424e-02,  3.45614982e-02,  1.61727974e-02,\n",
       "        1.23349206e-02,  2.33104874e-02,  4.35899009e-02,  6.19900185e-02,\n",
       "        6.42657686e-02,  9.06452930e-02,  7.43468346e-02,  9.72707955e-02,\n",
       "        4.20714300e-02,  4.78301539e-02,  4.17437623e-02,  8.33706396e-02,\n",
       "        9.98185196e-02,  8.99280490e-02,  6.02082295e-02,  3.08469136e-02,\n",
       "        3.59978583e-02,  3.21435594e-02,  5.17502232e-02,  2.93072412e-02,\n",
       "        6.09214229e-02,  4.47553147e-02,  6.15306136e-02,  3.74472629e-02,\n",
       "        1.54478430e-02,  1.87068057e-02,  4.29415083e-02,  7.13408435e-02,\n",
       "        7.44288141e-02,  4.94873880e-02,  2.11238249e-02,  1.70125668e-02,\n",
       "       -7.61429186e-06,  2.01178829e-02,  2.45035444e-03,  2.23069764e-02,\n",
       "        2.13261050e-02,  2.18776508e-02,  1.05076155e-02,  1.10964973e-03,\n",
       "       -1.12454096e-02, -2.65795074e-03,  1.70044187e-02,  1.61659066e-02,\n",
       "        1.36937521e-02,  1.40289199e-02,  1.19970539e-02, -1.05539164e-02,\n",
       "       -2.60062639e-02, -2.83598785e-02, -2.32054674e-02, -1.94407561e-02,\n",
       "       -6.09446421e-04,  1.59991184e-02, -8.58005559e-03, -9.63587759e-03,\n",
       "       -8.23615710e-03, -3.38049110e-02, -2.13999697e-02, -1.18486577e-02,\n",
       "        3.63641376e-02,  3.15891884e-02,  2.39629808e-02,  5.56760144e-04,\n",
       "       -2.58927939e-02, -4.25398762e-02, -1.71309102e-02, -9.60833479e-03,\n",
       "       -1.06075419e-02, -3.31368513e-02, -4.66165713e-02, -7.08019335e-02,\n",
       "       -5.35163237e-02, -6.51465839e-02, -3.36565363e-02, -3.71016821e-02,\n",
       "       -2.50373894e-02, -4.48285630e-02, -6.08326145e-02, -3.98178338e-02,\n",
       "       -9.86994529e-03,  2.62264265e-02,  2.15378150e-02,  3.07371620e-02,\n",
       "       -2.17877809e-02,  6.89949910e-04, -4.05703658e-02, -5.88700571e-03,\n",
       "        9.25345339e-04,  4.83632656e-02,  7.36813968e-02,  4.59192364e-02,\n",
       "        3.16780601e-02,  8.62321352e-02,  1.16937356e-01,  1.24259770e-01,\n",
       "        7.75026849e-02,  8.06295450e-02,  9.91562076e-02,  1.02337068e-01,\n",
       "        9.43153713e-02,  6.06374020e-02,  3.00393118e-02,  5.03454013e-02,\n",
       "        6.18485211e-02,  3.21469262e-02, -7.72734670e-03,  1.25142196e-02,\n",
       "        5.35078777e-02,  8.09257133e-02,  6.32996341e-02,  5.63965645e-02,\n",
       "        5.58745289e-02,  1.00874324e-01,  8.93040645e-02,  6.22584765e-02,\n",
       "        1.82211307e-02,  3.12076472e-04,  3.93375804e-02,  4.06828423e-02,\n",
       "        9.40585652e-02,  1.86083336e-02,  3.00024089e-02,  1.44451767e-02,\n",
       "        3.37611179e-02, -3.83884359e-03,  3.28389582e-02,  6.84675733e-02,\n",
       "        9.79886744e-02,  9.07732549e-02,  5.58439187e-02,  3.21233935e-02,\n",
       "       -2.94041141e-02,  4.25623280e-02,  6.47985473e-02,  8.10076911e-02,\n",
       "        5.43871659e-02,  5.67072772e-02,  4.43258122e-02,  3.39858662e-02,\n",
       "        4.57008210e-02,  4.72801769e-02,  6.89984808e-02,  6.34029776e-02,\n",
       "        1.03490662e-01,  5.87919886e-02,  3.24774861e-02,  2.31985249e-03,\n",
       "        2.75916748e-02,  3.42514963e-02,  4.61364650e-02,  2.30186321e-02,\n",
       "       -5.50614052e-04,  1.62850228e-02,  1.27427255e-02,  5.27758796e-02,\n",
       "        1.76409293e-02,  2.83656703e-02,  1.61027319e-02,  5.90742259e-02,\n",
       "        6.33795359e-02,  5.63925034e-02,  4.80295203e-02,  4.85030905e-02,\n",
       "        7.05227384e-02,  3.87013784e-02,  5.26019599e-02,  1.76754372e-02,\n",
       "        5.54315301e-02,  5.12967402e-02,  7.82842163e-02,  4.66517555e-02,\n",
       "        2.56614667e-02,  1.26688563e-02,  2.26084772e-02,  4.34123967e-02,\n",
       "        6.50605181e-02,  4.96332062e-02,  2.44827565e-02,  1.68499668e-02,\n",
       "        1.69184307e-02,  3.17499742e-02,  2.24312210e-02,  3.52698254e-02,\n",
       "        4.14708693e-02,  7.63093128e-02,  5.97991161e-02,  6.98474186e-02,\n",
       "        1.71756198e-02,  6.50943827e-02,  5.33550199e-02,  6.16340006e-02,\n",
       "        4.25382407e-02,  3.99152797e-02,  5.64107711e-02,  4.05265760e-02,\n",
       "        3.18843109e-02,  1.50267097e-02,  1.99473997e-02, -6.35061990e-03,\n",
       "       -9.52239303e-03, -1.11723632e-02,  3.29213892e-02,  5.24795599e-02,\n",
       "        3.09421060e-02,  1.57137087e-02,  1.65750105e-02,  4.01349786e-02,\n",
       "        3.79163523e-02,  1.71643639e-02,  1.61899787e-02,  2.68970751e-02,\n",
       "        5.72123829e-02,  4.61634857e-02,  3.81791023e-02,  3.47352721e-02,\n",
       "        5.62981867e-02,  6.40270694e-02,  2.34725895e-02,  2.70400406e-03,\n",
       "       -2.88334059e-04, -1.40674051e-02, -1.11705063e-02, -1.59747772e-03,\n",
       "        3.73052938e-02,  4.07168903e-02,  3.47774043e-02,  1.41267308e-02,\n",
       "        7.60530000e-03,  1.91763888e-03,  1.15847230e-02,  2.00084349e-02,\n",
       "        1.54772539e-02,  5.83749219e-02,  5.78134096e-02,  5.34617184e-02,\n",
       "        1.53107346e-02,  2.19588951e-02,  7.74730245e-03,  8.15989423e-01,\n",
       "        3.86308274e-02, -2.01808103e-01,  4.38631530e-01,  3.51116428e-02,\n",
       "       -6.96523211e-01,  1.60996398e-01,  7.71902094e-01,  1.27844022e-01,\n",
       "        1.66602357e-01, -2.60852994e-01, -1.53049521e+00])"
      ]
     },
     "execution_count": 111,
     "metadata": {},
     "output_type": "execute_result"
    }
   ],
   "source": [
    "predicted_y_values = model.predict(X)\n",
    "predicted_y_values"
   ]
  },
  {
   "cell_type": "code",
   "execution_count": 112,
   "id": "646caf4e-6a40-4d42-9fbe-57694df4da8a",
   "metadata": {},
   "outputs": [
    {
     "data": {
      "text/plain": [
       "0.03856899446544864"
      ]
     },
     "execution_count": 112,
     "metadata": {},
     "output_type": "execute_result"
    }
   ],
   "source": [
    "#Extracting coef, intercept\n",
    "\n",
    "model.coef_\n",
    "model.intercept_\n"
   ]
  },
  {
   "cell_type": "code",
   "execution_count": 113,
   "id": "bdf4db68-9fe3-4403-97f0-564199fe18ff",
   "metadata": {},
   "outputs": [
    {
     "data": {
      "text/plain": [
       "[<matplotlib.lines.Line2D at 0x231f688fe48>]"
      ]
     },
     "execution_count": 113,
     "metadata": {},
     "output_type": "execute_result"
    },
    {
     "data": {
      "image/png": "[encoded data removed]",
      "text/plain": [
       "<Figure size 432x288 with 1 Axes>"
      ]
     },
     "metadata": {
      "needs_background": "light"
     },
     "output_type": "display_data"
    }
   ],
   "source": [
    "#Plotting Results\n",
    "\n",
    "plt.scatter(X, y)\n",
    "plt.plot(X, predicted_y_values, color='red')"
   ]
  },
  {
   "cell_type": "code",
   "execution_count": 114,
   "id": "2f294756-e05f-4df6-83b6-47faf37ac8c2",
   "metadata": {},
   "outputs": [],
   "source": [
    "#Metrics - score, R2, mse, rmse, std\n",
    "\n",
    "from sklearn.metrics import mean_squared_error, r2_score\n",
    "\n",
    "score = model.score(X, y, sample_weight=None)\n",
    "r2 = r2_score(y, predicted_y_values)\n",
    "mse = mean_squared_error(y, predicted_y_values)\n",
    "rmse = np.sqrt(mse)\n",
    "std = np.std(y)"
   ]
  },
  {
   "cell_type": "code",
   "execution_count": 115,
   "id": "7465aeba-8643-4f5b-ac08-dbb7bb6c707e",
   "metadata": {},
   "outputs": [
    {
     "name": "stdout",
     "output_type": "stream",
     "text": [
      "Score: 0.0047176869272066435\n",
      "R-squared (R2 ): 0.0047176869272066435\n",
      "Mean Squared Error (MSE): 6.501845950939828\n",
      "Root Mean Squared Error (RMSE): 2.549871751861224\n",
      "Standard Deviation: 2.5559078659648913\n"
     ]
    }
   ],
   "source": [
    "# Print the score, r2, mse, rmse, and standard deviation\n",
    "print(f\"Score: {score}\")\n",
    "print(f\"R-squared (R2 ): {r2}\")\n",
    "print(f\"Mean Squared Error (MSE): {mse}\")\n",
    "print(f\"Root Mean Squared Error (RMSE): {rmse}\")\n",
    "print(f\"Standard Deviation: {np.std(y)}\")"
   ]
  },
  {
   "cell_type": "code",
   "execution_count": null,
   "id": "a0cd2ff7-19b0-44cd-9028-3e9a10472826",
   "metadata": {},
   "outputs": [],
   "source": []
  },
  {
   "cell_type": "code",
   "execution_count": null,
   "id": "db325dc7-e262-4da1-9a13-692d86d49679",
   "metadata": {},
   "outputs": [],
   "source": []
  },
  {
   "cell_type": "code",
   "execution_count": 116,
   "id": "20479d61-8892-4b63-bd8d-73ab1885c8be",
   "metadata": {},
   "outputs": [],
   "source": [
    "#Build Logistic Regression\n",
    "\n",
    "#train test split\n",
    "\n",
    "from sklearn.model_selection import train_test_split\n",
    "\n",
    "X_train, X_test, y_train, y_test = train_test_split(X, y, random_state=78)"
   ]
  },
  {
   "cell_type": "code",
   "execution_count": 117,
   "id": "169dd0b7-44c9-473d-9bfc-0be635688e84",
   "metadata": {},
   "outputs": [],
   "source": [
    "#Create Model\n",
    "#classifier = LogisticRegression(solver='lbfgs', warm_start=True, random_state=78)\n",
    "#classifier"
   ]
  },
  {
   "cell_type": "code",
   "execution_count": 118,
   "id": "ec154b37-b0b0-4940-abb4-19e4c9f1e02f",
   "metadata": {},
   "outputs": [],
   "source": [
    "# Train the data\n",
    "#classifier.fit(X_train, y_train)"
   ]
  },
  {
   "cell_type": "code",
   "execution_count": 119,
   "id": "a2a245d3-7241-4bfe-bc87-84bba3fcc5cf",
   "metadata": {},
   "outputs": [],
   "source": [
    "# Score the model\n",
    "#print(f\"Training Data Score: {classifier.score(X_train, y_train)}\")\n",
    "#print(f\"Testing Data Score: {classifier.score(X_test, y_test)}\")"
   ]
  },
  {
   "cell_type": "code",
   "execution_count": 120,
   "id": "2f526217-4875-46dc-b773-102a6553534f",
   "metadata": {},
   "outputs": [],
   "source": [
    "# Predict outcomes for test data set\n",
    "#predictions = classifier.predict(X_test)\n",
    "#pd.DataFrame({\"Prediction\": predictions, \"Actual\": y_test}).reset_index(drop=True)"
   ]
  },
  {
   "cell_type": "code",
   "execution_count": 121,
   "id": "f63fc2a5-bc84-45f5-8209-a12031626481",
   "metadata": {},
   "outputs": [],
   "source": [
    "#Confusion Matrix\n",
    "#from sklearn.metrics import confusion matrix\n",
    "#confusion_matrix(y_test, predictions)"
   ]
  },
  {
   "cell_type": "code",
   "execution_count": 122,
   "id": "0a3b9dd2-9c7d-4062-ab43-07c1a34a4032",
   "metadata": {},
   "outputs": [],
   "source": [
    "#Classification Report\n",
    "#from sklearn.metrics import classsification report\n",
    "#print(classification_report(y_test, predictions))"
   ]
  },
  {
   "cell_type": "code",
   "execution_count": null,
   "id": "ba51b342-217d-479f-8bbb-77404c7be9b1",
   "metadata": {},
   "outputs": [],
   "source": []
  },
  {
   "cell_type": "code",
   "execution_count": null,
   "id": "f498d41c-40c7-4fcf-876f-56df4cb281dc",
   "metadata": {},
   "outputs": [],
   "source": []
  },
  {
   "cell_type": "code",
   "execution_count": 123,
   "id": "8c1f287a-a1a3-4513-a302-f100f5814376",
   "metadata": {},
   "outputs": [],
   "source": [
    "#Build LSTM Model\n",
    "\n",
    "def window_data(df, window, feature_col_number, target_col_number):\n",
    "    X = []\n",
    "    y = []\n",
    "    for i in range(len(df) - window - 1):\n",
    "        features = df.iloc[i:(i + window), feature_col_number]\n",
    "        target = df.iloc[(i + window), target_col_number]\n",
    "        X.append(features)\n",
    "        y.append(target)\n",
    "    return np.array(X), np.array(y).reshape(-1, 1)"
   ]
  },
  {
   "cell_type": "code",
   "execution_count": 124,
   "id": "e869d375-9a1e-43a6-b753-5fe71d7135b2",
   "metadata": {},
   "outputs": [],
   "source": [
    "# Predict Percent Change of Housing Prices using a 10 month window of previous fng values\n",
    "# Then, experiment with window sizes anywhere from 1 to 10 and see how the model performance changes\n",
    "window_size = 3\n",
    "\n",
    "# Column index 0 is the 'fng_value' column\n",
    "# Column index 1 is the `Close` column\n",
    "feature_column = 3\n",
    "target_column = 2\n",
    "X, y = window_data(metro_df, window_size, feature_column, target_column)"
   ]
  },
  {
   "cell_type": "code",
   "execution_count": 125,
   "id": "5ae36ef7-f7be-4fb5-a768-c58395e2cacd",
   "metadata": {},
   "outputs": [],
   "source": [
    "# Use 70% of the data for training and the remaineder for testing\n",
    "split = int(0.8 * len(X))\n",
    "\n",
    "X_train = X[: split]\n",
    "X_test = X[split:]\n",
    "y_train = y [: split]\n",
    "y_test = y[split:]"
   ]
  },
  {
   "cell_type": "code",
   "execution_count": 126,
   "id": "173af09f-abae-4134-aa8b-f60c729d3438",
   "metadata": {},
   "outputs": [],
   "source": [
    "from sklearn.preprocessing import MinMaxScaler\n",
    "# Use the MinMaxScaler to scale data between 0 and 1.\n",
    "#scaler = MinMaxScaler()\n",
    "#scaler.fit(X)\n",
    "#X_train = scaler.transform(X_train)\n",
    "#X_test = scaler.transform(X_test)\n",
    "#scaler.fit(y)\n",
    "#y_train = scaler.transform(y_train)\n",
    "#y_test = scaler.transform(y_test)\n"
   ]
  },
  {
   "cell_type": "code",
   "execution_count": 127,
   "id": "ed3ecea9-3fc2-4991-ae2a-21756334777f",
   "metadata": {},
   "outputs": [],
   "source": [
    "# Reshape the features for the model\n",
    "X_train = X_train.reshape((X_train.shape[0], X_train.shape[1], 1))\n",
    "X_test = X_test.reshape((X_test.shape[0], X_test.shape[1], 1))"
   ]
  },
  {
   "cell_type": "code",
   "execution_count": 128,
   "id": "8a287fed-9b4f-4b5b-951c-8789a4276a89",
   "metadata": {},
   "outputs": [],
   "source": [
    "from tensorflow.keras.models import Sequential\n",
    "from tensorflow.keras.layers import LSTM, Dense, Dropout"
   ]
  },
  {
   "cell_type": "code",
   "execution_count": 129,
   "id": "34fd519a-f2c3-402a-b7fc-c5fa44259fe8",
   "metadata": {},
   "outputs": [],
   "source": [
    "# Build the LSTM model. \n",
    "# The return sequences need to be set to True if you are adding additional LSTM layers, but \n",
    "# You don't have to do this for the final layer. \n",
    "# Note: The dropouts help prevent overfitting\n",
    "# Note: The input shape is the number of time steps and the number of indicators\n",
    "# Note: Batching inputs has a different input shape of Samples/TimeSteps/Features\n",
    "\n",
    "model = Sequential()\n",
    "\n",
    "number_units = 10\n",
    "dropout_fraction = 0.2\n",
    "\n",
    "\n",
    "# Layer 1\n",
    "model.add(LSTM(\n",
    "    units=number_units,\n",
    "    return_sequences=True,\n",
    "    input_shape=(X_train.shape[1], 1))\n",
    "    )\n",
    "model.add(Dropout(dropout_fraction))\n",
    "\n",
    "# Layer 2\n",
    "model.add(LSTM(units=number_units, return_sequences=True))\n",
    "model.add(Dropout(dropout_fraction))\n",
    "\n",
    "# Layer 3\n",
    "model.add(LSTM(units=number_units))\n",
    "model.add(Dropout(dropout_fraction))\n",
    "\n",
    "# Output layer\n",
    "model.add(Dense(1))"
   ]
  },
  {
   "cell_type": "code",
   "execution_count": 130,
   "id": "108d1b2b-0003-4d81-bfde-538877c71196",
   "metadata": {},
   "outputs": [],
   "source": [
    "# Compile the model\n",
    "model.compile(optimizer='adam', loss=\"mean_squared_error\")"
   ]
  },
  {
   "cell_type": "code",
   "execution_count": 131,
   "id": "dce4419a-7802-4085-9aaf-f4fed73207be",
   "metadata": {},
   "outputs": [
    {
     "name": "stdout",
     "output_type": "stream",
     "text": [
      "Model: \"sequential_3\"\n",
      "_________________________________________________________________\n",
      "Layer (type)                 Output Shape              Param #   \n",
      "=================================================================\n",
      "lstm_9 (LSTM)                (None, 3, 10)             480       \n",
      "_________________________________________________________________\n",
      "dropout_9 (Dropout)          (None, 3, 10)             0         \n",
      "_________________________________________________________________\n",
      "lstm_10 (LSTM)               (None, 3, 10)             840       \n",
      "_________________________________________________________________\n",
      "dropout_10 (Dropout)         (None, 3, 10)             0         \n",
      "_________________________________________________________________\n",
      "lstm_11 (LSTM)               (None, 10)                840       \n",
      "_________________________________________________________________\n",
      "dropout_11 (Dropout)         (None, 10)                0         \n",
      "_________________________________________________________________\n",
      "dense_3 (Dense)              (None, 1)                 11        \n",
      "=================================================================\n",
      "Total params: 2,171\n",
      "Trainable params: 2,171\n",
      "Non-trainable params: 0\n",
      "_________________________________________________________________\n"
     ]
    }
   ],
   "source": [
    "# Summarize the model\n",
    "model.summary()"
   ]
  },
  {
   "cell_type": "code",
   "execution_count": 138,
   "id": "4b21713b-0f3c-44f2-83ec-448f4db60f4f",
   "metadata": {},
   "outputs": [
    {
     "name": "stdout",
     "output_type": "stream",
     "text": [
      "Epoch 1/100\n",
      "239/239 [==============================] - 1s 2ms/step - loss: 0.2195\n",
      "Epoch 2/100\n",
      "239/239 [==============================] - 1s 2ms/step - loss: 0.2213\n",
      "Epoch 3/100\n",
      "239/239 [==============================] - 1s 2ms/step - loss: 0.2192\n",
      "Epoch 4/100\n",
      "239/239 [==============================] - 1s 2ms/step - loss: 0.2119\n",
      "Epoch 5/100\n",
      "239/239 [==============================] - 1s 2ms/step - loss: 0.2098\n",
      "Epoch 6/100\n",
      "239/239 [==============================] - 1s 2ms/step - loss: 0.2137\n",
      "Epoch 7/100\n",
      "239/239 [==============================] - 1s 2ms/step - loss: 0.2105\n",
      "Epoch 8/100\n",
      "239/239 [==============================] - 1s 2ms/step - loss: 0.2057\n",
      "Epoch 9/100\n",
      "239/239 [==============================] - 1s 2ms/step - loss: 0.2020\n",
      "Epoch 10/100\n",
      "239/239 [==============================] - 1s 2ms/step - loss: 0.2111\n",
      "Epoch 11/100\n",
      "239/239 [==============================] - 1s 2ms/step - loss: 0.1968\n",
      "Epoch 12/100\n",
      "239/239 [==============================] - 1s 2ms/step - loss: 0.2048\n",
      "Epoch 13/100\n",
      "239/239 [==============================] - 1s 2ms/step - loss: 0.1980\n",
      "Epoch 14/100\n",
      "239/239 [==============================] - 1s 2ms/step - loss: 0.1972\n",
      "Epoch 15/100\n",
      "239/239 [==============================] - 1s 2ms/step - loss: 0.1996\n",
      "Epoch 16/100\n",
      "239/239 [==============================] - 1s 2ms/step - loss: 0.1956\n",
      "Epoch 17/100\n",
      "239/239 [==============================] - 1s 3ms/step - loss: 0.1896\n",
      "Epoch 18/100\n",
      "239/239 [==============================] - 1s 2ms/step - loss: 0.1946\n",
      "Epoch 19/100\n",
      "239/239 [==============================] - 1s 2ms/step - loss: 0.1831\n",
      "Epoch 20/100\n",
      "239/239 [==============================] - 1s 2ms/step - loss: 0.1887\n",
      "Epoch 21/100\n",
      "239/239 [==============================] - 1s 2ms/step - loss: 0.1851\n",
      "Epoch 22/100\n",
      "239/239 [==============================] - 1s 2ms/step - loss: 0.1799\n",
      "Epoch 23/100\n",
      "239/239 [==============================] - 1s 2ms/step - loss: 0.1819\n",
      "Epoch 24/100\n",
      "239/239 [==============================] - 1s 2ms/step - loss: 0.1690\n",
      "Epoch 25/100\n",
      "239/239 [==============================] - 1s 2ms/step - loss: 0.1736\n",
      "Epoch 26/100\n",
      "239/239 [==============================] - 1s 2ms/step - loss: 0.1759\n",
      "Epoch 27/100\n",
      "239/239 [==============================] - 1s 2ms/step - loss: 0.1797\n",
      "Epoch 28/100\n",
      "239/239 [==============================] - 1s 2ms/step - loss: 0.1665\n",
      "Epoch 29/100\n",
      "239/239 [==============================] - 1s 2ms/step - loss: 0.1683\n",
      "Epoch 30/100\n",
      "239/239 [==============================] - 1s 2ms/step - loss: 0.1571\n",
      "Epoch 31/100\n",
      "239/239 [==============================] - 1s 2ms/step - loss: 0.1636\n",
      "Epoch 32/100\n",
      "239/239 [==============================] - 1s 2ms/step - loss: 0.1656\n",
      "Epoch 33/100\n",
      "239/239 [==============================] - 1s 2ms/step - loss: 0.1662\n",
      "Epoch 34/100\n",
      "239/239 [==============================] - 1s 2ms/step - loss: 0.1649\n",
      "Epoch 35/100\n",
      "239/239 [==============================] - 1s 2ms/step - loss: 0.1693\n",
      "Epoch 36/100\n",
      "239/239 [==============================] - 1s 2ms/step - loss: 0.1602\n",
      "Epoch 37/100\n",
      "239/239 [==============================] - 1s 2ms/step - loss: 0.1642\n",
      "Epoch 38/100\n",
      "239/239 [==============================] - 1s 2ms/step - loss: 0.1721\n",
      "Epoch 39/100\n",
      "239/239 [==============================] - 1s 2ms/step - loss: 0.1613\n",
      "Epoch 40/100\n",
      "239/239 [==============================] - 1s 2ms/step - loss: 0.1670\n",
      "Epoch 41/100\n",
      "239/239 [==============================] - 1s 2ms/step - loss: 0.1699\n",
      "Epoch 42/100\n",
      "239/239 [==============================] - 1s 2ms/step - loss: 0.1575\n",
      "Epoch 43/100\n",
      "239/239 [==============================] - 1s 2ms/step - loss: 0.1617\n",
      "Epoch 44/100\n",
      "239/239 [==============================] - 1s 2ms/step - loss: 0.1635\n",
      "Epoch 45/100\n",
      "239/239 [==============================] - 1s 2ms/step - loss: 0.1583\n",
      "Epoch 46/100\n",
      "239/239 [==============================] - 1s 2ms/step - loss: 0.1625\n",
      "Epoch 47/100\n",
      "239/239 [==============================] - 1s 2ms/step - loss: 0.1641\n",
      "Epoch 48/100\n",
      "239/239 [==============================] - 1s 2ms/step - loss: 0.1589\n",
      "Epoch 49/100\n",
      "239/239 [==============================] - 1s 2ms/step - loss: 0.1611\n",
      "Epoch 50/100\n",
      "239/239 [==============================] - 1s 2ms/step - loss: 0.1703\n",
      "Epoch 51/100\n",
      "239/239 [==============================] - 1s 2ms/step - loss: 0.1691\n",
      "Epoch 52/100\n",
      "239/239 [==============================] - 1s 2ms/step - loss: 0.1706\n",
      "Epoch 53/100\n",
      "239/239 [==============================] - 1s 2ms/step - loss: 0.1586\n",
      "Epoch 54/100\n",
      "239/239 [==============================] - 1s 2ms/step - loss: 0.1515\n",
      "Epoch 55/100\n",
      "239/239 [==============================] - 1s 2ms/step - loss: 0.1691\n",
      "Epoch 56/100\n",
      "239/239 [==============================] - 1s 2ms/step - loss: 0.1567\n",
      "Epoch 57/100\n",
      "239/239 [==============================] - 1s 2ms/step - loss: 0.1570\n",
      "Epoch 58/100\n",
      "239/239 [==============================] - 1s 2ms/step - loss: 0.1546\n",
      "Epoch 59/100\n",
      "239/239 [==============================] - 1s 2ms/step - loss: 0.1543\n",
      "Epoch 60/100\n",
      "239/239 [==============================] - 1s 2ms/step - loss: 0.1557\n",
      "Epoch 61/100\n",
      "239/239 [==============================] - 1s 2ms/step - loss: 0.1591\n",
      "Epoch 62/100\n",
      "239/239 [==============================] - 1s 2ms/step - loss: 0.1519\n",
      "Epoch 63/100\n",
      "239/239 [==============================] - 1s 2ms/step - loss: 0.1547\n",
      "Epoch 64/100\n",
      "239/239 [==============================] - 1s 2ms/step - loss: 0.1539\n",
      "Epoch 65/100\n",
      "239/239 [==============================] - 1s 2ms/step - loss: 0.1611\n",
      "Epoch 66/100\n",
      "239/239 [==============================] - 1s 2ms/step - loss: 0.1549\n",
      "Epoch 67/100\n",
      "239/239 [==============================] - 1s 2ms/step - loss: 0.1627\n",
      "Epoch 68/100\n",
      "239/239 [==============================] - 1s 2ms/step - loss: 0.1582\n",
      "Epoch 69/100\n",
      "239/239 [==============================] - 1s 2ms/step - loss: 0.1653\n",
      "Epoch 70/100\n",
      "239/239 [==============================] - 1s 2ms/step - loss: 0.1563\n",
      "Epoch 71/100\n",
      "239/239 [==============================] - 1s 2ms/step - loss: 0.1597\n",
      "Epoch 72/100\n",
      "239/239 [==============================] - 1s 2ms/step - loss: 0.1574A: 0s - loss: 0.1\n",
      "Epoch 73/100\n",
      "239/239 [==============================] - 1s 2ms/step - loss: 0.1585\n",
      "Epoch 74/100\n",
      "239/239 [==============================] - 1s 2ms/step - loss: 0.1509\n",
      "Epoch 75/100\n",
      "239/239 [==============================] - 1s 2ms/step - loss: 0.1561\n",
      "Epoch 76/100\n",
      "239/239 [==============================] - 1s 2ms/step - loss: 0.1520\n",
      "Epoch 77/100\n",
      "239/239 [==============================] - 1s 2ms/step - loss: 0.1472\n",
      "Epoch 78/100\n",
      "239/239 [==============================] - 1s 2ms/step - loss: 0.1512\n",
      "Epoch 79/100\n",
      "239/239 [==============================] - 1s 2ms/step - loss: 0.1551\n",
      "Epoch 80/100\n",
      "239/239 [==============================] - 1s 2ms/step - loss: 0.1608\n",
      "Epoch 81/100\n",
      "239/239 [==============================] - 1s 2ms/step - loss: 0.1591\n",
      "Epoch 82/100\n",
      "239/239 [==============================] - 1s 2ms/step - loss: 0.1533\n",
      "Epoch 83/100\n",
      "239/239 [==============================] - 1s 2ms/step - loss: 0.1648\n",
      "Epoch 84/100\n",
      "239/239 [==============================] - 1s 2ms/step - loss: 0.1523\n",
      "Epoch 85/100\n",
      "239/239 [==============================] - 1s 2ms/step - loss: 0.1608\n",
      "Epoch 86/100\n",
      "239/239 [==============================] - 1s 2ms/step - loss: 0.1532\n",
      "Epoch 87/100\n",
      "239/239 [==============================] - 1s 2ms/step - loss: 0.1615\n",
      "Epoch 88/100\n",
      "239/239 [==============================] - 1s 2ms/step - loss: 0.1608\n",
      "Epoch 89/100\n",
      "239/239 [==============================] - 1s 2ms/step - loss: 0.1535\n",
      "Epoch 90/100\n",
      "239/239 [==============================] - 1s 2ms/step - loss: 0.1499\n",
      "Epoch 91/100\n",
      "239/239 [==============================] - 1s 2ms/step - loss: 0.1586\n",
      "Epoch 92/100\n",
      "239/239 [==============================] - 1s 2ms/step - loss: 0.1582\n",
      "Epoch 93/100\n",
      "239/239 [==============================] - 1s 2ms/step - loss: 0.1574\n",
      "Epoch 94/100\n",
      "239/239 [==============================] - 1s 2ms/step - loss: 0.1566\n",
      "Epoch 95/100\n",
      "239/239 [==============================] - 1s 2ms/step - loss: 0.1524\n",
      "Epoch 96/100\n",
      "239/239 [==============================] - 1s 2ms/step - loss: 0.1682\n",
      "Epoch 97/100\n",
      "239/239 [==============================] - 1s 2ms/step - loss: 0.1534\n",
      "Epoch 98/100\n",
      "239/239 [==============================] - 1s 2ms/step - loss: 0.1573\n",
      "Epoch 99/100\n",
      "239/239 [==============================] - 1s 2ms/step - loss: 0.1594\n",
      "Epoch 100/100\n",
      "239/239 [==============================] - 1s 2ms/step - loss: 0.1565\n"
     ]
    },
    {
     "data": {
      "text/plain": [
       "<tensorflow.python.keras.callbacks.History at 0x23206c21108>"
      ]
     },
     "execution_count": 138,
     "metadata": {},
     "output_type": "execute_result"
    }
   ],
   "source": [
    "# Train the model\n",
    "# Use at least 10 epochs\n",
    "# Do not shuffle the data\n",
    "# Experiement with the batch size, but a smaller batch size is recommended\n",
    "model.fit(X_train, y_train, epochs=100, shuffle=False, batch_size=1, verbose=1)"
   ]
  },
  {
   "cell_type": "code",
   "execution_count": 139,
   "id": "cf391f41-edce-4fa4-a72f-8e8d5bdd2b5e",
   "metadata": {},
   "outputs": [
    {
     "name": "stdout",
     "output_type": "stream",
     "text": [
      "2/2 [==============================] - 0s 2ms/step - loss: 15.7100\n"
     ]
    },
    {
     "data": {
      "text/plain": [
       "15.709994316101074"
      ]
     },
     "execution_count": 139,
     "metadata": {},
     "output_type": "execute_result"
    }
   ],
   "source": [
    "# Evaluate the model\n",
    "model.evaluate(X_test, y_test)"
   ]
  },
  {
   "cell_type": "code",
   "execution_count": 140,
   "id": "09974f9a-6d29-4890-8b08-8b264f395073",
   "metadata": {},
   "outputs": [],
   "source": [
    "# Make some predictions\n",
    "predicted = model.predict(X_test)"
   ]
  },
  {
   "cell_type": "code",
   "execution_count": 141,
   "id": "f93b039a-fd71-4542-bab5-0ac63486abb5",
   "metadata": {},
   "outputs": [],
   "source": [
    "# Recover the original prices instead of the scaled version\n",
    "predicted_prices = scaler.inverse_transform(predicted)\n",
    "real_prices = scaler.inverse_transform(y_test.reshape(-1, 1))"
   ]
  },
  {
   "cell_type": "code",
   "execution_count": 142,
   "id": "28c63dfe-e912-4f8d-89dc-cccf82ab8bdd",
   "metadata": {},
   "outputs": [
    {
     "data": {
      "text/html": [
       "<div>\n",
       "<style scoped>\n",
       "    .dataframe tbody tr th:only-of-type {\n",
       "        vertical-align: middle;\n",
       "    }\n",
       "\n",
       "    .dataframe tbody tr th {\n",
       "        vertical-align: top;\n",
       "    }\n",
       "\n",
       "    .dataframe thead th {\n",
       "        text-align: right;\n",
       "    }\n",
       "</style>\n",
       "<table border=\"1\" class=\"dataframe\">\n",
       "  <thead>\n",
       "    <tr style=\"text-align: right;\">\n",
       "      <th></th>\n",
       "      <th>Real</th>\n",
       "      <th>Predicted</th>\n",
       "    </tr>\n",
       "    <tr>\n",
       "      <th>date</th>\n",
       "      <th></th>\n",
       "      <th></th>\n",
       "    </tr>\n",
       "  </thead>\n",
       "  <tbody>\n",
       "    <tr>\n",
       "      <th>2021-01-31</th>\n",
       "      <td>108.249092</td>\n",
       "      <td>-10.416168</td>\n",
       "    </tr>\n",
       "    <tr>\n",
       "      <th>2021-02-28</th>\n",
       "      <td>769.163086</td>\n",
       "      <td>-25.071230</td>\n",
       "    </tr>\n",
       "    <tr>\n",
       "      <th>2021-03-31</th>\n",
       "      <td>-65.527167</td>\n",
       "      <td>-24.930073</td>\n",
       "    </tr>\n",
       "    <tr>\n",
       "      <th>2021-04-30</th>\n",
       "      <td>-55.726084</td>\n",
       "      <td>-24.228443</td>\n",
       "    </tr>\n",
       "    <tr>\n",
       "      <th>2021-05-31</th>\n",
       "      <td>-75.005210</td>\n",
       "      <td>-23.427023</td>\n",
       "    </tr>\n",
       "  </tbody>\n",
       "</table>\n",
       "</div>"
      ],
      "text/plain": [
       "                  Real  Predicted\n",
       "date                             \n",
       "2021-01-31  108.249092 -10.416168\n",
       "2021-02-28  769.163086 -25.071230\n",
       "2021-03-31  -65.527167 -24.930073\n",
       "2021-04-30  -55.726084 -24.228443\n",
       "2021-05-31  -75.005210 -23.427023"
      ]
     },
     "execution_count": 142,
     "metadata": {},
     "output_type": "execute_result"
    }
   ],
   "source": [
    "# Create a DataFrame of Real and Predicted values\n",
    "housing = pd.DataFrame({\n",
    "    \"Real\": real_prices.ravel(),\n",
    "    \"Predicted\": predicted_prices.ravel()\n",
    "}, index = metro_df.index[-len(real_prices): ]) \n",
    "\n",
    "housing.tail()"
   ]
  },
  {
   "cell_type": "code",
   "execution_count": 143,
   "id": "f63434aa-8196-43e4-96ea-ee93c03e1a16",
   "metadata": {},
   "outputs": [
    {
     "data": {
      "text/plain": [
       "<AxesSubplot:xlabel='date'>"
      ]
     },
     "execution_count": 143,
     "metadata": {},
     "output_type": "execute_result"
    },
    {
     "data": {
      "image/png": "[encoded data removed]",
      "text/plain": [
       "<Figure size 432x288 with 1 Axes>"
      ]
     },
     "metadata": {
      "needs_background": "light"
     },
     "output_type": "display_data"
    }
   ],
   "source": [
    "# Plot the real vs predicted values as a line chart\n",
    "housing.plot()"
   ]
  },
  {
   "cell_type": "code",
   "execution_count": null,
   "id": "d74cab46-c31b-4222-860a-41231e1b5f97",
   "metadata": {},
   "outputs": [],
   "source": []
  },
  {
   "cell_type": "code",
   "execution_count": null,
   "id": "3d649de0-ef94-466e-8335-98da24d4052a",
   "metadata": {},
   "outputs": [],
   "source": []
  },
  {
   "cell_type": "code",
   "execution_count": 103,
   "id": "269fdfad-0149-46a4-885c-a149d269f633",
   "metadata": {},
   "outputs": [],
   "source": [
    "#Lazy Predict - Regression\n",
    "\n",
    "#from lazypredict.Supervised import LazyClassifier\n",
    "#from sklearn.datasets import load_breast_cancer\n",
    "#from sklearn.model_selection import train_test_split\n",
    "\n",
    "#data = load_breast_cancer()\n",
    "#X = data.data\n",
    "#y= data.target\n",
    "\n",
    "#X_train, X_test, y_train, y_test = train_test_split(X, y,test_size=.5,random_state =123)\n",
    "\n",
    "#clf = LazyClassifier(verbose=0,ignore_warnings=True, custom_metric=None)\n",
    "#models,predictions = clf.fit(X_train, X_test, y_train, y_test)\n",
    "\n",
    "#print(models)"
   ]
  },
  {
   "cell_type": "code",
   "execution_count": null,
   "id": "f21df48e-e1ad-4ef5-ade1-62717cbaa53d",
   "metadata": {},
   "outputs": [],
   "source": []
  },
  {
   "cell_type": "code",
   "execution_count": null,
   "id": "60bcd885-dbd6-4d52-bd55-658ee97d7801",
   "metadata": {},
   "outputs": [],
   "source": []
  },
  {
   "cell_type": "code",
   "execution_count": null,
   "id": "642d07e8-b864-4c2b-8f29-754941982e8b",
   "metadata": {},
   "outputs": [],
   "source": []
  },
  {
   "cell_type": "code",
   "execution_count": null,
   "id": "e536ce44-73a0-4292-b9f1-4a0c3358bc42",
   "metadata": {},
   "outputs": [],
   "source": []
  }
 ],
 "metadata": {
  "kernelspec": {
   "display_name": "Python 3",
   "language": "python",
   "name": "python3"
  },
  "language_info": {
   "codemirror_mode": {
    "name": "ipython",
    "version": 3
   },
   "file_extension": ".py",
   "mimetype": "text/x-python",
   "name": "python",
   "nbconvert_exporter": "python",
   "pygments_lexer": "ipython3",
   "version": "3.7.10"
  }
 },
 "nbformat": 4,
 "nbformat_minor": 5
}
